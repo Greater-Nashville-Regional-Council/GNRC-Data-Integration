{
 "cells": [
  {
   "cell_type": "markdown",
   "id": "65aff7ad",
   "metadata": {},
   "source": [
    "###### Imports and Settings"
   ]
  },
  {
   "cell_type": "code",
   "execution_count": 10,
   "id": "97aedf0e",
   "metadata": {},
   "outputs": [],
   "source": [
    "import pandas as pd\n",
    "import numpy as np\n",
    "import requests\n",
    "import pickle\n",
    "from collections import deque\n",
    "from functools import reduce\n",
    "pd.set_option('display.max_columns', None)\n",
    "pd.set_option('display.max_rows', None)\n",
    "pd.set_option('display.width', 150)\n",
    "from warnings import simplefilter\n",
    "simplefilter(action=\"ignore\", category=pd.errors.PerformanceWarning)\n",
    "pd.options.mode.chained_assignment = None  # default='warn'\n",
    "import requests\n",
    "\n",
    "requests.adapters.DEFAULT_RETRIES = 5"
   ]
  },
  {
   "cell_type": "markdown",
   "id": "ea503439",
   "metadata": {},
   "source": [
    "# American Community Survey 2006-2010 5 Year Estimates"
   ]
  },
  {
   "cell_type": "code",
   "execution_count": 11,
   "id": "12d9bb2c",
   "metadata": {},
   "outputs": [],
   "source": [
    "#read in API key\n",
    "with open('api_keys.pkl', 'rb') as keys_file:\n",
    "        keys_dict_2 = pickle.load(keys_file)"
   ]
  },
  {
   "cell_type": "code",
   "execution_count": 12,
   "id": "74a63036",
   "metadata": {},
   "outputs": [],
   "source": [
    "#variable containing Census API key\n",
    "api_key = keys_dict_2['CENSUS']"
   ]
  },
  {
   "cell_type": "code",
   "execution_count": 13,
   "id": "d03ea3e1",
   "metadata": {},
   "outputs": [],
   "source": [
    "#list of FIPS codes\n",
    "GNRC = ['111', '161', '125', '083', '085', '043', '021', '147', '165', '037', '189', '169', '187', '149', '119']\n",
    "KY = ['003', '213'] \n",
    "qlaces = ['1600000US4700200', '1600000US4702180', '1600000US4704620', '1600000US4705140', '1600000US4708280', '1600000US4709880', \n",
    "          '1600000US4711980', '1600000US4713080', '1600000US4715160', '1600000US4716540', '1600000US4716980', '1600000US4718420',\n",
    "          '1600000US4718820', '1600000US4720620', '1600000US4721400', '1600000US4722360', '1600000US4724320', '1600000US4725440',\n",
    "          '1600000US4727020',  '1600000US4727740', '1600000US4728540', '1600000US4729920', '1600000US4730960', '1600000US4733280',\n",
    "          '1600000US4739660', '1600000US4741200', '1600000US4740160', '1600000US4741520', '1600000US4744840', '1600000US4748980',\n",
    "          '1600000US4749460', '1600000US4750780', '1600000US4751080', '1600000US4751560', '1600000US4752006', '1600000US4752820',\n",
    "          '1600000US4753460', '1600000US4754780', '1600000US4757480', '1600000US4759560', '1600000US4760280', '1600000US4763140',\n",
    "          '1600000US4769080', '1600000US4769420', '1600000US4770580', '1600000US4770500', '1600000US4773460', '1600000US4773900',\n",
    "          '1600000US4776860', '1600000US4778320', '1600000US4778560', '1600000US4779420', '1600000US4779980', '1600000US4780200',\n",
    "          '1600000US2128918', '1600000US2169114']"
   ]
  },
  {
   "cell_type": "markdown",
   "id": "c8cdf3fa",
   "metadata": {},
   "source": [
    "## Read In Data Guide"
   ]
  },
  {
   "cell_type": "code",
   "execution_count": 14,
   "id": "d7017a0c",
   "metadata": {},
   "outputs": [],
   "source": [
    "dataguide = pd.read_csv('../../Data Guides/DATA GUIDE ACS 2010 5YR.csv', dtype = str)\n",
    "dataguide['ID'] = dataguide['ID'].astype(int)"
   ]
  },
  {
   "cell_type": "code",
   "execution_count": 15,
   "id": "2bff8941",
   "metadata": {},
   "outputs": [],
   "source": [
    "dg1 = dataguide[dataguide['ID'].between(1, 46)]\n",
    "dg2 = dataguide[dataguide['ID'].between(47, 92)]\n",
    "dg3 = dataguide[dataguide['ID'].between(93, 138)]\n",
    "dg4 = dataguide[dataguide['ID'].between(139, 184)]\n",
    "dg5 = dataguide[dataguide['ID'].between(185, 230)]\n",
    "dg6 = dataguide[dataguide['ID'].between(231, 276)]\n",
    "dg7 = dataguide[dataguide['ID'].between(277, 322)]\n",
    "dg8 = dataguide[dataguide['ID'].between(323, 368)]\n",
    "dg9 = dataguide[dataguide['ID'].between(369, 414)]\n",
    "dg10 = dataguide[dataguide['ID'].between(415, 460)]\n",
    "dg11 = dataguide[dataguide['ID'].between(461, 506)]\n",
    "dg12 = dataguide[dataguide['ID'].between(507, 552)]\n",
    "dg13 = dataguide[dataguide['ID'].between(553, 598)]\n",
    "dg14 = dataguide[dataguide['ID'].between(599, 644)]\n",
    "dg15 = dataguide[dataguide['ID'].between(645, 690)]\n",
    "dg16 = dataguide[dataguide['ID'].between(691, 736)]\n",
    "dg17 = dataguide[dataguide['ID'].between(737, 782)]\n",
    "dg18 = dataguide[dataguide['ID'].between(783, 828)]\n",
    "dg19 = dataguide[dataguide['ID'].between(829, 874)]\n",
    "dg20 = dataguide[dataguide['ID'].between(875, 920)]\n",
    "dg21 = dataguide[dataguide['ID'].between(921, 966)]\n",
    "dg22 = dataguide[dataguide['ID'].between(967, 1012)]\n",
    "dg23 = dataguide[dataguide['ID'].between(1013, 1058)]\n",
    "dg24 = dataguide[dataguide['ID'].between(1059, 1104)]\n",
    "dg25 = dataguide[dataguide['ID'].between(1105, 1150)]\n",
    "dg26 = dataguide[dataguide['ID'].between(1151, 1196)]\n",
    "dg27 = dataguide[dataguide['ID'].between(1197, 1242)]\n",
    "dg28 = dataguide[dataguide['ID'].between(1243, 1287)]\n",
    "dg29 = dataguide[dataguide['ID'].between(1288, 1332)]\n",
    "dg30 = dataguide[dataguide['ID'].between(1333, 1377)]\n",
    "dg31 = dataguide[dataguide['ID'].between(1378, 1422)]\n",
    "dg32 = dataguide[dataguide['ID'].between(1423, 1467)]\n",
    "dg33 = dataguide[dataguide['ID'].between(1468, 1512)]\n",
    "dg34 = dataguide[dataguide['ID'].between(1513, 1557)]\n",
    "dg35 = dataguide[dataguide['ID'].between(1558, 1602)]\n",
    "dg36 = dataguide[dataguide['ID'].between(1603, 1647)]\n",
    "dg37 = dataguide[dataguide['ID'].between(1648, 1692)]\n",
    "dg38 = dataguide[dataguide['ID'].between(1693, 1737)]\n",
    "dg39 = dataguide[dataguide['ID'].between(1738, 1782)]\n",
    "dg40 = dataguide[dataguide['ID'].between(1783, 1827)]\n",
    "dg41 = dataguide[dataguide['ID'].between(1828, 1872)]\n",
    "dg42 = dataguide[dataguide['ID'].between(1873, 1917)]\n",
    "dg43 = dataguide[dataguide['ID'].between(1918, 1962)]\n",
    "dg44 = dataguide[dataguide['ID'].between(1963, 2007)]\n",
    "dg45 = dataguide[dataguide['ID'].between(2008, 2052)]\n",
    "dg46 = dataguide[dataguide['ID'].between(2053, 2097)]\n",
    "dg47 = dataguide[dataguide['ID'].between(2098, 2142)]\n",
    "dg48 = dataguide[dataguide['ID'].between(2143, 2187)]\n",
    "dg49 = dataguide[dataguide['ID'].between(2188, 2232)]\n",
    "dg50 = dataguide[dataguide['ID'].between(2233, 2277)]\n",
    "dg51 = dataguide[dataguide['ID'].between(2278, 2322)]\n",
    "dg52 = dataguide[dataguide['ID'].between(2323, 2367)]\n",
    "dg53 = dataguide[dataguide['ID'].between(2368, 2411)]"
   ]
  },
  {
   "cell_type": "code",
   "execution_count": 16,
   "id": "25d01bfb",
   "metadata": {},
   "outputs": [],
   "source": [
    "# #make a list of the dataguide dataframes\n",
    "# beginning_str = 'dg'\n",
    "# start = 1\n",
    "# end = 53\n",
    "\n",
    "# dfs = []\n",
    "# for i in range(end):\n",
    "#     dataguide = 'dg' + str(start + i)\n",
    "#     dfs.append(dataguide)"
   ]
  },
  {
   "cell_type": "code",
   "execution_count": 17,
   "id": "005e2fed",
   "metadata": {},
   "outputs": [],
   "source": [
    "dfs = [dg1, dg2, dg3, dg4, dg5, dg6, dg7, dg8, dg9, dg10, dg11, dg12, dg13, dg14, dg15, dg16, dg17, dg18, dg19, dg20, dg21, dg22, dg23, dg24, dg25]#, dg26, \n",
    "#        dg27, dg28, dg29, dg30, dg31, dg32, dg33, dg34, dg35, dg36, dg37, dg38, dg39, dg40, dg41, dg42, dg43, dg44, dg45, dg46, dg47, dg48, dg49, dg50, \n",
    "#        dg51, dg52, dg53]"
   ]
  },
  {
   "cell_type": "code",
   "execution_count": 18,
   "id": "3972bc82",
   "metadata": {},
   "outputs": [],
   "source": [
    "droppers = ['ID', 'Data Point']\n",
    "for df in dfs:\n",
    "    df.drop(droppers, axis = 1, inplace = True)"
   ]
  },
  {
   "cell_type": "markdown",
   "id": "3a2e5f00",
   "metadata": {},
   "source": [
    "This is a heavy request, so if you have any issues ping the Census Bureau IP and make sure the server is running correctly by putting this into the command line terminal: ping api.census.gov  "
   ]
  },
  {
   "cell_type": "markdown",
   "id": "801dfa5f",
   "metadata": {},
   "source": [
    "## Checking if it's the new firewall installed by IT...."
   ]
  },
  {
   "cell_type": "code",
   "execution_count": 19,
   "id": "ba7facb7",
   "metadata": {},
   "outputs": [],
   "source": [
    "#url string and list parameters for column head and tail\n",
    "url_str= 'https://api.census.gov/data/2010/acs/acs5?key='+api_key\n",
    "head1 = 'NAME' \n",
    "head2 = 'GEO_ID'\n",
    "tail_cols1 = 'StateFIPS'\n",
    "tail_cols2 = 'GeoFIPS'"
   ]
  },
  {
   "cell_type": "code",
   "execution_count": 20,
   "id": "bd9419f7",
   "metadata": {},
   "outputs": [],
   "source": [
    "headers = {\n",
    "    \"User-Agent\": \"Mozilla/5.0 (Windows NT 10.0; Win64; x64; rv:66.0) Gecko/20100101 Firefox/66.0\",\n",
    "    \"Accept-Encoding\": \"*\",\n",
    "    \"Connection\": \"keep-alive\"\n",
    "}"
   ]
  },
  {
   "cell_type": "code",
   "execution_count": 21,
   "id": "9c259f3c",
   "metadata": {},
   "outputs": [
    {
     "ename": "ConnectionError",
     "evalue": "HTTPSConnectionPool(host='api.census.gov', port=443): Max retries exceeded with url: /data/2010/acs/acs5?key=24fc7d81b74510d599f702dbd408fb18e1466d81&get=NAME%2CGEO_ID%2CB20005A_050E%2CB20005A_051E%2CB20005A_052E%2CB20005A_053E%2CB20005A_054E%2CB20005A_055E%2CB20005A_056E%2CB20005A_057E%2CB20005A_058E%2CB20005A_059E%2CB20005A_060E%2CB20005A_061E%2CB20005A_062E%2CB20005A_063E%2CB20005A_064E%2CB20005A_065E%2CB20005A_066E%2CB20005A_067E%2CB20005A_068E%2CB20005A_069E%2CB20005A_070E%2CB20005A_071E%2CB20005A_072E%2CB20005A_073E%2CB20005A_074E%2CB20005A_075E%2CB20005A_076E%2CB20005A_077E%2CB20005A_078E%2CB20005A_079E%2CB20005A_080E%2CB20005A_081E%2CB20005A_082E%2CB20005A_083E%2CB20005A_084E%2CB20005A_085E%2CB20005A_086E%2CB20005A_087E%2CB20005A_088E%2CB20005A_089E%2CB20005A_090E%2CB20005A_091E%2CB20005A_092E%2CB20005A_093E%2CB20005A_094E%2CB20005A_095E&for=us%3A%2A (Caused by ProtocolError('Connection aborted.', ConnectionResetError(10054, 'An existing connection was forcibly closed by the remote host', None, 10054, None)))",
     "output_type": "error",
     "traceback": [
      "\u001b[1;31m---------------------------------------------------------------------------\u001b[0m",
      "\u001b[1;31mConnectionResetError\u001b[0m                      Traceback (most recent call last)",
      "File \u001b[1;32m~\\Anaconda3\\lib\\site-packages\\urllib3\\connectionpool.py:703\u001b[0m, in \u001b[0;36mHTTPConnectionPool.urlopen\u001b[1;34m(self, method, url, body, headers, retries, redirect, assert_same_host, timeout, pool_timeout, release_conn, chunked, body_pos, **response_kw)\u001b[0m\n\u001b[0;32m    702\u001b[0m \u001b[38;5;66;03m# Make the request on the httplib connection object.\u001b[39;00m\n\u001b[1;32m--> 703\u001b[0m httplib_response \u001b[38;5;241m=\u001b[39m \u001b[38;5;28;43mself\u001b[39;49m\u001b[38;5;241;43m.\u001b[39;49m\u001b[43m_make_request\u001b[49m\u001b[43m(\u001b[49m\n\u001b[0;32m    704\u001b[0m \u001b[43m    \u001b[49m\u001b[43mconn\u001b[49m\u001b[43m,\u001b[49m\n\u001b[0;32m    705\u001b[0m \u001b[43m    \u001b[49m\u001b[43mmethod\u001b[49m\u001b[43m,\u001b[49m\n\u001b[0;32m    706\u001b[0m \u001b[43m    \u001b[49m\u001b[43murl\u001b[49m\u001b[43m,\u001b[49m\n\u001b[0;32m    707\u001b[0m \u001b[43m    \u001b[49m\u001b[43mtimeout\u001b[49m\u001b[38;5;241;43m=\u001b[39;49m\u001b[43mtimeout_obj\u001b[49m\u001b[43m,\u001b[49m\n\u001b[0;32m    708\u001b[0m \u001b[43m    \u001b[49m\u001b[43mbody\u001b[49m\u001b[38;5;241;43m=\u001b[39;49m\u001b[43mbody\u001b[49m\u001b[43m,\u001b[49m\n\u001b[0;32m    709\u001b[0m \u001b[43m    \u001b[49m\u001b[43mheaders\u001b[49m\u001b[38;5;241;43m=\u001b[39;49m\u001b[43mheaders\u001b[49m\u001b[43m,\u001b[49m\n\u001b[0;32m    710\u001b[0m \u001b[43m    \u001b[49m\u001b[43mchunked\u001b[49m\u001b[38;5;241;43m=\u001b[39;49m\u001b[43mchunked\u001b[49m\u001b[43m,\u001b[49m\n\u001b[0;32m    711\u001b[0m \u001b[43m\u001b[49m\u001b[43m)\u001b[49m\n\u001b[0;32m    713\u001b[0m \u001b[38;5;66;03m# If we're going to release the connection in ``finally:``, then\u001b[39;00m\n\u001b[0;32m    714\u001b[0m \u001b[38;5;66;03m# the response doesn't need to know about the connection. Otherwise\u001b[39;00m\n\u001b[0;32m    715\u001b[0m \u001b[38;5;66;03m# it will also try to release it and we'll have a double-release\u001b[39;00m\n\u001b[0;32m    716\u001b[0m \u001b[38;5;66;03m# mess.\u001b[39;00m\n",
      "File \u001b[1;32m~\\Anaconda3\\lib\\site-packages\\urllib3\\connectionpool.py:386\u001b[0m, in \u001b[0;36mHTTPConnectionPool._make_request\u001b[1;34m(self, conn, method, url, timeout, chunked, **httplib_request_kw)\u001b[0m\n\u001b[0;32m    385\u001b[0m \u001b[38;5;28;01mtry\u001b[39;00m:\n\u001b[1;32m--> 386\u001b[0m     \u001b[38;5;28;43mself\u001b[39;49m\u001b[38;5;241;43m.\u001b[39;49m\u001b[43m_validate_conn\u001b[49m\u001b[43m(\u001b[49m\u001b[43mconn\u001b[49m\u001b[43m)\u001b[49m\n\u001b[0;32m    387\u001b[0m \u001b[38;5;28;01mexcept\u001b[39;00m (SocketTimeout, BaseSSLError) \u001b[38;5;28;01mas\u001b[39;00m e:\n\u001b[0;32m    388\u001b[0m     \u001b[38;5;66;03m# Py2 raises this as a BaseSSLError, Py3 raises it as socket timeout.\u001b[39;00m\n",
      "File \u001b[1;32m~\\Anaconda3\\lib\\site-packages\\urllib3\\connectionpool.py:1042\u001b[0m, in \u001b[0;36mHTTPSConnectionPool._validate_conn\u001b[1;34m(self, conn)\u001b[0m\n\u001b[0;32m   1041\u001b[0m \u001b[38;5;28;01mif\u001b[39;00m \u001b[38;5;129;01mnot\u001b[39;00m \u001b[38;5;28mgetattr\u001b[39m(conn, \u001b[38;5;124m\"\u001b[39m\u001b[38;5;124msock\u001b[39m\u001b[38;5;124m\"\u001b[39m, \u001b[38;5;28;01mNone\u001b[39;00m):  \u001b[38;5;66;03m# AppEngine might not have  `.sock`\u001b[39;00m\n\u001b[1;32m-> 1042\u001b[0m     \u001b[43mconn\u001b[49m\u001b[38;5;241;43m.\u001b[39;49m\u001b[43mconnect\u001b[49m\u001b[43m(\u001b[49m\u001b[43m)\u001b[49m\n\u001b[0;32m   1044\u001b[0m \u001b[38;5;28;01mif\u001b[39;00m \u001b[38;5;129;01mnot\u001b[39;00m conn\u001b[38;5;241m.\u001b[39mis_verified:\n",
      "File \u001b[1;32m~\\Anaconda3\\lib\\site-packages\\urllib3\\connection.py:414\u001b[0m, in \u001b[0;36mHTTPSConnection.connect\u001b[1;34m(self)\u001b[0m\n\u001b[0;32m    412\u001b[0m     context\u001b[38;5;241m.\u001b[39mload_default_certs()\n\u001b[1;32m--> 414\u001b[0m \u001b[38;5;28mself\u001b[39m\u001b[38;5;241m.\u001b[39msock \u001b[38;5;241m=\u001b[39m \u001b[43mssl_wrap_socket\u001b[49m\u001b[43m(\u001b[49m\n\u001b[0;32m    415\u001b[0m \u001b[43m    \u001b[49m\u001b[43msock\u001b[49m\u001b[38;5;241;43m=\u001b[39;49m\u001b[43mconn\u001b[49m\u001b[43m,\u001b[49m\n\u001b[0;32m    416\u001b[0m \u001b[43m    \u001b[49m\u001b[43mkeyfile\u001b[49m\u001b[38;5;241;43m=\u001b[39;49m\u001b[38;5;28;43mself\u001b[39;49m\u001b[38;5;241;43m.\u001b[39;49m\u001b[43mkey_file\u001b[49m\u001b[43m,\u001b[49m\n\u001b[0;32m    417\u001b[0m \u001b[43m    \u001b[49m\u001b[43mcertfile\u001b[49m\u001b[38;5;241;43m=\u001b[39;49m\u001b[38;5;28;43mself\u001b[39;49m\u001b[38;5;241;43m.\u001b[39;49m\u001b[43mcert_file\u001b[49m\u001b[43m,\u001b[49m\n\u001b[0;32m    418\u001b[0m \u001b[43m    \u001b[49m\u001b[43mkey_password\u001b[49m\u001b[38;5;241;43m=\u001b[39;49m\u001b[38;5;28;43mself\u001b[39;49m\u001b[38;5;241;43m.\u001b[39;49m\u001b[43mkey_password\u001b[49m\u001b[43m,\u001b[49m\n\u001b[0;32m    419\u001b[0m \u001b[43m    \u001b[49m\u001b[43mca_certs\u001b[49m\u001b[38;5;241;43m=\u001b[39;49m\u001b[38;5;28;43mself\u001b[39;49m\u001b[38;5;241;43m.\u001b[39;49m\u001b[43mca_certs\u001b[49m\u001b[43m,\u001b[49m\n\u001b[0;32m    420\u001b[0m \u001b[43m    \u001b[49m\u001b[43mca_cert_dir\u001b[49m\u001b[38;5;241;43m=\u001b[39;49m\u001b[38;5;28;43mself\u001b[39;49m\u001b[38;5;241;43m.\u001b[39;49m\u001b[43mca_cert_dir\u001b[49m\u001b[43m,\u001b[49m\n\u001b[0;32m    421\u001b[0m \u001b[43m    \u001b[49m\u001b[43mca_cert_data\u001b[49m\u001b[38;5;241;43m=\u001b[39;49m\u001b[38;5;28;43mself\u001b[39;49m\u001b[38;5;241;43m.\u001b[39;49m\u001b[43mca_cert_data\u001b[49m\u001b[43m,\u001b[49m\n\u001b[0;32m    422\u001b[0m \u001b[43m    \u001b[49m\u001b[43mserver_hostname\u001b[49m\u001b[38;5;241;43m=\u001b[39;49m\u001b[43mserver_hostname\u001b[49m\u001b[43m,\u001b[49m\n\u001b[0;32m    423\u001b[0m \u001b[43m    \u001b[49m\u001b[43mssl_context\u001b[49m\u001b[38;5;241;43m=\u001b[39;49m\u001b[43mcontext\u001b[49m\u001b[43m,\u001b[49m\n\u001b[0;32m    424\u001b[0m \u001b[43m    \u001b[49m\u001b[43mtls_in_tls\u001b[49m\u001b[38;5;241;43m=\u001b[39;49m\u001b[43mtls_in_tls\u001b[49m\u001b[43m,\u001b[49m\n\u001b[0;32m    425\u001b[0m \u001b[43m\u001b[49m\u001b[43m)\u001b[49m\n\u001b[0;32m    427\u001b[0m \u001b[38;5;66;03m# If we're using all defaults and the connection\u001b[39;00m\n\u001b[0;32m    428\u001b[0m \u001b[38;5;66;03m# is TLSv1 or TLSv1.1 we throw a DeprecationWarning\u001b[39;00m\n\u001b[0;32m    429\u001b[0m \u001b[38;5;66;03m# for the host.\u001b[39;00m\n",
      "File \u001b[1;32m~\\Anaconda3\\lib\\site-packages\\urllib3\\util\\ssl_.py:449\u001b[0m, in \u001b[0;36mssl_wrap_socket\u001b[1;34m(sock, keyfile, certfile, cert_reqs, ca_certs, server_hostname, ssl_version, ciphers, ssl_context, ca_cert_dir, key_password, ca_cert_data, tls_in_tls)\u001b[0m\n\u001b[0;32m    448\u001b[0m \u001b[38;5;28;01mif\u001b[39;00m send_sni:\n\u001b[1;32m--> 449\u001b[0m     ssl_sock \u001b[38;5;241m=\u001b[39m \u001b[43m_ssl_wrap_socket_impl\u001b[49m\u001b[43m(\u001b[49m\n\u001b[0;32m    450\u001b[0m \u001b[43m        \u001b[49m\u001b[43msock\u001b[49m\u001b[43m,\u001b[49m\u001b[43m \u001b[49m\u001b[43mcontext\u001b[49m\u001b[43m,\u001b[49m\u001b[43m \u001b[49m\u001b[43mtls_in_tls\u001b[49m\u001b[43m,\u001b[49m\u001b[43m \u001b[49m\u001b[43mserver_hostname\u001b[49m\u001b[38;5;241;43m=\u001b[39;49m\u001b[43mserver_hostname\u001b[49m\n\u001b[0;32m    451\u001b[0m \u001b[43m    \u001b[49m\u001b[43m)\u001b[49m\n\u001b[0;32m    452\u001b[0m \u001b[38;5;28;01melse\u001b[39;00m:\n",
      "File \u001b[1;32m~\\Anaconda3\\lib\\site-packages\\urllib3\\util\\ssl_.py:493\u001b[0m, in \u001b[0;36m_ssl_wrap_socket_impl\u001b[1;34m(sock, ssl_context, tls_in_tls, server_hostname)\u001b[0m\n\u001b[0;32m    492\u001b[0m \u001b[38;5;28;01mif\u001b[39;00m server_hostname:\n\u001b[1;32m--> 493\u001b[0m     \u001b[38;5;28;01mreturn\u001b[39;00m \u001b[43mssl_context\u001b[49m\u001b[38;5;241;43m.\u001b[39;49m\u001b[43mwrap_socket\u001b[49m\u001b[43m(\u001b[49m\u001b[43msock\u001b[49m\u001b[43m,\u001b[49m\u001b[43m \u001b[49m\u001b[43mserver_hostname\u001b[49m\u001b[38;5;241;43m=\u001b[39;49m\u001b[43mserver_hostname\u001b[49m\u001b[43m)\u001b[49m\n\u001b[0;32m    494\u001b[0m \u001b[38;5;28;01melse\u001b[39;00m:\n",
      "File \u001b[1;32m~\\Anaconda3\\lib\\ssl.py:500\u001b[0m, in \u001b[0;36mSSLContext.wrap_socket\u001b[1;34m(self, sock, server_side, do_handshake_on_connect, suppress_ragged_eofs, server_hostname, session)\u001b[0m\n\u001b[0;32m    494\u001b[0m \u001b[38;5;28;01mdef\u001b[39;00m \u001b[38;5;21mwrap_socket\u001b[39m(\u001b[38;5;28mself\u001b[39m, sock, server_side\u001b[38;5;241m=\u001b[39m\u001b[38;5;28;01mFalse\u001b[39;00m,\n\u001b[0;32m    495\u001b[0m                 do_handshake_on_connect\u001b[38;5;241m=\u001b[39m\u001b[38;5;28;01mTrue\u001b[39;00m,\n\u001b[0;32m    496\u001b[0m                 suppress_ragged_eofs\u001b[38;5;241m=\u001b[39m\u001b[38;5;28;01mTrue\u001b[39;00m,\n\u001b[0;32m    497\u001b[0m                 server_hostname\u001b[38;5;241m=\u001b[39m\u001b[38;5;28;01mNone\u001b[39;00m, session\u001b[38;5;241m=\u001b[39m\u001b[38;5;28;01mNone\u001b[39;00m):\n\u001b[0;32m    498\u001b[0m     \u001b[38;5;66;03m# SSLSocket class handles server_hostname encoding before it calls\u001b[39;00m\n\u001b[0;32m    499\u001b[0m     \u001b[38;5;66;03m# ctx._wrap_socket()\u001b[39;00m\n\u001b[1;32m--> 500\u001b[0m     \u001b[38;5;28;01mreturn\u001b[39;00m \u001b[38;5;28;43mself\u001b[39;49m\u001b[38;5;241;43m.\u001b[39;49m\u001b[43msslsocket_class\u001b[49m\u001b[38;5;241;43m.\u001b[39;49m\u001b[43m_create\u001b[49m\u001b[43m(\u001b[49m\n\u001b[0;32m    501\u001b[0m \u001b[43m        \u001b[49m\u001b[43msock\u001b[49m\u001b[38;5;241;43m=\u001b[39;49m\u001b[43msock\u001b[49m\u001b[43m,\u001b[49m\n\u001b[0;32m    502\u001b[0m \u001b[43m        \u001b[49m\u001b[43mserver_side\u001b[49m\u001b[38;5;241;43m=\u001b[39;49m\u001b[43mserver_side\u001b[49m\u001b[43m,\u001b[49m\n\u001b[0;32m    503\u001b[0m \u001b[43m        \u001b[49m\u001b[43mdo_handshake_on_connect\u001b[49m\u001b[38;5;241;43m=\u001b[39;49m\u001b[43mdo_handshake_on_connect\u001b[49m\u001b[43m,\u001b[49m\n\u001b[0;32m    504\u001b[0m \u001b[43m        \u001b[49m\u001b[43msuppress_ragged_eofs\u001b[49m\u001b[38;5;241;43m=\u001b[39;49m\u001b[43msuppress_ragged_eofs\u001b[49m\u001b[43m,\u001b[49m\n\u001b[0;32m    505\u001b[0m \u001b[43m        \u001b[49m\u001b[43mserver_hostname\u001b[49m\u001b[38;5;241;43m=\u001b[39;49m\u001b[43mserver_hostname\u001b[49m\u001b[43m,\u001b[49m\n\u001b[0;32m    506\u001b[0m \u001b[43m        \u001b[49m\u001b[43mcontext\u001b[49m\u001b[38;5;241;43m=\u001b[39;49m\u001b[38;5;28;43mself\u001b[39;49m\u001b[43m,\u001b[49m\n\u001b[0;32m    507\u001b[0m \u001b[43m        \u001b[49m\u001b[43msession\u001b[49m\u001b[38;5;241;43m=\u001b[39;49m\u001b[43msession\u001b[49m\n\u001b[0;32m    508\u001b[0m \u001b[43m    \u001b[49m\u001b[43m)\u001b[49m\n",
      "File \u001b[1;32m~\\Anaconda3\\lib\\ssl.py:1040\u001b[0m, in \u001b[0;36mSSLSocket._create\u001b[1;34m(cls, sock, server_side, do_handshake_on_connect, suppress_ragged_eofs, server_hostname, context, session)\u001b[0m\n\u001b[0;32m   1039\u001b[0m             \u001b[38;5;28;01mraise\u001b[39;00m \u001b[38;5;167;01mValueError\u001b[39;00m(\u001b[38;5;124m\"\u001b[39m\u001b[38;5;124mdo_handshake_on_connect should not be specified for non-blocking sockets\u001b[39m\u001b[38;5;124m\"\u001b[39m)\n\u001b[1;32m-> 1040\u001b[0m         \u001b[38;5;28;43mself\u001b[39;49m\u001b[38;5;241;43m.\u001b[39;49m\u001b[43mdo_handshake\u001b[49m\u001b[43m(\u001b[49m\u001b[43m)\u001b[49m\n\u001b[0;32m   1041\u001b[0m \u001b[38;5;28;01mexcept\u001b[39;00m (\u001b[38;5;167;01mOSError\u001b[39;00m, \u001b[38;5;167;01mValueError\u001b[39;00m):\n",
      "File \u001b[1;32m~\\Anaconda3\\lib\\ssl.py:1309\u001b[0m, in \u001b[0;36mSSLSocket.do_handshake\u001b[1;34m(self, block)\u001b[0m\n\u001b[0;32m   1308\u001b[0m         \u001b[38;5;28mself\u001b[39m\u001b[38;5;241m.\u001b[39msettimeout(\u001b[38;5;28;01mNone\u001b[39;00m)\n\u001b[1;32m-> 1309\u001b[0m     \u001b[38;5;28;43mself\u001b[39;49m\u001b[38;5;241;43m.\u001b[39;49m\u001b[43m_sslobj\u001b[49m\u001b[38;5;241;43m.\u001b[39;49m\u001b[43mdo_handshake\u001b[49m\u001b[43m(\u001b[49m\u001b[43m)\u001b[49m\n\u001b[0;32m   1310\u001b[0m \u001b[38;5;28;01mfinally\u001b[39;00m:\n",
      "\u001b[1;31mConnectionResetError\u001b[0m: [WinError 10054] An existing connection was forcibly closed by the remote host",
      "\nDuring handling of the above exception, another exception occurred:\n",
      "\u001b[1;31mMaxRetryError\u001b[0m                             Traceback (most recent call last)",
      "File \u001b[1;32m~\\Anaconda3\\lib\\site-packages\\requests\\adapters.py:489\u001b[0m, in \u001b[0;36mHTTPAdapter.send\u001b[1;34m(self, request, stream, timeout, verify, cert, proxies)\u001b[0m\n\u001b[0;32m    488\u001b[0m \u001b[38;5;28;01mif\u001b[39;00m \u001b[38;5;129;01mnot\u001b[39;00m chunked:\n\u001b[1;32m--> 489\u001b[0m     resp \u001b[38;5;241m=\u001b[39m \u001b[43mconn\u001b[49m\u001b[38;5;241;43m.\u001b[39;49m\u001b[43murlopen\u001b[49m\u001b[43m(\u001b[49m\n\u001b[0;32m    490\u001b[0m \u001b[43m        \u001b[49m\u001b[43mmethod\u001b[49m\u001b[38;5;241;43m=\u001b[39;49m\u001b[43mrequest\u001b[49m\u001b[38;5;241;43m.\u001b[39;49m\u001b[43mmethod\u001b[49m\u001b[43m,\u001b[49m\n\u001b[0;32m    491\u001b[0m \u001b[43m        \u001b[49m\u001b[43murl\u001b[49m\u001b[38;5;241;43m=\u001b[39;49m\u001b[43murl\u001b[49m\u001b[43m,\u001b[49m\n\u001b[0;32m    492\u001b[0m \u001b[43m        \u001b[49m\u001b[43mbody\u001b[49m\u001b[38;5;241;43m=\u001b[39;49m\u001b[43mrequest\u001b[49m\u001b[38;5;241;43m.\u001b[39;49m\u001b[43mbody\u001b[49m\u001b[43m,\u001b[49m\n\u001b[0;32m    493\u001b[0m \u001b[43m        \u001b[49m\u001b[43mheaders\u001b[49m\u001b[38;5;241;43m=\u001b[39;49m\u001b[43mrequest\u001b[49m\u001b[38;5;241;43m.\u001b[39;49m\u001b[43mheaders\u001b[49m\u001b[43m,\u001b[49m\n\u001b[0;32m    494\u001b[0m \u001b[43m        \u001b[49m\u001b[43mredirect\u001b[49m\u001b[38;5;241;43m=\u001b[39;49m\u001b[38;5;28;43;01mFalse\u001b[39;49;00m\u001b[43m,\u001b[49m\n\u001b[0;32m    495\u001b[0m \u001b[43m        \u001b[49m\u001b[43massert_same_host\u001b[49m\u001b[38;5;241;43m=\u001b[39;49m\u001b[38;5;28;43;01mFalse\u001b[39;49;00m\u001b[43m,\u001b[49m\n\u001b[0;32m    496\u001b[0m \u001b[43m        \u001b[49m\u001b[43mpreload_content\u001b[49m\u001b[38;5;241;43m=\u001b[39;49m\u001b[38;5;28;43;01mFalse\u001b[39;49;00m\u001b[43m,\u001b[49m\n\u001b[0;32m    497\u001b[0m \u001b[43m        \u001b[49m\u001b[43mdecode_content\u001b[49m\u001b[38;5;241;43m=\u001b[39;49m\u001b[38;5;28;43;01mFalse\u001b[39;49;00m\u001b[43m,\u001b[49m\n\u001b[0;32m    498\u001b[0m \u001b[43m        \u001b[49m\u001b[43mretries\u001b[49m\u001b[38;5;241;43m=\u001b[39;49m\u001b[38;5;28;43mself\u001b[39;49m\u001b[38;5;241;43m.\u001b[39;49m\u001b[43mmax_retries\u001b[49m\u001b[43m,\u001b[49m\n\u001b[0;32m    499\u001b[0m \u001b[43m        \u001b[49m\u001b[43mtimeout\u001b[49m\u001b[38;5;241;43m=\u001b[39;49m\u001b[43mtimeout\u001b[49m\u001b[43m,\u001b[49m\n\u001b[0;32m    500\u001b[0m \u001b[43m    \u001b[49m\u001b[43m)\u001b[49m\n\u001b[0;32m    502\u001b[0m \u001b[38;5;66;03m# Send the request.\u001b[39;00m\n\u001b[0;32m    503\u001b[0m \u001b[38;5;28;01melse\u001b[39;00m:\n",
      "File \u001b[1;32m~\\Anaconda3\\lib\\site-packages\\urllib3\\connectionpool.py:787\u001b[0m, in \u001b[0;36mHTTPConnectionPool.urlopen\u001b[1;34m(self, method, url, body, headers, retries, redirect, assert_same_host, timeout, pool_timeout, release_conn, chunked, body_pos, **response_kw)\u001b[0m\n\u001b[0;32m    785\u001b[0m     e \u001b[38;5;241m=\u001b[39m ProtocolError(\u001b[38;5;124m\"\u001b[39m\u001b[38;5;124mConnection aborted.\u001b[39m\u001b[38;5;124m\"\u001b[39m, e)\n\u001b[1;32m--> 787\u001b[0m retries \u001b[38;5;241m=\u001b[39m \u001b[43mretries\u001b[49m\u001b[38;5;241;43m.\u001b[39;49m\u001b[43mincrement\u001b[49m\u001b[43m(\u001b[49m\n\u001b[0;32m    788\u001b[0m \u001b[43m    \u001b[49m\u001b[43mmethod\u001b[49m\u001b[43m,\u001b[49m\u001b[43m \u001b[49m\u001b[43murl\u001b[49m\u001b[43m,\u001b[49m\u001b[43m \u001b[49m\u001b[43merror\u001b[49m\u001b[38;5;241;43m=\u001b[39;49m\u001b[43me\u001b[49m\u001b[43m,\u001b[49m\u001b[43m \u001b[49m\u001b[43m_pool\u001b[49m\u001b[38;5;241;43m=\u001b[39;49m\u001b[38;5;28;43mself\u001b[39;49m\u001b[43m,\u001b[49m\u001b[43m \u001b[49m\u001b[43m_stacktrace\u001b[49m\u001b[38;5;241;43m=\u001b[39;49m\u001b[43msys\u001b[49m\u001b[38;5;241;43m.\u001b[39;49m\u001b[43mexc_info\u001b[49m\u001b[43m(\u001b[49m\u001b[43m)\u001b[49m\u001b[43m[\u001b[49m\u001b[38;5;241;43m2\u001b[39;49m\u001b[43m]\u001b[49m\n\u001b[0;32m    789\u001b[0m \u001b[43m\u001b[49m\u001b[43m)\u001b[49m\n\u001b[0;32m    790\u001b[0m retries\u001b[38;5;241m.\u001b[39msleep()\n",
      "File \u001b[1;32m~\\Anaconda3\\lib\\site-packages\\urllib3\\util\\retry.py:592\u001b[0m, in \u001b[0;36mRetry.increment\u001b[1;34m(self, method, url, response, error, _pool, _stacktrace)\u001b[0m\n\u001b[0;32m    591\u001b[0m \u001b[38;5;28;01mif\u001b[39;00m new_retry\u001b[38;5;241m.\u001b[39mis_exhausted():\n\u001b[1;32m--> 592\u001b[0m     \u001b[38;5;28;01mraise\u001b[39;00m MaxRetryError(_pool, url, error \u001b[38;5;129;01mor\u001b[39;00m ResponseError(cause))\n\u001b[0;32m    594\u001b[0m log\u001b[38;5;241m.\u001b[39mdebug(\u001b[38;5;124m\"\u001b[39m\u001b[38;5;124mIncremented Retry for (url=\u001b[39m\u001b[38;5;124m'\u001b[39m\u001b[38;5;132;01m%s\u001b[39;00m\u001b[38;5;124m'\u001b[39m\u001b[38;5;124m): \u001b[39m\u001b[38;5;132;01m%r\u001b[39;00m\u001b[38;5;124m\"\u001b[39m, url, new_retry)\n",
      "\u001b[1;31mMaxRetryError\u001b[0m: HTTPSConnectionPool(host='api.census.gov', port=443): Max retries exceeded with url: /data/2010/acs/acs5?key=24fc7d81b74510d599f702dbd408fb18e1466d81&get=NAME%2CGEO_ID%2CB20005A_050E%2CB20005A_051E%2CB20005A_052E%2CB20005A_053E%2CB20005A_054E%2CB20005A_055E%2CB20005A_056E%2CB20005A_057E%2CB20005A_058E%2CB20005A_059E%2CB20005A_060E%2CB20005A_061E%2CB20005A_062E%2CB20005A_063E%2CB20005A_064E%2CB20005A_065E%2CB20005A_066E%2CB20005A_067E%2CB20005A_068E%2CB20005A_069E%2CB20005A_070E%2CB20005A_071E%2CB20005A_072E%2CB20005A_073E%2CB20005A_074E%2CB20005A_075E%2CB20005A_076E%2CB20005A_077E%2CB20005A_078E%2CB20005A_079E%2CB20005A_080E%2CB20005A_081E%2CB20005A_082E%2CB20005A_083E%2CB20005A_084E%2CB20005A_085E%2CB20005A_086E%2CB20005A_087E%2CB20005A_088E%2CB20005A_089E%2CB20005A_090E%2CB20005A_091E%2CB20005A_092E%2CB20005A_093E%2CB20005A_094E%2CB20005A_095E&for=us%3A%2A (Caused by ProtocolError('Connection aborted.', ConnectionResetError(10054, 'An existing connection was forcibly closed by the remote host', None, 10054, None)))",
      "\nDuring handling of the above exception, another exception occurred:\n",
      "\u001b[1;31mConnectionError\u001b[0m                           Traceback (most recent call last)",
      "Input \u001b[1;32mIn [21]\u001b[0m, in \u001b[0;36m<cell line: 2>\u001b[1;34m()\u001b[0m\n\u001b[0;32m     66\u001b[0m predicates[\u001b[38;5;124m\"\u001b[39m\u001b[38;5;124mget\u001b[39m\u001b[38;5;124m\"\u001b[39m]\u001b[38;5;241m=\u001b[39m \u001b[38;5;124m\"\u001b[39m\u001b[38;5;124m,\u001b[39m\u001b[38;5;124m\"\u001b[39m\u001b[38;5;241m.\u001b[39m join(get_vars)\n\u001b[0;32m     67\u001b[0m predicates[\u001b[38;5;124m\"\u001b[39m\u001b[38;5;124mfor\u001b[39m\u001b[38;5;124m\"\u001b[39m]\u001b[38;5;241m=\u001b[39m \u001b[38;5;124m\"\u001b[39m\u001b[38;5;124mus:*\u001b[39m\u001b[38;5;124m\"\u001b[39m\n\u001b[1;32m---> 68\u001b[0m data\u001b[38;5;241m=\u001b[39m \u001b[43mrequests\u001b[49m\u001b[38;5;241;43m.\u001b[39;49m\u001b[43mget\u001b[49m\u001b[43m(\u001b[49m\u001b[43murl_str\u001b[49m\u001b[43m,\u001b[49m\u001b[43m \u001b[49m\u001b[43mparams\u001b[49m\u001b[38;5;241;43m=\u001b[39;49m\u001b[43m \u001b[49m\u001b[43mpredicates\u001b[49m\u001b[43m,\u001b[49m\u001b[43m \u001b[49m\u001b[43mheaders\u001b[49m\u001b[43m \u001b[49m\u001b[38;5;241;43m=\u001b[39;49m\u001b[43m \u001b[49m\u001b[43mheaders\u001b[49m\u001b[43m)\u001b[49m\n\u001b[0;32m     69\u001b[0m col_names \u001b[38;5;241m=\u001b[39m col_list\n\u001b[0;32m     70\u001b[0m national\u001b[38;5;241m=\u001b[39mpd\u001b[38;5;241m.\u001b[39mDataFrame(columns\u001b[38;5;241m=\u001b[39mcol_names, data\u001b[38;5;241m=\u001b[39mdata\u001b[38;5;241m.\u001b[39mjson()[\u001b[38;5;241m1\u001b[39m:], dtype\u001b[38;5;241m=\u001b[39m\u001b[38;5;28mstr\u001b[39m)\n",
      "File \u001b[1;32m~\\Anaconda3\\lib\\site-packages\\requests\\api.py:73\u001b[0m, in \u001b[0;36mget\u001b[1;34m(url, params, **kwargs)\u001b[0m\n\u001b[0;32m     62\u001b[0m \u001b[38;5;28;01mdef\u001b[39;00m \u001b[38;5;21mget\u001b[39m(url, params\u001b[38;5;241m=\u001b[39m\u001b[38;5;28;01mNone\u001b[39;00m, \u001b[38;5;241m*\u001b[39m\u001b[38;5;241m*\u001b[39mkwargs):\n\u001b[0;32m     63\u001b[0m     \u001b[38;5;124mr\u001b[39m\u001b[38;5;124;03m\"\"\"Sends a GET request.\u001b[39;00m\n\u001b[0;32m     64\u001b[0m \n\u001b[0;32m     65\u001b[0m \u001b[38;5;124;03m    :param url: URL for the new :class:`Request` object.\u001b[39;00m\n\u001b[1;32m   (...)\u001b[0m\n\u001b[0;32m     70\u001b[0m \u001b[38;5;124;03m    :rtype: requests.Response\u001b[39;00m\n\u001b[0;32m     71\u001b[0m \u001b[38;5;124;03m    \"\"\"\u001b[39;00m\n\u001b[1;32m---> 73\u001b[0m     \u001b[38;5;28;01mreturn\u001b[39;00m \u001b[43mrequest\u001b[49m\u001b[43m(\u001b[49m\u001b[38;5;124;43m\"\u001b[39;49m\u001b[38;5;124;43mget\u001b[39;49m\u001b[38;5;124;43m\"\u001b[39;49m\u001b[43m,\u001b[49m\u001b[43m \u001b[49m\u001b[43murl\u001b[49m\u001b[43m,\u001b[49m\u001b[43m \u001b[49m\u001b[43mparams\u001b[49m\u001b[38;5;241;43m=\u001b[39;49m\u001b[43mparams\u001b[49m\u001b[43m,\u001b[49m\u001b[43m \u001b[49m\u001b[38;5;241;43m*\u001b[39;49m\u001b[38;5;241;43m*\u001b[39;49m\u001b[43mkwargs\u001b[49m\u001b[43m)\u001b[49m\n",
      "File \u001b[1;32m~\\Anaconda3\\lib\\site-packages\\requests\\api.py:59\u001b[0m, in \u001b[0;36mrequest\u001b[1;34m(method, url, **kwargs)\u001b[0m\n\u001b[0;32m     55\u001b[0m \u001b[38;5;66;03m# By using the 'with' statement we are sure the session is closed, thus we\u001b[39;00m\n\u001b[0;32m     56\u001b[0m \u001b[38;5;66;03m# avoid leaving sockets open which can trigger a ResourceWarning in some\u001b[39;00m\n\u001b[0;32m     57\u001b[0m \u001b[38;5;66;03m# cases, and look like a memory leak in others.\u001b[39;00m\n\u001b[0;32m     58\u001b[0m \u001b[38;5;28;01mwith\u001b[39;00m sessions\u001b[38;5;241m.\u001b[39mSession() \u001b[38;5;28;01mas\u001b[39;00m session:\n\u001b[1;32m---> 59\u001b[0m     \u001b[38;5;28;01mreturn\u001b[39;00m \u001b[43msession\u001b[49m\u001b[38;5;241;43m.\u001b[39;49m\u001b[43mrequest\u001b[49m\u001b[43m(\u001b[49m\u001b[43mmethod\u001b[49m\u001b[38;5;241;43m=\u001b[39;49m\u001b[43mmethod\u001b[49m\u001b[43m,\u001b[49m\u001b[43m \u001b[49m\u001b[43murl\u001b[49m\u001b[38;5;241;43m=\u001b[39;49m\u001b[43murl\u001b[49m\u001b[43m,\u001b[49m\u001b[43m \u001b[49m\u001b[38;5;241;43m*\u001b[39;49m\u001b[38;5;241;43m*\u001b[39;49m\u001b[43mkwargs\u001b[49m\u001b[43m)\u001b[49m\n",
      "File \u001b[1;32m~\\Anaconda3\\lib\\site-packages\\requests\\sessions.py:587\u001b[0m, in \u001b[0;36mSession.request\u001b[1;34m(self, method, url, params, data, headers, cookies, files, auth, timeout, allow_redirects, proxies, hooks, stream, verify, cert, json)\u001b[0m\n\u001b[0;32m    582\u001b[0m send_kwargs \u001b[38;5;241m=\u001b[39m {\n\u001b[0;32m    583\u001b[0m     \u001b[38;5;124m\"\u001b[39m\u001b[38;5;124mtimeout\u001b[39m\u001b[38;5;124m\"\u001b[39m: timeout,\n\u001b[0;32m    584\u001b[0m     \u001b[38;5;124m\"\u001b[39m\u001b[38;5;124mallow_redirects\u001b[39m\u001b[38;5;124m\"\u001b[39m: allow_redirects,\n\u001b[0;32m    585\u001b[0m }\n\u001b[0;32m    586\u001b[0m send_kwargs\u001b[38;5;241m.\u001b[39mupdate(settings)\n\u001b[1;32m--> 587\u001b[0m resp \u001b[38;5;241m=\u001b[39m \u001b[38;5;28;43mself\u001b[39;49m\u001b[38;5;241;43m.\u001b[39;49m\u001b[43msend\u001b[49m\u001b[43m(\u001b[49m\u001b[43mprep\u001b[49m\u001b[43m,\u001b[49m\u001b[43m \u001b[49m\u001b[38;5;241;43m*\u001b[39;49m\u001b[38;5;241;43m*\u001b[39;49m\u001b[43msend_kwargs\u001b[49m\u001b[43m)\u001b[49m\n\u001b[0;32m    589\u001b[0m \u001b[38;5;28;01mreturn\u001b[39;00m resp\n",
      "File \u001b[1;32m~\\Anaconda3\\lib\\site-packages\\requests\\sessions.py:701\u001b[0m, in \u001b[0;36mSession.send\u001b[1;34m(self, request, **kwargs)\u001b[0m\n\u001b[0;32m    698\u001b[0m start \u001b[38;5;241m=\u001b[39m preferred_clock()\n\u001b[0;32m    700\u001b[0m \u001b[38;5;66;03m# Send the request\u001b[39;00m\n\u001b[1;32m--> 701\u001b[0m r \u001b[38;5;241m=\u001b[39m \u001b[43madapter\u001b[49m\u001b[38;5;241;43m.\u001b[39;49m\u001b[43msend\u001b[49m\u001b[43m(\u001b[49m\u001b[43mrequest\u001b[49m\u001b[43m,\u001b[49m\u001b[43m \u001b[49m\u001b[38;5;241;43m*\u001b[39;49m\u001b[38;5;241;43m*\u001b[39;49m\u001b[43mkwargs\u001b[49m\u001b[43m)\u001b[49m\n\u001b[0;32m    703\u001b[0m \u001b[38;5;66;03m# Total elapsed time of the request (approximately)\u001b[39;00m\n\u001b[0;32m    704\u001b[0m elapsed \u001b[38;5;241m=\u001b[39m preferred_clock() \u001b[38;5;241m-\u001b[39m start\n",
      "File \u001b[1;32m~\\Anaconda3\\lib\\site-packages\\requests\\adapters.py:565\u001b[0m, in \u001b[0;36mHTTPAdapter.send\u001b[1;34m(self, request, stream, timeout, verify, cert, proxies)\u001b[0m\n\u001b[0;32m    561\u001b[0m     \u001b[38;5;28;01mif\u001b[39;00m \u001b[38;5;28misinstance\u001b[39m(e\u001b[38;5;241m.\u001b[39mreason, _SSLError):\n\u001b[0;32m    562\u001b[0m         \u001b[38;5;66;03m# This branch is for urllib3 v1.22 and later.\u001b[39;00m\n\u001b[0;32m    563\u001b[0m         \u001b[38;5;28;01mraise\u001b[39;00m SSLError(e, request\u001b[38;5;241m=\u001b[39mrequest)\n\u001b[1;32m--> 565\u001b[0m     \u001b[38;5;28;01mraise\u001b[39;00m \u001b[38;5;167;01mConnectionError\u001b[39;00m(e, request\u001b[38;5;241m=\u001b[39mrequest)\n\u001b[0;32m    567\u001b[0m \u001b[38;5;28;01mexcept\u001b[39;00m ClosedPoolError \u001b[38;5;28;01mas\u001b[39;00m e:\n\u001b[0;32m    568\u001b[0m     \u001b[38;5;28;01mraise\u001b[39;00m \u001b[38;5;167;01mConnectionError\u001b[39;00m(e, request\u001b[38;5;241m=\u001b[39mrequest)\n",
      "\u001b[1;31mConnectionError\u001b[0m: HTTPSConnectionPool(host='api.census.gov', port=443): Max retries exceeded with url: /data/2010/acs/acs5?key=24fc7d81b74510d599f702dbd408fb18e1466d81&get=NAME%2CGEO_ID%2CB20005A_050E%2CB20005A_051E%2CB20005A_052E%2CB20005A_053E%2CB20005A_054E%2CB20005A_055E%2CB20005A_056E%2CB20005A_057E%2CB20005A_058E%2CB20005A_059E%2CB20005A_060E%2CB20005A_061E%2CB20005A_062E%2CB20005A_063E%2CB20005A_064E%2CB20005A_065E%2CB20005A_066E%2CB20005A_067E%2CB20005A_068E%2CB20005A_069E%2CB20005A_070E%2CB20005A_071E%2CB20005A_072E%2CB20005A_073E%2CB20005A_074E%2CB20005A_075E%2CB20005A_076E%2CB20005A_077E%2CB20005A_078E%2CB20005A_079E%2CB20005A_080E%2CB20005A_081E%2CB20005A_082E%2CB20005A_083E%2CB20005A_084E%2CB20005A_085E%2CB20005A_086E%2CB20005A_087E%2CB20005A_088E%2CB20005A_089E%2CB20005A_090E%2CB20005A_091E%2CB20005A_092E%2CB20005A_093E%2CB20005A_094E%2CB20005A_095E&for=us%3A%2A (Caused by ProtocolError('Connection aborted.', ConnectionResetError(10054, 'An existing connection was forcibly closed by the remote host', None, 10054, None)))"
     ]
    }
   ],
   "source": [
    "results = []\n",
    "for df in dfs:\n",
    "    dataguide = df\n",
    "    for col_name, col_data in df.iteritems():\n",
    "        var_list = list(dataguide['Variable']) #make variables list\n",
    "        var_list = deque(var_list)\n",
    "        var_list.appendleft(head2)\n",
    "        var_list.appendleft(head1)\n",
    "        col_list = list(dataguide['Column Name']) #make columns list\n",
    "        col_list.append(tail_cols1)\n",
    "        col_list.append(tail_cols2)\n",
    "        col_list = deque(col_list)\n",
    "        col_list.appendleft(head2)\n",
    "        col_list.appendleft(head1)\n",
    "        predicates= {} #call for all counties in state of TN\n",
    "        get_vars= var_list\n",
    "        predicates[\"get\"]= \",\". join(get_vars)\n",
    "        predicates[\"for\"]= \"county:*\"\n",
    "        predicates[\"in\"]= \"state:47\"                                                             \n",
    "        data = requests.get(url_str, params= predicates, headers = headers)                                                                \n",
    "        col_names = col_list\n",
    "        df = pd.DataFrame(columns=col_names, data=data.json()[1:], dtype=str)\n",
    "        df = df.loc[df['GeoFIPS'].isin(GNRC)] #filter for counties in the region\n",
    "        predicates= {} #call for all counties in state of KY\n",
    "        get_vars= var_list\n",
    "        predicates[\"get\"]= \",\". join(get_vars)\n",
    "        predicates[\"for\"]= \"county:*\"\n",
    "        predicates[\"in\"]= \"state:21\"                                                             \n",
    "        data = requests.get(url_str, params= predicates, headers = headers)                                                                \n",
    "        col_names = col_list\n",
    "        kycos = pd.DataFrame(columns=col_names, data=data.json()[1:], dtype=str)\n",
    "        kycos = kycos.loc[kycos['GeoFIPS'].isin(KY)] #filter for counties of concern in KY\n",
    "        df = pd.concat([df, kycos], axis = 0)\n",
    "        predicates= {} #call for all places in TN\n",
    "        get_vars= var_list\n",
    "        predicates[\"get\"]= \",\". join(get_vars)\n",
    "        predicates[\"for\"]= \"place:*\"\n",
    "        predicates[\"in\"]= \"state:47\"\n",
    "        data= requests.get(url_str, params= predicates, headers = headers)\n",
    "        col_names = col_list\n",
    "        places=pd.DataFrame(columns=col_names, data=data.json()[1:], dtype=str)\n",
    "        places=places.loc[places['GEO_ID'].isin(qlaces)] #filter for places in the region\n",
    "        df = pd.concat([df, places], axis = 0)\n",
    "        predicates= {} #call for all places in KY\n",
    "        get_vars= var_list\n",
    "        predicates[\"get\"]= \",\". join(get_vars)\n",
    "        predicates[\"for\"]= \"place:*\"\n",
    "        predicates[\"in\"]= \"state:21\"\n",
    "        data= requests.get(url_str, params= predicates, headers = headers)\n",
    "        col_names = col_list\n",
    "        places=pd.DataFrame(columns=col_names, data=data.json()[1:], dtype=str)\n",
    "        places=places.loc[places['GEO_ID'].isin(qlaces)] #filter for places of concern in KY\n",
    "        df = pd.concat([df, places], axis = 0)\n",
    "        col_list.remove(tail_cols2) #adjust the column list for different formats of geos\n",
    "        predicates= {} #call for state of TN\n",
    "        get_vars= var_list\n",
    "        predicates[\"get\"]= \",\". join(get_vars)\n",
    "        predicates[\"for\"]= \"state:47\"\n",
    "        data= requests.get(url_str, params= predicates, headers = headers)\n",
    "        col_names = col_list\n",
    "        state=pd.DataFrame(columns=col_names, data=data.json()[1:], dtype=str)\n",
    "        state['GeoFIPS'] = '0' #fill in the blank GeoFIPS column\n",
    "        df = pd.concat([df, state], axis = 0)\n",
    "        predicates= {} #call for US\n",
    "        get_vars= var_list\n",
    "        predicates[\"get\"]= \",\". join(get_vars)\n",
    "        predicates[\"for\"]= \"us:*\"\n",
    "        data= requests.get(url_str, params= predicates, headers = headers)\n",
    "        col_names = col_list\n",
    "        national=pd.DataFrame(columns=col_names, data=data.json()[1:], dtype=str)\n",
    "        national['GeoFIPS'] = '0' #fill in the blank GeoFIPS column\n",
    "        df = pd.concat([df, national], axis = 0)\n",
    "        results.append(df)\n",
    "new_df = pd.concat(results, axis = 1)\n",
    "new_df = new_df.transpose().reset_index(drop = False).drop_duplicates()\n",
    "new_df.columns = new_df.iloc[0]\n",
    "new_df = new_df.set_index('NAME').transpose().drop(columns = ['StateFIPS', 'GeoFIPS']).reset_index(drop = True)\n",
    "new_df = new_df.rename_axis(None, axis = 1)\n",
    "print('Okay Finished')"
   ]
  },
  {
   "cell_type": "code",
   "execution_count": 102,
   "id": "a35a7c3f",
   "metadata": {},
   "outputs": [
    {
     "ename": "SyntaxError",
     "evalue": "invalid syntax (3745127035.py, line 1)",
     "output_type": "error",
     "traceback": [
      "\u001b[1;36m  Input \u001b[1;32mIn [102]\u001b[1;36m\u001b[0m\n\u001b[1;33m    curl -X GET <api.census.gov>\u001b[0m\n\u001b[1;37m            ^\u001b[0m\n\u001b[1;31mSyntaxError\u001b[0m\u001b[1;31m:\u001b[0m invalid syntax\n"
     ]
    }
   ],
   "source": [
    "ping <api.census.gov>"
   ]
  },
  {
   "cell_type": "code",
   "execution_count": null,
   "id": "3e91fc35",
   "metadata": {},
   "outputs": [],
   "source": [
    "new_df.head()"
   ]
  },
  {
   "cell_type": "code",
   "execution_count": null,
   "id": "b69d020a",
   "metadata": {},
   "outputs": [],
   "source": [
    "data = new_df"
   ]
  },
  {
   "cell_type": "code",
   "execution_count": null,
   "id": "d42891c6",
   "metadata": {},
   "outputs": [],
   "source": [
    "data = data.set_index(['NAME', 'GEO_ID'])\n",
    "data.head()"
   ]
  },
  {
   "cell_type": "code",
   "execution_count": null,
   "id": "631b1525",
   "metadata": {},
   "outputs": [],
   "source": [
    "transp = data.transpose()\n",
    "transp.head()"
   ]
  },
  {
   "cell_type": "code",
   "execution_count": null,
   "id": "6d858e65",
   "metadata": {},
   "outputs": [],
   "source": [
    "numcols = list(transp.columns)\n",
    "numcols\n",
    "transp[numcols] = transp[numcols].astype(float)"
   ]
  },
  {
   "cell_type": "code",
   "execution_count": null,
   "id": "36e88d76",
   "metadata": {},
   "outputs": [],
   "source": [
    "data = transp"
   ]
  },
  {
   "cell_type": "code",
   "execution_count": null,
   "id": "331bd0b7",
   "metadata": {},
   "outputs": [],
   "source": [
    "GNRCCounties = [data[('Stewart County, Tennessee', '0500000US47161')],data[('Montgomery County, Tennessee', '0500000US47125')],\n",
    "                data[('Houston County, Tennessee', '0500000US47083')],data[('Humphreys County, Tennessee', '0500000US47085')],\n",
    "                data[('Dickson County, Tennessee', '0500000US47043')],data[('Cheatham County, Tennessee', '0500000US47021')],\n",
    "                data[('Robertson County, Tennessee', '0500000US47147')],data[('Sumner County, Tennessee', '0500000US47165')],\n",
    "                data[('Davidson County, Tennessee', '0500000US47037')],data[('Wilson County, Tennessee', '0500000US47189')],\n",
    "                data[('Trousdale County, Tennessee', '0500000US47169')],data[('Williamson County, Tennessee', '0500000US47187')],\n",
    "                data[('Rutherford County, Tennessee', '0500000US47149')]]\n",
    "data['GNRC'] = sum(GNRCCounties)\n",
    "GNRCCountiesAll = [data[('Stewart County, Tennessee', '0500000US47161')],data[('Montgomery County, Tennessee', '0500000US47125')],\n",
    "                   data[('Houston County, Tennessee', '0500000US47083')],data[('Humphreys County, Tennessee', '0500000US47085')],\n",
    "                   data[('Dickson County, Tennessee', '0500000US47043')],data[('Cheatham County, Tennessee', '0500000US47021')],\n",
    "                   data[('Robertson County, Tennessee', '0500000US47147')],data[('Sumner County, Tennessee', '0500000US47165')],\n",
    "                   data[('Davidson County, Tennessee', '0500000US47037')],data[('Wilson County, Tennessee', '0500000US47189')],\n",
    "                   data[('Trousdale County, Tennessee', '0500000US47169')],data[('Williamson County, Tennessee', '0500000US47187')],\n",
    "                   data[('Rutherford County, Tennessee', '0500000US47149')],data[('Maury County, Tennessee', '0500000US47119')]]\n",
    "data['GNRC Region'] = sum(GNRCCountiesAll)\n",
    "MPOCounties = [data[('Robertson County, Tennessee', '0500000US47147')],data[('Sumner County, Tennessee', '0500000US47165')],\n",
    "               data[('Davidson County, Tennessee', '0500000US47037')],data[('Wilson County, Tennessee', '0500000US47189')],\n",
    "               data[('Williamson County, Tennessee', '0500000US47187')],data[('Rutherford County, Tennessee', '0500000US47149')],\n",
    "               data[('Maury County, Tennessee', '0500000US47119')]]\n",
    "data['MPO'] = sum(MPOCounties)\n",
    "RuthInc = [data[('Eagleville city, Tennessee', '1600000US4722360')],data[('La Vergne city, Tennessee', '1600000US4741200')],\n",
    "           data[('Murfreesboro city, Tennessee', '1600000US4751560')],data[('Smyrna town, Tennessee', '1600000US4769420')]]\n",
    "data[('Rutherford Incorporated', 'None')] = sum(RuthInc)\n",
    "data[('Rutherford Unincorporated', 'None')] = data[('Rutherford County, Tennessee', '0500000US47149')] - data[('Rutherford Incorporated', 'None')]\n",
    "WilsonInc = [data[('Lebanon city, Tennessee', '1600000US4741520')],data[('Mount Juliet city, Tennessee', '1600000US4750780')],\n",
    "             data[('Watertown city, Tennessee', '1600000US4778320')]]\n",
    "data[('Wilson Incorporated', 'None')] = sum(WilsonInc)\n",
    "data[('Wilson Unincorporated', 'None')] = data[('Wilson County, Tennessee', '0500000US47189')] - data[('Wilson Incorporated', 'None')]\n",
    "CheathInc = [data[('Ashland City town, Tennessee', '1600000US4702180')],data[('Kingston Springs town, Tennessee', '1600000US4739660')],\n",
    "             data[('Pegram town, Tennessee', '1600000US4757480')],data[('Pleasant View city, Tennessee', '1600000US4759560')]]\n",
    "data[('Cheatham Incorporated', 'None')] = sum(CheathInc)\n",
    "data[('Cheatham Unincorporated', 'None')] = data[('Cheatham County, Tennessee', '0500000US47021')] - data[('Cheatham Incorporated', 'None')]\n",
    "DicksInc = [data[('Burns town, Tennessee', '1600000US4709880')],data[('Charlotte town, Tennessee', '1600000US4713080')],\n",
    "            data[('Dickson city, Tennessee', '1600000US4720620')],data[('Slayden town, Tennessee', '1600000US4769080')],\n",
    "            data[('Vanleer town, Tennessee', '1600000US4776860')],data[('White Bluff town, Tennessee', '1600000US4779980')]]\n",
    "data[('Dickson Incorporated', 'None')] = sum(DicksInc)\n",
    "data[('Dickson Unincorporated', 'None')] = data[('Dickson County, Tennessee', '0500000US47043')] - data[('Dickson Incorporated', 'None')]\n",
    "HumphInc = [data[('McEwen city, Tennessee', '1600000US4744840')],data[('New Johnsonville city, Tennessee', '1600000US4752820')],\n",
    "            data[('Waverly city, Tennessee', '1600000US4778560')]]\n",
    "data[('Humphreys Incorporated', 'None')] = sum(HumphInc)\n",
    "data[('Humphreys Unincorporated', 'None')] = data[('Humphreys County, Tennessee', '0500000US47085')] - data[('Humphreys Incorporated', 'None')]\n",
    "data[('Montgomery Incorporated', 'None')] = data[('Clarksville city, Tennessee', '1600000US4715160')]\n",
    "data[('Montgomery Unincorporated', 'None')] = data[('Montgomery County, Tennessee', '0500000US47125')] - data[('Montgomery Incorporated', 'None')]"
   ]
  },
  {
   "cell_type": "code",
   "execution_count": null,
   "id": "a2533eb0",
   "metadata": {},
   "outputs": [],
   "source": [
    "ok = data.transpose().reset_index()"
   ]
  },
  {
   "cell_type": "code",
   "execution_count": null,
   "id": "c625ce9e",
   "metadata": {},
   "outputs": [],
   "source": [
    "ok.head()"
   ]
  },
  {
   "cell_type": "code",
   "execution_count": null,
   "id": "f09014ae",
   "metadata": {},
   "outputs": [],
   "source": [
    "ok.info()"
   ]
  },
  {
   "cell_type": "code",
   "execution_count": null,
   "id": "4976f6b6",
   "metadata": {},
   "outputs": [],
   "source": [
    "ok.to_csv('../../Data/ACS20105YR.csv', index = False)"
   ]
  },
  {
   "cell_type": "code",
   "execution_count": null,
   "id": "1237cf33",
   "metadata": {},
   "outputs": [],
   "source": []
  },
  {
   "cell_type": "code",
   "execution_count": null,
   "id": "e3599b16",
   "metadata": {},
   "outputs": [],
   "source": []
  }
 ],
 "metadata": {
  "kernelspec": {
   "display_name": "Python 3 (ipykernel)",
   "language": "python",
   "name": "python3"
  },
  "language_info": {
   "codemirror_mode": {
    "name": "ipython",
    "version": 3
   },
   "file_extension": ".py",
   "mimetype": "text/x-python",
   "name": "python",
   "nbconvert_exporter": "python",
   "pygments_lexer": "ipython3",
   "version": "3.8.8"
  }
 },
 "nbformat": 4,
 "nbformat_minor": 5
}
