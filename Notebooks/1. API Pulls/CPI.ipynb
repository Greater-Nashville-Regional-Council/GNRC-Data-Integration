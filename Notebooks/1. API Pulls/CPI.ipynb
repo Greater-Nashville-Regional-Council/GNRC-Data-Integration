{
 "cells": [
  {
   "cell_type": "markdown",
   "id": "c9314915",
   "metadata": {},
   "source": [
    "# Local Area Unemployment Statistics  \n",
    "This notebook pulls data for all counties of concern, and places with population over 25,000 that have unemployment statistics recorded by the Bureau of Labor Statistics. This notebook writes out two files - one with the most recent annual average unemployment rate, and one for month over month unadjusted unemployment from 2019 to the most recent estimate."
   ]
  },
  {
   "cell_type": "markdown",
   "id": "33aa2c28",
   "metadata": {},
   "source": [
    "## Series Codes:\n",
    "https://www.bls.gov/help/hlpforma.htm#AP"
   ]
  },
  {
   "cell_type": "code",
   "execution_count": 12,
   "id": "24b467ae",
   "metadata": {},
   "outputs": [],
   "source": [
    "import pandas as pd\n",
    "import json\n",
    "import requests\n",
    "import pickle"
   ]
  },
  {
   "cell_type": "code",
   "execution_count": 18,
   "id": "b7c923aa",
   "metadata": {},
   "outputs": [],
   "source": [
    "#to read in... rb is read bite\n",
    "with open('api_keys.pkl', 'rb') as keys_file:\n",
    "        keys_dict_2 = pickle.load(keys_file)\n",
    "#create a variable that contains your api key\n",
    "census_key = keys_dict_2['CENSUS']\n",
    "bea_key = keys_dict_2['BEA']\n",
    "bls_key = keys_dict_2['BLS']"
   ]
  },
  {
   "cell_type": "code",
   "execution_count": 19,
   "id": "48c6b6ed",
   "metadata": {},
   "outputs": [],
   "source": [
    "# The url for BLS API v2\n",
    "url = 'https://api.bls.gov/publicAPI/v2/timeseries/data/'\n",
    "\n",
    "# Series stored as a dictionary\n",
    "series_dict = {\n",
    "    'CUUR0000SA0L1E': 'South',\n",
    "    'LNS14000006': 'Black',\n",
    "    'LNS14000009': 'Hispanic'}\n",
    "\n",
    "# Start year and end year\n",
    "dates = ('2008', '2017')"
   ]
  },
  {
   "cell_type": "code",
   "execution_count": 21,
   "id": "1710e442",
   "metadata": {},
   "outputs": [],
   "source": [
    "# Specify json as content type to return\n",
    "headers = {'Content-type': 'application/json'}\n",
    "\n",
    "# Submit the list of series as data\n",
    "data = json.dumps({\n",
    "    \"seriesid\": list(series_dict.keys()),\n",
    "    \"startyear\": dates[0],\n",
    "    \"endyear\": dates[1]})\n",
    "\n",
    "# Post request for the data\n",
    "p = requests.post(\n",
    "    '{}{}'.format(url, bls_key),\n",
    "    headers=headers,\n",
    "    data=data).json()['Results']['series']\n",
    "\n"
   ]
  },
  {
   "cell_type": "code",
   "execution_count": 23,
   "id": "5ca1d487",
   "metadata": {},
   "outputs": [
    {
     "data": {
      "text/plain": [
       "[{'seriesID': '7cbe0223e97b4dea807629d438934e73', 'data': []}]"
      ]
     },
     "execution_count": 23,
     "metadata": {},
     "output_type": "execute_result"
    }
   ],
   "source": [
    "p"
   ]
  },
  {
   "cell_type": "code",
   "execution_count": 22,
   "id": "f6436a5b",
   "metadata": {},
   "outputs": [
    {
     "name": "stderr",
     "output_type": "stream",
     "text": [
      "C:\\Users\\jmccall\\AppData\\Local\\Temp/ipykernel_10032/1431753574.py:9: DeprecationWarning: The default dtype for empty Series will be 'object' instead of 'float64' in a future version. Specify a dtype explicitly to silence this warning.\n",
      "  df[series_dict[s['seriesID']]] = pd.Series(\n"
     ]
    },
    {
     "ename": "KeyError",
     "evalue": "'7cbe0223e97b4dea807629d438934e73'",
     "output_type": "error",
     "traceback": [
      "\u001b[1;31m---------------------------------------------------------------------------\u001b[0m",
      "\u001b[1;31mKeyError\u001b[0m                                  Traceback (most recent call last)",
      "\u001b[1;32m~\\AppData\\Local\\Temp/ipykernel_10032/1431753574.py\u001b[0m in \u001b[0;36m<module>\u001b[1;34m\u001b[0m\n\u001b[0;32m      7\u001b[0m \u001b[1;31m# Build a pandas series from the API results, p\u001b[0m\u001b[1;33m\u001b[0m\u001b[1;33m\u001b[0m\u001b[1;33m\u001b[0m\u001b[0m\n\u001b[0;32m      8\u001b[0m \u001b[1;32mfor\u001b[0m \u001b[0ms\u001b[0m \u001b[1;32min\u001b[0m \u001b[0mp\u001b[0m\u001b[1;33m:\u001b[0m\u001b[1;33m\u001b[0m\u001b[1;33m\u001b[0m\u001b[0m\n\u001b[1;32m----> 9\u001b[1;33m     df[series_dict[s['seriesID']]] = pd.Series(\n\u001b[0m\u001b[0;32m     10\u001b[0m         \u001b[0mindex\u001b[0m \u001b[1;33m=\u001b[0m \u001b[0mpd\u001b[0m\u001b[1;33m.\u001b[0m\u001b[0mto_datetime\u001b[0m\u001b[1;33m(\u001b[0m\u001b[0mdate_list\u001b[0m\u001b[1;33m)\u001b[0m\u001b[1;33m,\u001b[0m\u001b[1;33m\u001b[0m\u001b[1;33m\u001b[0m\u001b[0m\n\u001b[0;32m     11\u001b[0m         \u001b[0mdata\u001b[0m \u001b[1;33m=\u001b[0m \u001b[1;33m[\u001b[0m\u001b[0mi\u001b[0m\u001b[1;33m[\u001b[0m\u001b[1;34m'value'\u001b[0m\u001b[1;33m]\u001b[0m \u001b[1;32mfor\u001b[0m \u001b[0mi\u001b[0m \u001b[1;32min\u001b[0m \u001b[0ms\u001b[0m\u001b[1;33m[\u001b[0m\u001b[1;34m'data'\u001b[0m\u001b[1;33m]\u001b[0m\u001b[1;33m]\u001b[0m\u001b[1;33m\u001b[0m\u001b[1;33m\u001b[0m\u001b[0m\n",
      "\u001b[1;31mKeyError\u001b[0m: '7cbe0223e97b4dea807629d438934e73'"
     ]
    }
   ],
   "source": [
    "# Date index from first series\n",
    "date_list = [f\"{i['year']}-{i['period'][1:]}-01\" for i in p[0]['data']]\n",
    "\n",
    "# Empty dataframe to fill with values\n",
    "df = pd.DataFrame()\n",
    "\n",
    "# Build a pandas series from the API results, p\n",
    "for s in p:\n",
    "    df[series_dict[s['seriesID']]] = pd.Series(\n",
    "        index = pd.to_datetime(date_list),\n",
    "        data = [i['value'] for i in s['data']]\n",
    "        ).astype(float).iloc[::-1]\n",
    "\n",
    "# Show last 5 results\n",
    "df.tail()"
   ]
  },
  {
   "cell_type": "code",
   "execution_count": 4,
   "id": "93b8d29d",
   "metadata": {},
   "outputs": [],
   "source": [
    "geos = pd.read_csv('../../Data Downloads/geofips.csv')"
   ]
  },
  {
   "cell_type": "code",
   "execution_count": null,
   "id": "e57e7075",
   "metadata": {},
   "outputs": [],
   "source": [
    "\t                      1         2\n",
    "\t             12345678901234567890\n",
    "\tSeries ID    LAUCN281070000000003\n",
    "\tPositions    Value            Field Name\n",
    "\t1-2          LA               Prefix\n",
    "\t3            U                Seasonal Adjustment Code\n",
    "\t4-18         CN2810700000000  Area Code\n",
    "\t19-20        03               Measure Code"
   ]
  },
  {
   "cell_type": "code",
   "execution_count": null,
   "id": "3d436d9d",
   "metadata": {},
   "outputs": [],
   "source": [
    "# Post the data request to the BLS API. Return the resulting JSON structure.\n",
    "def get_data(self, headers, parameters):\n",
    "\n",
    "    \n",
    "\n",
    "        post = requests.post('https://api.bls.gov/publicAPI/v2/timeseries/data/', data = parameters, headers = headers)\n",
    "        json_data = json.loads(post.text)\n",
    "\n",
    "        return json_data"
   ]
  },
  {
   "cell_type": "code",
   "execution_count": null,
   "id": "b982d4dc",
   "metadata": {},
   "outputs": [],
   "source": []
  },
  {
   "cell_type": "code",
   "execution_count": 36,
   "id": "46af58a4",
   "metadata": {},
   "outputs": [],
   "source": [
    "FIPSCounties = []\n",
    "for i in counties:\n",
    "    FIPSCounties.append('LAU{}03'.format(i))"
   ]
  },
  {
   "cell_type": "code",
   "execution_count": 37,
   "id": "bb709c4f",
   "metadata": {},
   "outputs": [],
   "source": [
    "FIPSPlaces = []\n",
    "for i in places:\n",
    "    FIPSPlaces.append('LAU{}03'.format(i))"
   ]
  },
  {
   "cell_type": "code",
   "execution_count": 1,
   "id": "249fd47f",
   "metadata": {},
   "outputs": [],
   "source": [
    "area = 'D300' #South region\n",
    "items = ['AA0', #all items old base\n",
    "         'SA0' #all items\n",
    "        ]"
   ]
  },
  {
   "cell_type": "code",
   "execution_count": null,
   "id": "ddb20377",
   "metadata": {},
   "outputs": [],
   "source": [
    "CUURD300SA0L1E"
   ]
  },
  {
   "cell_type": "code",
   "execution_count": 11,
   "id": "07f06233",
   "metadata": {},
   "outputs": [
    {
     "name": "stdout",
     "output_type": "stream",
     "text": [
      "BLS API has given the following Response: REQUEST_FAILED\n",
      "Reason: ['Your request has failed. Please check your input parameters, and try your request again.']\n"
     ]
    }
   ],
   "source": [
    "#dfco = get_cpi('CUURD300SA0L1E', 2000, 2022)\n",
    "dfco = get_cpi('CUUR0000SA0L1E', 2000, 2020)"
   ]
  },
  {
   "cell_type": "code",
   "execution_count": 31,
   "id": "1d913a38",
   "metadata": {},
   "outputs": [],
   "source": [
    "df_monthly.to_csv('../../Outputs/LAUSMONTHLY.csv', index = False)"
   ]
  },
  {
   "cell_type": "code",
   "execution_count": null,
   "id": "4cd53ab9",
   "metadata": {},
   "outputs": [],
   "source": []
  }
 ],
 "metadata": {
  "kernelspec": {
   "display_name": "Python 3 (ipykernel)",
   "language": "python",
   "name": "python3"
  },
  "language_info": {
   "codemirror_mode": {
    "name": "ipython",
    "version": 3
   },
   "file_extension": ".py",
   "mimetype": "text/x-python",
   "name": "python",
   "nbconvert_exporter": "python",
   "pygments_lexer": "ipython3",
   "version": "3.8.5"
  }
 },
 "nbformat": 4,
 "nbformat_minor": 5
}
