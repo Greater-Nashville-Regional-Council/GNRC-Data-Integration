{
 "cells": [
  {
   "cell_type": "markdown",
   "id": "8a629139",
   "metadata": {},
   "source": [
    "# Geo Files for All Geographies"
   ]
  },
  {
   "cell_type": "code",
   "execution_count": 1,
   "id": "64e2b650",
   "metadata": {},
   "outputs": [],
   "source": [
    "import pandas as pd\n",
    "import numpy as np\n",
    "import requests\n",
    "import geopandas as gpd\n",
    "pd.set_option('display.max_columns', None)\n",
    "pd.set_option('display.max_rows', None)\n",
    "pd.set_option('display.width', 150)\n",
    "from warnings import simplefilter\n",
    "simplefilter(action=\"ignore\", category=pd.errors.PerformanceWarning)"
   ]
  },
  {
   "cell_type": "code",
   "execution_count": 2,
   "id": "e0e63654",
   "metadata": {},
   "outputs": [],
   "source": [
    "tncounty = ['47111', #Macon\n",
    "            '47161', #Stewart\n",
    "            '47125', #Montgomery\n",
    "            '47083', #Houston\n",
    "            '47085', #Humphreys\n",
    "            '47043', #Dickson\n",
    "            '47021', #Cheatham\n",
    "            '47147', #Robertson\n",
    "            '47165', #Sumner\n",
    "            '47037', #Davidson\n",
    "            '47189', #Wilson\n",
    "            '47169', #Trousdale\n",
    "            '47187', #Williamson\n",
    "            '47149', #Rutherford\n",
    "            '47119'] #Maury\n",
    "kycounty = ['21003', #Allen, KY\n",
    "            '21213'] #Simpson, KY"
   ]
  },
  {
   "cell_type": "code",
   "execution_count": 3,
   "id": "fd1240f4",
   "metadata": {},
   "outputs": [],
   "source": [
    "tnplac = ['4702180', #Ashland City: Cheatham\n",
    "          '4739660', #Kingston Springs: Cheatham\n",
    "          '4757480', #Pegram: Cheatham\n",
    "          '4759560', #Pleasant View: Cheatham\n",
    "          '4704620', #Belle Meade: Davidson\n",
    "          '4705140', #Berry Hill: Davidson\n",
    "          '4727020', #Forest Hills: Davidson\n",
    "          '4729920', #Goodlettsville: Davidson/Sumner\n",
    "          '4752006', #Nashville-Davidson metropolitan government (balance): Davidson\n",
    "          '4754780', #Oak Hill: Davidson\n",
    "          '4763140', #Ridgetop: Davidson/Robertson\n",
    "          '4709880', #Burns: Dickson\n",
    "          '4713080', #Charlotte: Dickson\n",
    "          '4720620', #Dickson: Dickson\n",
    "          '4769080', #Slayden: Dickson\n",
    "          '4776860', #Vanleer: Dickson\n",
    "          '4779980', #White Bluff: Dickson\n",
    "          '4724320', #Erin: Houston\n",
    "          '4773460', #Tennessee Ridge: Houston/Stewart\n",
    "          '4744840', #McEwen: Humphreys\n",
    "          '4752820', #New Johnsonville: Humphreys\n",
    "          '4778560', #Waverly: Humphreys\n",
    "          '4716540', #Columbia: Maury\n",
    "          '4751080', #Mount Pleasant: Maury\n",
    "          '4770580', #Spring Hill: Maury/Williamson\n",
    "          '4715160', #Clarksville: Montgomery\n",
    "          '4700200', #Adams: Robertson\n",
    "          '4711980', #Cedar Hill: Robertson\n",
    "          '4716980', #Coopertown: Robertson\n",
    "          '4718420', #Cross Plains: Robertson\n",
    "          '4730960', #Greenbrier: Robertson\n",
    "          '4748980', #Millersville: Robertson/Sumner\n",
    "          '4760280', #Portland: Robertson/Sumner\n",
    "          '4770500', #Springfield: Robertson\n",
    "          '4780200', #White House: Robertson/Sumner\n",
    "          '4722360', #Eagleville: Rutherford\n",
    "          '4741200', #La Vergne: Rutherford\n",
    "          '4751560', #Murfreesboro: Rutherford\n",
    "          '4769420', #Smyrna: Rutherford\n",
    "          '4718820', #Cumberland City: Stewart\n",
    "          '4721400', #Dover: Stewart\n",
    "          '4728540', #Gallatin: Sumner\n",
    "          '4733280', #Hendersonville: Sumner\n",
    "          '4779420', #Westmoreland: Sumner\n",
    "          '4708280', #Brentwood: Williamson\n",
    "          '4725440', #Fairview: Williamson\n",
    "          '4727740', #Franklin: Williamson\n",
    "          '4753460', #Nolensville: Williamson\n",
    "          '4773900', #Thompson's Station: Williamson\n",
    "          '4741520', #Lebanon: Wilson\n",
    "          '4750780', #Mount Juliet: Wilson\n",
    "          '4778320', #Watertown: Wilson\n",
    "          '4740160', #Lafayette: Macon\n",
    "          '4749460'] #Mitchelville city: Sumner\n",
    "kyplac = ['2169114', #Scottsville city, Kentucky\n",
    "          '2128918'] #Franklin city, Kentucky"
   ]
  },
  {
   "cell_type": "markdown",
   "id": "b9d1da7e",
   "metadata": {},
   "source": [
    "# 2020"
   ]
  },
  {
   "cell_type": "markdown",
   "id": "2a040000",
   "metadata": {},
   "source": [
    "STATE 2020"
   ]
  },
  {
   "cell_type": "code",
   "execution_count": 129,
   "id": "546b1912",
   "metadata": {},
   "outputs": [
    {
     "name": "stdout",
     "output_type": "stream",
     "text": [
      "Your geographic file is ready.\n"
     ]
    }
   ],
   "source": [
    "url = 'https://www2.census.gov/geo/tiger/TIGER2020/STATE/tl_2020_us_state.zip'\n",
    "geo = gpd.read_file(url)\n",
    "print('Your geographic file is ready.')"
   ]
  },
  {
   "cell_type": "code",
   "execution_count": 130,
   "id": "82d2eda0",
   "metadata": {},
   "outputs": [],
   "source": [
    "tn = geo.loc[geo['GEOID'] == '47']\n",
    "tn = tn.drop(columns = ['REGION', 'DIVISION', 'STATEFP', 'STATENS', 'STUSPS', 'LSAD',\n",
    "                        'MTFCC', 'FUNCSTAT', 'AWATER', 'INTPTLAT', 'INTPTLON'])\n",
    "tn = tn.rename(columns = {'GEOID':'GEO_ID'})\n",
    "tn['GEO_ID'] = '0400000US' + tn['GEO_ID']"
   ]
  },
  {
   "cell_type": "markdown",
   "id": "6989209d",
   "metadata": {},
   "source": [
    "COUNTIES 2020"
   ]
  },
  {
   "cell_type": "code",
   "execution_count": 131,
   "id": "83ec1af8",
   "metadata": {},
   "outputs": [
    {
     "name": "stdout",
     "output_type": "stream",
     "text": [
      "Your geographic file is ready.\n"
     ]
    }
   ],
   "source": [
    "url = 'https://www2.census.gov/geo/tiger/TIGER2020/COUNTY/tl_2020_us_county.zip'\n",
    "geo = gpd.read_file(url)\n",
    "print('Your geographic file is ready.')"
   ]
  },
  {
   "cell_type": "code",
   "execution_count": 132,
   "id": "ab7f735f",
   "metadata": {},
   "outputs": [],
   "source": [
    "tncounties = geo.loc[geo['GEOID'].isin(tncounty)]\n",
    "tncounties = tncounties.drop(columns = ['STATEFP', 'COUNTYFP', 'COUNTYNS', 'NAME', 'LSAD', 'CLASSFP',\n",
    "                                        'MTFCC', 'CSAFP', 'CBSAFP', 'METDIVFP', 'FUNCSTAT', 'AWATER', 'INTPTLAT', 'INTPTLON'])\n",
    "tncounties = tncounties.rename(columns = {'GEOID':'GEO_ID', 'NAMELSAD':'NAME'})\n",
    "tncounties['NAME'] = tncounties['NAME'] + ', Tennessee'\n",
    "tncounties['GEO_ID'] = '0500000US' + tncounties['GEO_ID']"
   ]
  },
  {
   "cell_type": "code",
   "execution_count": 133,
   "id": "9e9322b1",
   "metadata": {},
   "outputs": [],
   "source": [
    "kycounties = geo.loc[geo['GEOID'].isin(kycounty)]\n",
    "kycounties = kycounties.drop(columns = ['STATEFP', 'COUNTYFP', 'COUNTYNS', 'NAME', 'LSAD', 'CLASSFP',\n",
    "                                        'MTFCC', 'CSAFP', 'CBSAFP', 'METDIVFP', 'FUNCSTAT', 'AWATER', 'INTPTLAT', 'INTPTLON'])\n",
    "kycounties = kycounties.rename(columns = {'GEOID':'GEO_ID', 'NAMELSAD':'NAME'})\n",
    "kycounties['NAME'] = kycounties['NAME'] + ', Kentucky'\n",
    "kycounties['GEO_ID'] = '0500000US' + kycounties['GEO_ID']"
   ]
  },
  {
   "cell_type": "markdown",
   "id": "00762569",
   "metadata": {},
   "source": [
    "PLACES 2020"
   ]
  },
  {
   "cell_type": "code",
   "execution_count": 134,
   "id": "6bb19a3e",
   "metadata": {},
   "outputs": [
    {
     "name": "stdout",
     "output_type": "stream",
     "text": [
      "Your geographic file is ready.\n"
     ]
    }
   ],
   "source": [
    "#Tennessee Places\n",
    "url= 'https://www2.census.gov/geo/tiger/TIGER2020/PLACE/tl_2020_47_place.zip'\n",
    "geo = gpd.read_file(url)\n",
    "print('Your geographic file is ready.')"
   ]
  },
  {
   "cell_type": "code",
   "execution_count": 135,
   "id": "ee2c68a9",
   "metadata": {},
   "outputs": [],
   "source": [
    "tnplaces = geo.loc[geo['GEOID'].isin(tnplac)]\n",
    "tnplaces = tnplaces.drop(columns = ['STATEFP', 'PLACEFP', 'PLACENS', 'NAME', 'LSAD', 'CLASSFP',\n",
    "                          'PCICBSA', 'PCINECTA', 'MTFCC', 'FUNCSTAT', 'AWATER', 'INTPTLAT', 'INTPTLON'])\n",
    "tnplaces = tnplaces.rename(columns = {'GEOID':'GEO_ID', 'NAMELSAD':'NAME'})\n",
    "tnplaces['NAME'] = tnplaces['NAME'] + ', Tennessee'\n",
    "tnplaces['GEO_ID'] = '1600000US' + tnplaces['GEO_ID']"
   ]
  },
  {
   "cell_type": "code",
   "execution_count": 136,
   "id": "a8eeaa58",
   "metadata": {},
   "outputs": [
    {
     "name": "stdout",
     "output_type": "stream",
     "text": [
      "Your geographic file is ready.\n"
     ]
    }
   ],
   "source": [
    "#Kentucky Places\n",
    "url= 'https://www2.census.gov/geo/tiger/TIGER2020/PLACE/tl_2020_21_place.zip'\n",
    "geo = gpd.read_file(url)\n",
    "print('Your geographic file is ready.')"
   ]
  },
  {
   "cell_type": "code",
   "execution_count": 137,
   "id": "98771598",
   "metadata": {},
   "outputs": [
    {
     "data": {
      "text/html": [
       "<div>\n",
       "<style scoped>\n",
       "    .dataframe tbody tr th:only-of-type {\n",
       "        vertical-align: middle;\n",
       "    }\n",
       "\n",
       "    .dataframe tbody tr th {\n",
       "        vertical-align: top;\n",
       "    }\n",
       "\n",
       "    .dataframe thead th {\n",
       "        text-align: right;\n",
       "    }\n",
       "</style>\n",
       "<table border=\"1\" class=\"dataframe\">\n",
       "  <thead>\n",
       "    <tr style=\"text-align: right;\">\n",
       "      <th></th>\n",
       "      <th>GEO_ID</th>\n",
       "      <th>NAME</th>\n",
       "      <th>ALAND</th>\n",
       "      <th>geometry</th>\n",
       "    </tr>\n",
       "  </thead>\n",
       "  <tbody>\n",
       "    <tr>\n",
       "      <th>87</th>\n",
       "      <td>1600000US2128918</td>\n",
       "      <td>Franklin city, Kentucky</td>\n",
       "      <td>38193278</td>\n",
       "      <td>MULTIPOLYGON (((-86.56326 36.74383, -86.56317 ...</td>\n",
       "    </tr>\n",
       "    <tr>\n",
       "      <th>384</th>\n",
       "      <td>1600000US2169114</td>\n",
       "      <td>Scottsville city, Kentucky</td>\n",
       "      <td>16324141</td>\n",
       "      <td>POLYGON ((-86.31826 36.83578, -86.31787 36.836...</td>\n",
       "    </tr>\n",
       "  </tbody>\n",
       "</table>\n",
       "</div>"
      ],
      "text/plain": [
       "               GEO_ID                        NAME     ALAND                                           geometry\n",
       "87   1600000US2128918     Franklin city, Kentucky  38193278  MULTIPOLYGON (((-86.56326 36.74383, -86.56317 ...\n",
       "384  1600000US2169114  Scottsville city, Kentucky  16324141  POLYGON ((-86.31826 36.83578, -86.31787 36.836..."
      ]
     },
     "execution_count": 137,
     "metadata": {},
     "output_type": "execute_result"
    }
   ],
   "source": [
    "kyplaces = geo.loc[geo['GEOID'].isin(kyplac)]\n",
    "kyplaces = kyplaces.drop(columns = ['STATEFP', 'PLACEFP', 'PLACENS', 'NAME', 'LSAD', 'CLASSFP',\n",
    "                          'PCICBSA', 'PCINECTA', 'MTFCC', 'FUNCSTAT', 'AWATER', 'INTPTLAT', 'INTPTLON'])\n",
    "kyplaces = kyplaces.rename(columns = {'GEOID':'GEO_ID', 'NAMELSAD':'NAME'})\n",
    "kyplaces['NAME'] = kyplaces['NAME'] + ', Kentucky'\n",
    "kyplaces['GEO_ID'] = '1600000US' + kyplaces['GEO_ID']\n",
    "kyplaces.head()"
   ]
  },
  {
   "cell_type": "markdown",
   "id": "531d1880",
   "metadata": {},
   "source": [
    "BLOCK GROUPS 2020"
   ]
  },
  {
   "cell_type": "code",
   "execution_count": 138,
   "id": "66f52b97",
   "metadata": {},
   "outputs": [
    {
     "name": "stdout",
     "output_type": "stream",
     "text": [
      "Your geographic file is ready.\n"
     ]
    }
   ],
   "source": [
    "#Tennessee Block Groups\n",
    "url= 'https://www2.census.gov/geo/tiger/TIGER2020/PLACE/tl_2020_21_place.zip'\n",
    "geo = gpd.read_file(url)\n",
    "print('Your geographic file is ready.')"
   ]
  },
  {
   "cell_type": "code",
   "execution_count": null,
   "id": "65ff8d7f",
   "metadata": {},
   "outputs": [],
   "source": []
  },
  {
   "cell_type": "markdown",
   "id": "37813f80",
   "metadata": {},
   "source": [
    "Join 2020"
   ]
  },
  {
   "cell_type": "code",
   "execution_count": 139,
   "id": "cf7bc37a",
   "metadata": {},
   "outputs": [
    {
     "name": "stdout",
     "output_type": "stream",
     "text": [
      "<class 'geopandas.geodataframe.GeoDataFrame'>\n",
      "RangeIndex: 74 entries, 0 to 73\n",
      "Data columns (total 4 columns):\n",
      " #   Column    Non-Null Count  Dtype   \n",
      "---  ------    --------------  -----   \n",
      " 0   GEO_ID    74 non-null     object  \n",
      " 1   NAME      74 non-null     object  \n",
      " 2   ALAND     74 non-null     int64   \n",
      " 3   geometry  74 non-null     geometry\n",
      "dtypes: geometry(1), int64(1), object(2)\n",
      "memory usage: 2.4+ KB\n"
     ]
    }
   ],
   "source": [
    "df = kyplaces.append(tnplaces)\n",
    "df = df.append(tncounties).reset_index(drop = True)\n",
    "df = df.append(kycounties).reset_index(drop = True)\n",
    "df = df.append(tn).reset_index(drop = True)\n",
    "df.info()"
   ]
  },
  {
   "cell_type": "code",
   "execution_count": 140,
   "id": "ffc50d31",
   "metadata": {},
   "outputs": [],
   "source": [
    "geometries = df[['GEO_ID', 'geometry']].copy()\n",
    "df = df.drop(columns = 'geometry')"
   ]
  },
  {
   "cell_type": "code",
   "execution_count": 141,
   "id": "cec8c92d",
   "metadata": {},
   "outputs": [],
   "source": [
    "df['ALAND'] = df['ALAND'].astype(float)\n",
    "df = df.set_index(['NAME', 'GEO_ID'])\n",
    "data = df.transpose()"
   ]
  },
  {
   "cell_type": "code",
   "execution_count": 142,
   "id": "65e49883",
   "metadata": {},
   "outputs": [],
   "source": [
    "GNRCCounties = [data[('Stewart County, Tennessee', '0500000US47161')],data[('Montgomery County, Tennessee', '0500000US47125')],\n",
    "                data[('Houston County, Tennessee', '0500000US47083')],data[('Humphreys County, Tennessee', '0500000US47085')],\n",
    "                data[('Dickson County, Tennessee', '0500000US47043')],data[('Cheatham County, Tennessee', '0500000US47021')],\n",
    "                data[('Robertson County, Tennessee', '0500000US47147')],data[('Sumner County, Tennessee', '0500000US47165')],\n",
    "                data[('Davidson County, Tennessee', '0500000US47037')],data[('Wilson County, Tennessee', '0500000US47189')],\n",
    "                data[('Trousdale County, Tennessee', '0500000US47169')],data[('Williamson County, Tennessee', '0500000US47187')],\n",
    "                data[('Rutherford County, Tennessee', '0500000US47149')]]\n",
    "data['GNRC'] = sum(GNRCCounties)\n",
    "GNRCCountiesAll = [data[('Stewart County, Tennessee', '0500000US47161')],data[('Montgomery County, Tennessee', '0500000US47125')],\n",
    "                   data[('Houston County, Tennessee', '0500000US47083')],data[('Humphreys County, Tennessee', '0500000US47085')],\n",
    "                   data[('Dickson County, Tennessee', '0500000US47043')],data[('Cheatham County, Tennessee', '0500000US47021')],\n",
    "                   data[('Robertson County, Tennessee', '0500000US47147')],data[('Sumner County, Tennessee', '0500000US47165')],\n",
    "                   data[('Davidson County, Tennessee', '0500000US47037')],data[('Wilson County, Tennessee', '0500000US47189')],\n",
    "                   data[('Trousdale County, Tennessee', '0500000US47169')],data[('Williamson County, Tennessee', '0500000US47187')],\n",
    "                   data[('Rutherford County, Tennessee', '0500000US47149')],data[('Maury County, Tennessee', '0500000US47119')]]\n",
    "data['GNRC Region'] = sum(GNRCCountiesAll)\n",
    "MPOCounties = [data[('Robertson County, Tennessee', '0500000US47147')],data[('Sumner County, Tennessee', '0500000US47165')],\n",
    "               data[('Davidson County, Tennessee', '0500000US47037')],data[('Wilson County, Tennessee', '0500000US47189')],\n",
    "               data[('Williamson County, Tennessee', '0500000US47187')],data[('Rutherford County, Tennessee', '0500000US47149')],\n",
    "               data[('Maury County, Tennessee', '0500000US47119')]]\n",
    "data['MPO'] = sum(MPOCounties)\n",
    "RuthInc = [data[('Eagleville city, Tennessee', '1600000US4722360')],data[('La Vergne city, Tennessee', '1600000US4741200')],\n",
    "           data[('Murfreesboro city, Tennessee', '1600000US4751560')],data[('Smyrna town, Tennessee', '1600000US4769420')]]\n",
    "data[('Rutherford Incorporated', 'None')] = sum(RuthInc)\n",
    "data[('Rutherford Unincorporated', 'None')] = data[('Rutherford County, Tennessee', '0500000US47149')] - data[('Rutherford Incorporated', 'None')]\n",
    "WilsonInc = [data[('Lebanon city, Tennessee', '1600000US4741520')],data[('Mount Juliet city, Tennessee', '1600000US4750780')],\n",
    "             data[('Watertown city, Tennessee', '1600000US4778320')]]\n",
    "data[('Wilson Incorporated', 'None')] = sum(WilsonInc)\n",
    "data[('Wilson Unincorporated', 'None')] = data[('Wilson County, Tennessee', '0500000US47189')] - data[('Wilson Incorporated', 'None')]\n",
    "CheathInc = [data[('Ashland City town, Tennessee', '1600000US4702180')],data[('Kingston Springs town, Tennessee', '1600000US4739660')],\n",
    "             data[('Pegram town, Tennessee', '1600000US4757480')],data[('Pleasant View city, Tennessee', '1600000US4759560')]]\n",
    "data[('Cheatham Incorporated', 'None')] = sum(CheathInc)\n",
    "data[('Cheatham Unincorporated', 'None')] = data[('Cheatham County, Tennessee', '0500000US47021')] - data[('Cheatham Incorporated', 'None')]\n",
    "DicksInc = [data[('Burns town, Tennessee', '1600000US4709880')],data[('Charlotte town, Tennessee', '1600000US4713080')],\n",
    "            data[('Dickson city, Tennessee', '1600000US4720620')],data[('Slayden town, Tennessee', '1600000US4769080')],\n",
    "            data[('Vanleer town, Tennessee', '1600000US4776860')],data[('White Bluff town, Tennessee', '1600000US4779980')]]\n",
    "data[('Dickson Incorporated', 'None')] = sum(DicksInc)\n",
    "data[('Dickson Unincorporated', 'None')] = data[('Dickson County, Tennessee', '0500000US47043')] - data[('Dickson Incorporated', 'None')]\n",
    "HumphInc = [data[('McEwen city, Tennessee', '1600000US4744840')],data[('New Johnsonville city, Tennessee', '1600000US4752820')],\n",
    "            data[('Waverly city, Tennessee', '1600000US4778560')]]\n",
    "data[('Humphreys Incorporated', 'None')] = sum(HumphInc)\n",
    "data[('Humphreys Unincorporated', 'None')] = data[('Humphreys County, Tennessee', '0500000US47085')] - data[('Humphreys Incorporated', 'None')]\n",
    "data[('Montgomery Incorporated', 'None')] = data[('Clarksville city, Tennessee', '1600000US4715160')]\n",
    "data[('Montgomery Unincorporated', 'None')] = data[('Montgomery County, Tennessee', '0500000US47125')] - data[('Montgomery Incorporated', 'None')]"
   ]
  },
  {
   "cell_type": "code",
   "execution_count": 143,
   "id": "50274eb1",
   "metadata": {},
   "outputs": [],
   "source": [
    "#rename geographies dict\n",
    "data = data.rename(columns = {'Allen County, Kentucky': 'Allen County, KY', 'Cheatham County, Tennessee': 'Cheatham County', \n",
    "                              'Davidson County, Tennessee': 'Davidson County', 'Dickson County, Tennessee': 'Dickson County', \n",
    "                              'Houston County, Tennessee': 'Houston County', 'Humphreys County, Tennessee': 'Humphreys County', \n",
    "                              'Maury County, Tennessee': 'Maury County', 'Montgomery County, Tennessee': 'Montgomery County', \n",
    "                              'Robertson County, Tennessee': 'Robertson County', 'Rutherford County, Tennessee': 'Rutherford County', \n",
    "                              'Simpson County, Kentucky': 'Simpson County, KY', 'Stewart County, Tennessee': 'Stewart County', \n",
    "                              'Sumner County, Tennessee': 'Sumner County', 'Trousdale County, Tennessee': 'Trousdale County', \n",
    "                              'Williamson County, Tennessee': 'Williamson County', 'Wilson County, Tennessee': 'Wilson County', \n",
    "                              'Adams city, Tennessee': 'Adams', 'Ashland City town, Tennessee': 'Ashland City', 'Belle Meade city, Tennessee': 'Belle Meade', \n",
    "                              'Berry Hill city, Tennessee': 'Berry Hill', 'Brentwood city, Tennessee': 'Brentwood', 'Burns town, Tennessee': 'Burns', \n",
    "                              'Cedar Hill city, Tennessee': 'Cedar Hill', 'Charlotte town, Tennessee': 'Charlotte', 'Clarksville city, Tennessee': 'Clarksville', \n",
    "                              'Columbia city, Tennessee': 'Columbia', 'Coopertown town, Tennessee': 'Coopertown', 'Cross Plains city, Tennessee': 'Cross Plains', \n",
    "                              'Cumberland City town, Tennessee': 'Cumberland City', 'Dickson city, Tennessee': 'Dickson', 'Dover city, Tennessee': 'Dover', \n",
    "                              'Eagleville city, Tennessee': 'Eagleville', 'Erin city, Tennessee': 'Erin', 'Fairview city, Tennessee': 'Fairview', \n",
    "                              'Forest Hills city, Tennessee': 'Forest Hills', 'Franklin city, Tennessee': 'Franklin', 'Gallatin city, Tennessee': 'Gallatin', \n",
    "                              'Goodlettsville city, Tennessee': 'Goodlettsville', 'Greenbrier town, Tennessee': 'Greenbrier', \n",
    "                              'Hendersonville city, Tennessee': 'Hendersonville', 'Kingston Springs town, Tennessee': 'Kingston Springs', \n",
    "                              'La Vergne city, Tennessee': 'La Vergne', 'Lafayette city, Tennessee': 'Lafayette', 'Lebanon city, Tennessee': 'Lebanon', \n",
    "                              'McEwen city, Tennessee': 'McEwen', 'Millersville city, Tennessee': 'Millersville', 'Mitchellville city, Tennessee': 'Mitchellville', \n",
    "                              'Mount Juliet city, Tennessee': 'Mount Juliet', 'Mount Pleasant city, Tennessee': 'Mount Pleasant', \n",
    "                              'Murfreesboro city, Tennessee': 'Murfreesboro', 'Nashville-Davidson metropolitan government (balance)': 'Nashville', \n",
    "                              'New Johnsonville city, Tennessee': 'New Johnsonville', 'Nolensville town, Tennessee': 'Nolensville', \n",
    "                              'Oak Hill city, Tennessee': 'Oak Hill', 'Pegram town, Tennessee': 'Pegram', 'Pleasant View city, Tennessee': 'Pleasant View', \n",
    "                              'Portland city, Tennessee': 'Portland', 'Ridgetop city, Tennessee': 'Ridgetop', 'Slayden town, Tennessee': 'Slayden', \n",
    "                              'Smyrna town, Tennessee': 'Smyrna', 'Spring Hill city, Tennessee': 'Spring Hill', 'Springfield city, Tennessee': 'Springfield', \n",
    "                              'Tennessee Ridge town, Tennessee': 'Tennessee Ridge', \"Thompson's Station town, Tennessee\": \"Thompson's Station\", \n",
    "                              'Vanleer town, Tennessee': 'Vanleer', 'Watertown city, Tennessee': 'Watertown', 'Waverly city, Tennessee': 'Waverly', \n",
    "                              'Westmoreland town, Tennessee': 'Westmoreland', 'White Bluff town, Tennessee': 'White Bluff', \n",
    "                              'White House city, Tennessee': 'White House', 'Franklin city, Kentucky': 'Franklin, KY', \n",
    "                              'Scottsville city, Kentucky': 'Scottsville, KY'})"
   ]
  },
  {
   "cell_type": "code",
   "execution_count": 144,
   "id": "62e72775",
   "metadata": {},
   "outputs": [],
   "source": [
    "data = data.transpose().reset_index()\n",
    "data['Square Acres'] = data['ALAND']*0.000247105\n",
    "data['Square Miles'] = data['ALAND']*0.00000038610215855\n",
    "data = data.drop(columns = 'ALAND')"
   ]
  },
  {
   "cell_type": "code",
   "execution_count": 145,
   "id": "710ccf91",
   "metadata": {},
   "outputs": [],
   "source": [
    "wgeos = data.merge(geometries, on = 'GEO_ID')"
   ]
  },
  {
   "cell_type": "code",
   "execution_count": 146,
   "id": "19f0a0cf",
   "metadata": {},
   "outputs": [],
   "source": [
    "#rename geographies dict\n",
    "wgeos = wgeos.set_index('NAME').transpose()\n",
    "wgeos = wgeos.rename(columns = {'Allen County, Kentucky': 'Allen County, KY', 'Cheatham County, Tennessee': 'Cheatham County', \n",
    "                              'Davidson County, Tennessee': 'Davidson County', 'Dickson County, Tennessee': 'Dickson County', \n",
    "                              'Houston County, Tennessee': 'Houston County', 'Humphreys County, Tennessee': 'Humphreys County', \n",
    "                              'Maury County, Tennessee': 'Maury County', 'Montgomery County, Tennessee': 'Montgomery County', \n",
    "                              'Robertson County, Tennessee': 'Robertson County', 'Rutherford County, Tennessee': 'Rutherford County', \n",
    "                              'Simpson County, Kentucky': 'Simpson County, KY', 'Stewart County, Tennessee': 'Stewart County', \n",
    "                              'Sumner County, Tennessee': 'Sumner County', 'Trousdale County, Tennessee': 'Trousdale County', \n",
    "                              'Williamson County, Tennessee': 'Williamson County', 'Wilson County, Tennessee': 'Wilson County', \n",
    "                              'Adams city, Tennessee': 'Adams', 'Ashland City town, Tennessee': 'Ashland City', 'Belle Meade city, Tennessee': 'Belle Meade', \n",
    "                              'Berry Hill city, Tennessee': 'Berry Hill', 'Brentwood city, Tennessee': 'Brentwood', 'Burns town, Tennessee': 'Burns', \n",
    "                              'Cedar Hill city, Tennessee': 'Cedar Hill', 'Charlotte town, Tennessee': 'Charlotte', 'Clarksville city, Tennessee': 'Clarksville', \n",
    "                              'Columbia city, Tennessee': 'Columbia', 'Coopertown town, Tennessee': 'Coopertown', 'Cross Plains city, Tennessee': 'Cross Plains', \n",
    "                              'Cumberland City town, Tennessee': 'Cumberland City', 'Dickson city, Tennessee': 'Dickson', 'Dover city, Tennessee': 'Dover', \n",
    "                              'Eagleville city, Tennessee': 'Eagleville', 'Erin city, Tennessee': 'Erin', 'Fairview city, Tennessee': 'Fairview', \n",
    "                              'Forest Hills city, Tennessee': 'Forest Hills', 'Franklin city, Tennessee': 'Franklin', 'Gallatin city, Tennessee': 'Gallatin', \n",
    "                              'Goodlettsville city, Tennessee': 'Goodlettsville', 'Greenbrier town, Tennessee': 'Greenbrier', \n",
    "                              'Hendersonville city, Tennessee': 'Hendersonville', 'Kingston Springs town, Tennessee': 'Kingston Springs', \n",
    "                              'La Vergne city, Tennessee': 'La Vergne', 'Lafayette city, Tennessee': 'Lafayette', 'Lebanon city, Tennessee': 'Lebanon', \n",
    "                              'McEwen city, Tennessee': 'McEwen', 'Millersville city, Tennessee': 'Millersville', 'Mitchellville city, Tennessee': 'Mitchellville', \n",
    "                              'Mount Juliet city, Tennessee': 'Mount Juliet', 'Mount Pleasant city, Tennessee': 'Mount Pleasant', \n",
    "                              'Murfreesboro city, Tennessee': 'Murfreesboro', 'Nashville-Davidson metropolitan government (balance)': 'Nashville', \n",
    "                              'New Johnsonville city, Tennessee': 'New Johnsonville', 'Nolensville town, Tennessee': 'Nolensville', \n",
    "                              'Oak Hill city, Tennessee': 'Oak Hill', 'Pegram town, Tennessee': 'Pegram', 'Pleasant View city, Tennessee': 'Pleasant View', \n",
    "                              'Portland city, Tennessee': 'Portland', 'Ridgetop city, Tennessee': 'Ridgetop', 'Slayden town, Tennessee': 'Slayden', \n",
    "                              'Smyrna town, Tennessee': 'Smyrna', 'Spring Hill city, Tennessee': 'Spring Hill', 'Springfield city, Tennessee': 'Springfield', \n",
    "                              'Tennessee Ridge town, Tennessee': 'Tennessee Ridge', \"Thompson's Station town, Tennessee\": \"Thompson's Station\", \n",
    "                              'Vanleer town, Tennessee': 'Vanleer', 'Watertown city, Tennessee': 'Watertown', 'Waverly city, Tennessee': 'Waverly', \n",
    "                              'Westmoreland town, Tennessee': 'Westmoreland', 'White Bluff town, Tennessee': 'White Bluff', \n",
    "                              'White House city, Tennessee': 'White House', 'Franklin city, Kentucky': 'Franklin, KY', \n",
    "                              'Scottsville city, Kentucky': 'Scottsville, KY'})\n",
    "wgeos = wgeos.transpose().reset_index(drop = False)"
   ]
  },
  {
   "cell_type": "code",
   "execution_count": 149,
   "id": "0b9cbec6",
   "metadata": {},
   "outputs": [
    {
     "data": {
      "text/html": [
       "<div>\n",
       "<style scoped>\n",
       "    .dataframe tbody tr th:only-of-type {\n",
       "        vertical-align: middle;\n",
       "    }\n",
       "\n",
       "    .dataframe tbody tr th {\n",
       "        vertical-align: top;\n",
       "    }\n",
       "\n",
       "    .dataframe thead th {\n",
       "        text-align: right;\n",
       "    }\n",
       "</style>\n",
       "<table border=\"1\" class=\"dataframe\">\n",
       "  <thead>\n",
       "    <tr style=\"text-align: right;\">\n",
       "      <th></th>\n",
       "      <th>NAME</th>\n",
       "      <th>GEO_ID</th>\n",
       "      <th>Square Acres</th>\n",
       "      <th>Square Miles</th>\n",
       "      <th>geometry</th>\n",
       "    </tr>\n",
       "  </thead>\n",
       "  <tbody>\n",
       "    <tr>\n",
       "      <th>0</th>\n",
       "      <td>Franklin, KY</td>\n",
       "      <td>1600000US2128918</td>\n",
       "      <td>9437.74996</td>\n",
       "      <td>14.746507</td>\n",
       "      <td>MULTIPOLYGON (((-86.56326 36.74383, -86.56317 ...</td>\n",
       "    </tr>\n",
       "    <tr>\n",
       "      <th>1</th>\n",
       "      <td>Scottsville, KY</td>\n",
       "      <td>1600000US2169114</td>\n",
       "      <td>4033.776862</td>\n",
       "      <td>6.302786</td>\n",
       "      <td>POLYGON ((-86.31826 36.83578, -86.31787 36.836...</td>\n",
       "    </tr>\n",
       "    <tr>\n",
       "      <th>2</th>\n",
       "      <td>Mount Juliet</td>\n",
       "      <td>1600000US4750780</td>\n",
       "      <td>16041.182095</td>\n",
       "      <td>25.064386</td>\n",
       "      <td>MULTIPOLYGON (((-86.55142 36.17139, -86.55138 ...</td>\n",
       "    </tr>\n",
       "    <tr>\n",
       "      <th>3</th>\n",
       "      <td>Clarksville</td>\n",
       "      <td>1600000US4715160</td>\n",
       "      <td>63616.393738</td>\n",
       "      <td>99.400769</td>\n",
       "      <td>POLYGON ((-87.48197 36.62064, -87.48188 36.620...</td>\n",
       "    </tr>\n",
       "    <tr>\n",
       "      <th>4</th>\n",
       "      <td>Dover</td>\n",
       "      <td>1600000US4721400</td>\n",
       "      <td>2448.762859</td>\n",
       "      <td>3.826198</td>\n",
       "      <td>POLYGON ((-87.89502 36.47924, -87.89495 36.479...</td>\n",
       "    </tr>\n",
       "  </tbody>\n",
       "</table>\n",
       "</div>"
      ],
      "text/plain": [
       "              NAME            GEO_ID  Square Acres Square Miles                                           geometry\n",
       "0     Franklin, KY  1600000US2128918    9437.74996    14.746507  MULTIPOLYGON (((-86.56326 36.74383, -86.56317 ...\n",
       "1  Scottsville, KY  1600000US2169114   4033.776862     6.302786  POLYGON ((-86.31826 36.83578, -86.31787 36.836...\n",
       "2     Mount Juliet  1600000US4750780  16041.182095    25.064386  MULTIPOLYGON (((-86.55142 36.17139, -86.55138 ...\n",
       "3      Clarksville  1600000US4715160  63616.393738    99.400769  POLYGON ((-87.48197 36.62064, -87.48188 36.620...\n",
       "4            Dover  1600000US4721400   2448.762859     3.826198  POLYGON ((-87.89502 36.47924, -87.89495 36.479..."
      ]
     },
     "execution_count": 149,
     "metadata": {},
     "output_type": "execute_result"
    }
   ],
   "source": [
    "wgeos.head()"
   ]
  },
  {
   "cell_type": "code",
   "execution_count": 150,
   "id": "6eb4f198",
   "metadata": {},
   "outputs": [],
   "source": [
    "wgeos.to_file('../../Outputs/TIGERS2020.shp')\n",
    "data.to_csv('../../Outputs/TIGERS2020.csv', index = False)"
   ]
  },
  {
   "cell_type": "markdown",
   "id": "cb86694b",
   "metadata": {},
   "source": [
    "# 2010"
   ]
  },
  {
   "cell_type": "markdown",
   "id": "045b65e8",
   "metadata": {},
   "source": [
    "State 2010"
   ]
  },
  {
   "cell_type": "code",
   "execution_count": 151,
   "id": "472acabe",
   "metadata": {},
   "outputs": [
    {
     "name": "stdout",
     "output_type": "stream",
     "text": [
      "Your geographic file is ready.\n"
     ]
    }
   ],
   "source": [
    "url = 'https://www2.census.gov/geo/tiger/TIGER2010/STATE/2010/tl_2010_47_state10.zip'\n",
    "geo = gpd.read_file(url)\n",
    "print('Your geographic file is ready.')"
   ]
  },
  {
   "cell_type": "code",
   "execution_count": 152,
   "id": "33ddf484",
   "metadata": {},
   "outputs": [],
   "source": [
    "tn = geo\n",
    "tn = tn.drop(columns = ['REGION10', 'DIVISION10', 'STATEFP10', 'STATENS10', 'STUSPS10', 'LSAD10',\n",
    "                        'MTFCC10', 'FUNCSTAT10', 'AWATER10', 'INTPTLAT10', 'INTPTLON10'])\n",
    "tn = tn.rename(columns = {'GEOID10':'GEO_ID', 'NAME10':'NAME'})\n",
    "tn['GEO_ID'] = '0400000US' + tn['GEO_ID']"
   ]
  },
  {
   "cell_type": "markdown",
   "id": "29bcc2d6",
   "metadata": {},
   "source": [
    "COUNTIES 2010"
   ]
  },
  {
   "cell_type": "code",
   "execution_count": 153,
   "id": "efaf83db",
   "metadata": {},
   "outputs": [
    {
     "name": "stdout",
     "output_type": "stream",
     "text": [
      "Your geographic file is ready.\n"
     ]
    }
   ],
   "source": [
    "url = 'https://www2.census.gov/geo/tiger/TIGER2010/COUNTY/2010/tl_2010_47_county10.zip'\n",
    "geo = gpd.read_file(url)\n",
    "print('Your geographic file is ready.')"
   ]
  },
  {
   "cell_type": "code",
   "execution_count": 154,
   "id": "07858110",
   "metadata": {},
   "outputs": [],
   "source": [
    "tncounties = geo.loc[geo['GEOID10'].isin(tncounty)]\n",
    "tncounties = tncounties.drop(columns = ['STATEFP10', 'COUNTYFP10', 'COUNTYNS10', 'NAME10', 'LSAD10', 'CLASSFP10',\n",
    "                                        'MTFCC10', 'CSAFP10', 'CBSAFP10', 'METDIVFP10', 'FUNCSTAT10', 'AWATER10', 'INTPTLAT10', 'INTPTLON10'])\n",
    "tncounties = tncounties.rename(columns = {'GEOID10':'GEO_ID', 'NAMELSAD10':'NAME'})\n",
    "tncounties['NAME'] = tncounties['NAME'] + ', Tennessee'\n",
    "tncounties['GEO_ID'] = '0500000US' + tncounties['GEO_ID']"
   ]
  },
  {
   "cell_type": "code",
   "execution_count": 155,
   "id": "668762ee",
   "metadata": {},
   "outputs": [
    {
     "name": "stdout",
     "output_type": "stream",
     "text": [
      "Your geographic file is ready.\n"
     ]
    }
   ],
   "source": [
    "url = 'https://www2.census.gov/geo/tiger/TIGER2010/COUNTY/2010/tl_2010_21_county10.zip'\n",
    "geo = gpd.read_file(url)\n",
    "print('Your geographic file is ready.')"
   ]
  },
  {
   "cell_type": "code",
   "execution_count": 156,
   "id": "06f50441",
   "metadata": {},
   "outputs": [],
   "source": [
    "kycounties = geo.loc[geo['GEOID10'].isin(kycounty)]\n",
    "kycounties = kycounties.drop(columns = ['STATEFP10', 'COUNTYFP10', 'COUNTYNS10', 'NAME10', 'LSAD10', 'CLASSFP10',\n",
    "                                        'MTFCC10', 'CSAFP10', 'CBSAFP10', 'METDIVFP10', 'FUNCSTAT10', 'AWATER10', 'INTPTLAT10', 'INTPTLON10'])\n",
    "kycounties = kycounties.rename(columns = {'GEOID10':'GEO_ID', 'NAMELSAD10':'NAME'})\n",
    "kycounties['NAME'] = kycounties['NAME'] + ', Kentucky'\n",
    "kycounties['GEO_ID'] = '0500000US' + kycounties['GEO_ID']"
   ]
  },
  {
   "cell_type": "markdown",
   "id": "58dfb42d",
   "metadata": {},
   "source": [
    "PLACES 2010"
   ]
  },
  {
   "cell_type": "code",
   "execution_count": 157,
   "id": "468c1c92",
   "metadata": {},
   "outputs": [
    {
     "name": "stdout",
     "output_type": "stream",
     "text": [
      "Your geographic file is ready.\n"
     ]
    }
   ],
   "source": [
    "#Tennessee Places\n",
    "url= 'https://www2.census.gov/geo/tiger/TIGER2010/PLACE/2010/tl_2010_47_place10.zip'\n",
    "geo = gpd.read_file(url)\n",
    "print('Your geographic file is ready.')"
   ]
  },
  {
   "cell_type": "code",
   "execution_count": 158,
   "id": "20338ae9",
   "metadata": {},
   "outputs": [],
   "source": [
    "tnplaces = geo.loc[geo['GEOID10'].isin(tnplac)]\n",
    "tnplaces = tnplaces.drop(columns = ['STATEFP10', 'PLACEFP10', 'PLACENS10', 'NAME10', 'LSAD10', 'CLASSFP10',\n",
    "                          'PCICBSA10', 'PCINECTA10', 'MTFCC10', 'FUNCSTAT10', 'AWATER10', 'INTPTLAT10', 'INTPTLON10'])\n",
    "tnplaces = tnplaces.rename(columns = {'GEOID10':'GEO_ID', 'NAMELSAD10':'NAME'})\n",
    "tnplaces['NAME'] = tnplaces['NAME'] + ', Tennessee'\n",
    "tnplaces['GEO_ID'] = '1600000US' + tnplaces['GEO_ID']"
   ]
  },
  {
   "cell_type": "code",
   "execution_count": 159,
   "id": "03393db6",
   "metadata": {},
   "outputs": [
    {
     "name": "stdout",
     "output_type": "stream",
     "text": [
      "Your geographic file is ready.\n"
     ]
    }
   ],
   "source": [
    "#Kentucky Places\n",
    "url= 'https://www2.census.gov/geo/tiger/TIGER2010/PLACE/2010/tl_2010_21_place10.zip'\n",
    "geo = gpd.read_file(url)\n",
    "print('Your geographic file is ready.')"
   ]
  },
  {
   "cell_type": "code",
   "execution_count": 160,
   "id": "3d103871",
   "metadata": {},
   "outputs": [],
   "source": [
    "kyplaces = geo.loc[geo['GEOID10'].isin(kyplac)]\n",
    "kyplaces = kyplaces.drop(columns = ['STATEFP10', 'PLACEFP10', 'PLACENS10', 'NAME10', 'LSAD10', 'CLASSFP10',\n",
    "                          'PCICBSA10', 'PCINECTA10', 'MTFCC10', 'FUNCSTAT10', 'AWATER10', 'INTPTLAT10', 'INTPTLON10'])\n",
    "kyplaces = kyplaces.rename(columns = {'GEOID10':'GEO_ID', 'NAMELSAD10':'NAME'})\n",
    "kyplaces['NAME'] = kyplaces['NAME'] + ', Kentucky'\n",
    "kyplaces['GEO_ID'] = '1600000US' + kyplaces['GEO_ID']"
   ]
  },
  {
   "cell_type": "markdown",
   "id": "38a1b5c3",
   "metadata": {},
   "source": [
    "JOIN 2010"
   ]
  },
  {
   "cell_type": "code",
   "execution_count": 161,
   "id": "c9fa8dd7",
   "metadata": {},
   "outputs": [],
   "source": [
    "df = kyplaces.append(tnplaces)\n",
    "df = df.append(tncounties).reset_index(drop = True)\n",
    "df = df.append(kycounties).reset_index(drop = True)\n",
    "df = df.append(tn).reset_index(drop = True)"
   ]
  },
  {
   "cell_type": "code",
   "execution_count": 162,
   "id": "1a2b96ed",
   "metadata": {},
   "outputs": [],
   "source": [
    "geometries = df[['GEO_ID', 'geometry']].copy()\n",
    "df = df.drop(columns = 'geometry')"
   ]
  },
  {
   "cell_type": "code",
   "execution_count": 163,
   "id": "4323adc4",
   "metadata": {},
   "outputs": [],
   "source": [
    "df['ALAND10'] = df['ALAND10'].astype(float)\n",
    "df = df.set_index(['NAME', 'GEO_ID'])\n",
    "data = df.transpose()"
   ]
  },
  {
   "cell_type": "code",
   "execution_count": 164,
   "id": "13bbe03a",
   "metadata": {},
   "outputs": [],
   "source": [
    "GNRCCounties = [data[('Stewart County, Tennessee', '0500000US47161')],data[('Montgomery County, Tennessee', '0500000US47125')],\n",
    "                data[('Houston County, Tennessee', '0500000US47083')],data[('Humphreys County, Tennessee', '0500000US47085')],\n",
    "                data[('Dickson County, Tennessee', '0500000US47043')],data[('Cheatham County, Tennessee', '0500000US47021')],\n",
    "                data[('Robertson County, Tennessee', '0500000US47147')],data[('Sumner County, Tennessee', '0500000US47165')],\n",
    "                data[('Davidson County, Tennessee', '0500000US47037')],data[('Wilson County, Tennessee', '0500000US47189')],\n",
    "                data[('Trousdale County, Tennessee', '0500000US47169')],data[('Williamson County, Tennessee', '0500000US47187')],\n",
    "                data[('Rutherford County, Tennessee', '0500000US47149')]]\n",
    "data['GNRC'] = sum(GNRCCounties)\n",
    "GNRCCountiesAll = [data[('Stewart County, Tennessee', '0500000US47161')],data[('Montgomery County, Tennessee', '0500000US47125')],\n",
    "                   data[('Houston County, Tennessee', '0500000US47083')],data[('Humphreys County, Tennessee', '0500000US47085')],\n",
    "                   data[('Dickson County, Tennessee', '0500000US47043')],data[('Cheatham County, Tennessee', '0500000US47021')],\n",
    "                   data[('Robertson County, Tennessee', '0500000US47147')],data[('Sumner County, Tennessee', '0500000US47165')],\n",
    "                   data[('Davidson County, Tennessee', '0500000US47037')],data[('Wilson County, Tennessee', '0500000US47189')],\n",
    "                   data[('Trousdale County, Tennessee', '0500000US47169')],data[('Williamson County, Tennessee', '0500000US47187')],\n",
    "                   data[('Rutherford County, Tennessee', '0500000US47149')],data[('Maury County, Tennessee', '0500000US47119')]]\n",
    "data['GNRC Region'] = sum(GNRCCountiesAll)\n",
    "MPOCounties = [data[('Robertson County, Tennessee', '0500000US47147')],data[('Sumner County, Tennessee', '0500000US47165')],\n",
    "               data[('Davidson County, Tennessee', '0500000US47037')],data[('Wilson County, Tennessee', '0500000US47189')],\n",
    "               data[('Williamson County, Tennessee', '0500000US47187')],data[('Rutherford County, Tennessee', '0500000US47149')],\n",
    "               data[('Maury County, Tennessee', '0500000US47119')]]\n",
    "data['MPO'] = sum(MPOCounties)\n",
    "RuthInc = [data[('Eagleville city, Tennessee', '1600000US4722360')],data[('La Vergne city, Tennessee', '1600000US4741200')],\n",
    "           data[('Murfreesboro city, Tennessee', '1600000US4751560')],data[('Smyrna town, Tennessee', '1600000US4769420')]]\n",
    "data[('Rutherford Incorporated', 'None')] = sum(RuthInc)\n",
    "data[('Rutherford Unincorporated', 'None')] = data[('Rutherford County, Tennessee', '0500000US47149')] - data[('Rutherford Incorporated', 'None')]\n",
    "WilsonInc = [data[('Lebanon city, Tennessee', '1600000US4741520')],data[('Mount Juliet city, Tennessee', '1600000US4750780')],\n",
    "             data[('Watertown city, Tennessee', '1600000US4778320')]]\n",
    "data[('Wilson Incorporated', 'None')] = sum(WilsonInc)\n",
    "data[('Wilson Unincorporated', 'None')] = data[('Wilson County, Tennessee', '0500000US47189')] - data[('Wilson Incorporated', 'None')]\n",
    "CheathInc = [data[('Ashland City town, Tennessee', '1600000US4702180')],data[('Kingston Springs town, Tennessee', '1600000US4739660')],\n",
    "             data[('Pegram town, Tennessee', '1600000US4757480')],data[('Pleasant View city, Tennessee', '1600000US4759560')]]\n",
    "data[('Cheatham Incorporated', 'None')] = sum(CheathInc)\n",
    "data[('Cheatham Unincorporated', 'None')] = data[('Cheatham County, Tennessee', '0500000US47021')] - data[('Cheatham Incorporated', 'None')]\n",
    "DicksInc = [data[('Burns town, Tennessee', '1600000US4709880')],data[('Charlotte town, Tennessee', '1600000US4713080')],\n",
    "            data[('Dickson city, Tennessee', '1600000US4720620')],data[('Slayden town, Tennessee', '1600000US4769080')],\n",
    "            data[('Vanleer town, Tennessee', '1600000US4776860')],data[('White Bluff town, Tennessee', '1600000US4779980')]]\n",
    "data[('Dickson Incorporated', 'None')] = sum(DicksInc)\n",
    "data[('Dickson Unincorporated', 'None')] = data[('Dickson County, Tennessee', '0500000US47043')] - data[('Dickson Incorporated', 'None')]\n",
    "HumphInc = [data[('McEwen city, Tennessee', '1600000US4744840')],data[('New Johnsonville city, Tennessee', '1600000US4752820')],\n",
    "            data[('Waverly city, Tennessee', '1600000US4778560')]]\n",
    "data[('Humphreys Incorporated', 'None')] = sum(HumphInc)\n",
    "data[('Humphreys Unincorporated', 'None')] = data[('Humphreys County, Tennessee', '0500000US47085')] - data[('Humphreys Incorporated', 'None')]\n",
    "data[('Montgomery Incorporated', 'None')] = data[('Clarksville city, Tennessee', '1600000US4715160')]\n",
    "data[('Montgomery Unincorporated', 'None')] = data[('Montgomery County, Tennessee', '0500000US47125')] - data[('Montgomery Incorporated', 'None')]"
   ]
  },
  {
   "cell_type": "code",
   "execution_count": 165,
   "id": "29fe3938",
   "metadata": {},
   "outputs": [],
   "source": [
    "#rename geographies dict\n",
    "data = data.rename(columns = {'Allen County, Kentucky': 'Allen County, KY', 'Cheatham County, Tennessee': 'Cheatham County', \n",
    "                              'Davidson County, Tennessee': 'Davidson County', 'Dickson County, Tennessee': 'Dickson County', \n",
    "                              'Houston County, Tennessee': 'Houston County', 'Humphreys County, Tennessee': 'Humphreys County', \n",
    "                              'Maury County, Tennessee': 'Maury County', 'Montgomery County, Tennessee': 'Montgomery County', \n",
    "                              'Robertson County, Tennessee': 'Robertson County', 'Rutherford County, Tennessee': 'Rutherford County', \n",
    "                              'Simpson County, Kentucky': 'Simpson County, KY', 'Stewart County, Tennessee': 'Stewart County', \n",
    "                              'Sumner County, Tennessee': 'Sumner County', 'Trousdale County, Tennessee': 'Trousdale County', \n",
    "                              'Williamson County, Tennessee': 'Williamson County', 'Wilson County, Tennessee': 'Wilson County', \n",
    "                              'Adams city, Tennessee': 'Adams', 'Ashland City town, Tennessee': 'Ashland City', 'Belle Meade city, Tennessee': 'Belle Meade', \n",
    "                              'Berry Hill city, Tennessee': 'Berry Hill', 'Brentwood city, Tennessee': 'Brentwood', 'Burns town, Tennessee': 'Burns', \n",
    "                              'Cedar Hill city, Tennessee': 'Cedar Hill', 'Charlotte town, Tennessee': 'Charlotte', 'Clarksville city, Tennessee': 'Clarksville', \n",
    "                              'Columbia city, Tennessee': 'Columbia', 'Coopertown town, Tennessee': 'Coopertown', 'Cross Plains city, Tennessee': 'Cross Plains', \n",
    "                              'Cumberland City town, Tennessee': 'Cumberland City', 'Dickson city, Tennessee': 'Dickson', 'Dover city, Tennessee': 'Dover', \n",
    "                              'Eagleville city, Tennessee': 'Eagleville', 'Erin city, Tennessee': 'Erin', 'Fairview city, Tennessee': 'Fairview', \n",
    "                              'Forest Hills city, Tennessee': 'Forest Hills', 'Franklin city, Tennessee': 'Franklin', 'Gallatin city, Tennessee': 'Gallatin', \n",
    "                              'Goodlettsville city, Tennessee': 'Goodlettsville', 'Greenbrier town, Tennessee': 'Greenbrier', \n",
    "                              'Hendersonville city, Tennessee': 'Hendersonville', 'Kingston Springs town, Tennessee': 'Kingston Springs', \n",
    "                              'La Vergne city, Tennessee': 'La Vergne', 'Lafayette city, Tennessee': 'Lafayette', 'Lebanon city, Tennessee': 'Lebanon', \n",
    "                              'McEwen city, Tennessee': 'McEwen', 'Millersville city, Tennessee': 'Millersville', 'Mitchellville city, Tennessee': 'Mitchellville', \n",
    "                              'Mount Juliet city, Tennessee': 'Mount Juliet', 'Mount Pleasant city, Tennessee': 'Mount Pleasant', \n",
    "                              'Murfreesboro city, Tennessee': 'Murfreesboro', 'Nashville-Davidson metropolitan government (balance)': 'Nashville', \n",
    "                              'New Johnsonville city, Tennessee': 'New Johnsonville', 'Nolensville town, Tennessee': 'Nolensville', \n",
    "                              'Oak Hill city, Tennessee': 'Oak Hill', 'Pegram town, Tennessee': 'Pegram', 'Pleasant View city, Tennessee': 'Pleasant View', \n",
    "                              'Portland city, Tennessee': 'Portland', 'Ridgetop city, Tennessee': 'Ridgetop', 'Slayden town, Tennessee': 'Slayden', \n",
    "                              'Smyrna town, Tennessee': 'Smyrna', 'Spring Hill city, Tennessee': 'Spring Hill', 'Springfield city, Tennessee': 'Springfield', \n",
    "                              'Tennessee Ridge town, Tennessee': 'Tennessee Ridge', \"Thompson's Station town, Tennessee\": \"Thompson's Station\", \n",
    "                              'Vanleer town, Tennessee': 'Vanleer', 'Watertown city, Tennessee': 'Watertown', 'Waverly city, Tennessee': 'Waverly', \n",
    "                              'Westmoreland town, Tennessee': 'Westmoreland', 'White Bluff town, Tennessee': 'White Bluff', \n",
    "                              'White House city, Tennessee': 'White House', 'Franklin city, Kentucky': 'Franklin, KY', \n",
    "                              'Scottsville city, Kentucky': 'Scottsville, KY'})"
   ]
  },
  {
   "cell_type": "code",
   "execution_count": 166,
   "id": "76898236",
   "metadata": {},
   "outputs": [],
   "source": [
    "data = data.transpose().reset_index()\n",
    "data['Square Acres'] = data['ALAND10']*0.000247105\n",
    "data['Square Miles'] = data['ALAND10']*0.00000038610215855\n",
    "data = data.drop(columns = 'ALAND10')"
   ]
  },
  {
   "cell_type": "code",
   "execution_count": 167,
   "id": "6c451525",
   "metadata": {},
   "outputs": [],
   "source": [
    "wgeos = data.merge(geometries, on = 'GEO_ID')"
   ]
  },
  {
   "cell_type": "code",
   "execution_count": 168,
   "id": "208c7e0c",
   "metadata": {},
   "outputs": [],
   "source": [
    "#rename geographies dict\n",
    "wgeos = wgeos.set_index('NAME').transpose()\n",
    "wgeos = wgeos.rename(columns = {'Allen County, Kentucky': 'Allen County, KY', 'Cheatham County, Tennessee': 'Cheatham County', \n",
    "                              'Davidson County, Tennessee': 'Davidson County', 'Dickson County, Tennessee': 'Dickson County', \n",
    "                              'Houston County, Tennessee': 'Houston County', 'Humphreys County, Tennessee': 'Humphreys County', \n",
    "                              'Maury County, Tennessee': 'Maury County', 'Montgomery County, Tennessee': 'Montgomery County', \n",
    "                              'Robertson County, Tennessee': 'Robertson County', 'Rutherford County, Tennessee': 'Rutherford County', \n",
    "                              'Simpson County, Kentucky': 'Simpson County, KY', 'Stewart County, Tennessee': 'Stewart County', \n",
    "                              'Sumner County, Tennessee': 'Sumner County', 'Trousdale County, Tennessee': 'Trousdale County', \n",
    "                              'Williamson County, Tennessee': 'Williamson County', 'Wilson County, Tennessee': 'Wilson County', \n",
    "                              'Adams city, Tennessee': 'Adams', 'Ashland City town, Tennessee': 'Ashland City', 'Belle Meade city, Tennessee': 'Belle Meade', \n",
    "                              'Berry Hill city, Tennessee': 'Berry Hill', 'Brentwood city, Tennessee': 'Brentwood', 'Burns town, Tennessee': 'Burns', \n",
    "                              'Cedar Hill city, Tennessee': 'Cedar Hill', 'Charlotte town, Tennessee': 'Charlotte', 'Clarksville city, Tennessee': 'Clarksville', \n",
    "                              'Columbia city, Tennessee': 'Columbia', 'Coopertown town, Tennessee': 'Coopertown', 'Cross Plains city, Tennessee': 'Cross Plains', \n",
    "                              'Cumberland City town, Tennessee': 'Cumberland City', 'Dickson city, Tennessee': 'Dickson', 'Dover city, Tennessee': 'Dover', \n",
    "                              'Eagleville city, Tennessee': 'Eagleville', 'Erin city, Tennessee': 'Erin', 'Fairview city, Tennessee': 'Fairview', \n",
    "                              'Forest Hills city, Tennessee': 'Forest Hills', 'Franklin city, Tennessee': 'Franklin', 'Gallatin city, Tennessee': 'Gallatin', \n",
    "                              'Goodlettsville city, Tennessee': 'Goodlettsville', 'Greenbrier town, Tennessee': 'Greenbrier', \n",
    "                              'Hendersonville city, Tennessee': 'Hendersonville', 'Kingston Springs town, Tennessee': 'Kingston Springs', \n",
    "                              'La Vergne city, Tennessee': 'La Vergne', 'Lafayette city, Tennessee': 'Lafayette', 'Lebanon city, Tennessee': 'Lebanon', \n",
    "                              'McEwen city, Tennessee': 'McEwen', 'Millersville city, Tennessee': 'Millersville', 'Mitchellville city, Tennessee': 'Mitchellville', \n",
    "                              'Mount Juliet city, Tennessee': 'Mount Juliet', 'Mount Pleasant city, Tennessee': 'Mount Pleasant', \n",
    "                              'Murfreesboro city, Tennessee': 'Murfreesboro', 'Nashville-Davidson metropolitan government (balance)': 'Nashville', \n",
    "                              'New Johnsonville city, Tennessee': 'New Johnsonville', 'Nolensville town, Tennessee': 'Nolensville', \n",
    "                              'Oak Hill city, Tennessee': 'Oak Hill', 'Pegram town, Tennessee': 'Pegram', 'Pleasant View city, Tennessee': 'Pleasant View', \n",
    "                              'Portland city, Tennessee': 'Portland', 'Ridgetop city, Tennessee': 'Ridgetop', 'Slayden town, Tennessee': 'Slayden', \n",
    "                              'Smyrna town, Tennessee': 'Smyrna', 'Spring Hill city, Tennessee': 'Spring Hill', 'Springfield city, Tennessee': 'Springfield', \n",
    "                              'Tennessee Ridge town, Tennessee': 'Tennessee Ridge', \"Thompson's Station town, Tennessee\": \"Thompson's Station\", \n",
    "                              'Vanleer town, Tennessee': 'Vanleer', 'Watertown city, Tennessee': 'Watertown', 'Waverly city, Tennessee': 'Waverly', \n",
    "                              'Westmoreland town, Tennessee': 'Westmoreland', 'White Bluff town, Tennessee': 'White Bluff', \n",
    "                              'White House city, Tennessee': 'White House', 'Franklin city, Kentucky': 'Franklin, KY', \n",
    "                              'Scottsville city, Kentucky': 'Scottsville, KY'})\n",
    "wgeos = wgeos.transpose().reset_index(drop = False)"
   ]
  },
  {
   "cell_type": "code",
   "execution_count": 169,
   "id": "0f8da792",
   "metadata": {},
   "outputs": [],
   "source": [
    "wgeos.to_file('../../Outputs/TIGERS2010.shp')\n",
    "data.to_csv('../../Outputs/TIGERS2010.csv', index = False)"
   ]
  },
  {
   "cell_type": "code",
   "execution_count": 171,
   "id": "d0c7df72",
   "metadata": {},
   "outputs": [
    {
     "data": {
      "text/html": [
       "<div>\n",
       "<style scoped>\n",
       "    .dataframe tbody tr th:only-of-type {\n",
       "        vertical-align: middle;\n",
       "    }\n",
       "\n",
       "    .dataframe tbody tr th {\n",
       "        vertical-align: top;\n",
       "    }\n",
       "\n",
       "    .dataframe thead th {\n",
       "        text-align: right;\n",
       "    }\n",
       "</style>\n",
       "<table border=\"1\" class=\"dataframe\">\n",
       "  <thead>\n",
       "    <tr style=\"text-align: right;\">\n",
       "      <th></th>\n",
       "      <th>NAME</th>\n",
       "      <th>GEO_ID</th>\n",
       "      <th>Square Acres</th>\n",
       "      <th>Square Miles</th>\n",
       "    </tr>\n",
       "  </thead>\n",
       "  <tbody>\n",
       "    <tr>\n",
       "      <th>0</th>\n",
       "      <td>Scottsville, KY</td>\n",
       "      <td>1600000US2169114</td>\n",
       "      <td>3642.994142</td>\n",
       "      <td>5.692187</td>\n",
       "    </tr>\n",
       "    <tr>\n",
       "      <th>1</th>\n",
       "      <td>Franklin, KY</td>\n",
       "      <td>1600000US2128918</td>\n",
       "      <td>7081.371012</td>\n",
       "      <td>11.064659</td>\n",
       "    </tr>\n",
       "    <tr>\n",
       "      <th>2</th>\n",
       "      <td>Pleasant View</td>\n",
       "      <td>1600000US4759560</td>\n",
       "      <td>8013.770085</td>\n",
       "      <td>12.521535</td>\n",
       "    </tr>\n",
       "    <tr>\n",
       "      <th>3</th>\n",
       "      <td>Pegram</td>\n",
       "      <td>1600000US4757480</td>\n",
       "      <td>4940.429570</td>\n",
       "      <td>7.719433</td>\n",
       "    </tr>\n",
       "    <tr>\n",
       "      <th>4</th>\n",
       "      <td>Kingston Springs</td>\n",
       "      <td>1600000US4739660</td>\n",
       "      <td>6347.883063</td>\n",
       "      <td>9.918583</td>\n",
       "    </tr>\n",
       "  </tbody>\n",
       "</table>\n",
       "</div>"
      ],
      "text/plain": [
       "               NAME            GEO_ID  Square Acres  Square Miles\n",
       "0   Scottsville, KY  1600000US2169114   3642.994142      5.692187\n",
       "1      Franklin, KY  1600000US2128918   7081.371012     11.064659\n",
       "2     Pleasant View  1600000US4759560   8013.770085     12.521535\n",
       "3            Pegram  1600000US4757480   4940.429570      7.719433\n",
       "4  Kingston Springs  1600000US4739660   6347.883063      9.918583"
      ]
     },
     "execution_count": 171,
     "metadata": {},
     "output_type": "execute_result"
    }
   ],
   "source": [
    "data.head()"
   ]
  },
  {
   "cell_type": "markdown",
   "id": "fabf0d41",
   "metadata": {},
   "source": [
    "# 2000"
   ]
  },
  {
   "cell_type": "markdown",
   "id": "bdabb1ce",
   "metadata": {},
   "source": [
    "STATE 2000"
   ]
  },
  {
   "cell_type": "code",
   "execution_count": 172,
   "id": "95b931bb",
   "metadata": {},
   "outputs": [
    {
     "name": "stdout",
     "output_type": "stream",
     "text": [
      "Your geographic file is ready.\n"
     ]
    }
   ],
   "source": [
    "url = 'https://www2.census.gov/geo/tiger/TIGER2010/STATE/2000/tl_2010_47_state00.zip'\n",
    "geo = gpd.read_file(url)\n",
    "print('Your geographic file is ready.')"
   ]
  },
  {
   "cell_type": "code",
   "execution_count": 173,
   "id": "38d11e10",
   "metadata": {},
   "outputs": [],
   "source": [
    "tn = geo\n",
    "tn = tn.drop(columns = ['REGION00', 'DIVISION00', 'STUSPS00', 'LSAD00',\n",
    "                        'MTFCC00', 'UR00', 'FUNCSTAT00', 'AWATER00', 'INTPTLAT00', 'INTPTLON00'])\n",
    "tn = tn.rename(columns = {'STATEFP00':'GEO_ID', 'NAME00':'NAME'})\n",
    "tn['GEO_ID'] = '0400000US' + tn['GEO_ID']"
   ]
  },
  {
   "cell_type": "markdown",
   "id": "0505ad28",
   "metadata": {},
   "source": [
    "COUNTIES 2000"
   ]
  },
  {
   "cell_type": "code",
   "execution_count": 174,
   "id": "70a95ef9",
   "metadata": {},
   "outputs": [
    {
     "name": "stdout",
     "output_type": "stream",
     "text": [
      "Your geographic file is ready.\n"
     ]
    }
   ],
   "source": [
    "#Tennessee counties\n",
    "url = 'https://www2.census.gov/geo/tiger/TIGER2010/COUNTY/2000/tl_2010_47_county00.zip'\n",
    "geo = gpd.read_file(url)\n",
    "print('Your geographic file is ready.')"
   ]
  },
  {
   "cell_type": "code",
   "execution_count": 175,
   "id": "b3c55c3e",
   "metadata": {},
   "outputs": [],
   "source": [
    "tncounties = geo.loc[geo['CNTYIDFP00'].isin(tncounty)]\n",
    "tncounties = tncounties.drop(columns = ['STATEFP00', 'COUNTYFP00', 'NAME00', 'LSAD00', 'CLASSFP00',\n",
    "                                        'MTFCC00', 'UR00', 'FUNCSTAT00', 'AWATER00', 'INTPTLAT00', 'INTPTLON00'])\n",
    "tncounties = tncounties.rename(columns = {'CNTYIDFP00':'GEO_ID', 'NAMELSAD00':'NAME'})\n",
    "tncounties['NAME'] = tncounties['NAME'] + ', Tennessee'\n",
    "tncounties['GEO_ID'] = '0500000US' + tncounties['GEO_ID']"
   ]
  },
  {
   "cell_type": "code",
   "execution_count": 176,
   "id": "02deee8f",
   "metadata": {},
   "outputs": [
    {
     "name": "stdout",
     "output_type": "stream",
     "text": [
      "Your geographic file is ready.\n"
     ]
    }
   ],
   "source": [
    "#Kentucky counties\n",
    "url = 'https://www2.census.gov/geo/tiger/TIGER2010/COUNTY/2000/tl_2010_21_county00.zip'\n",
    "geo = gpd.read_file(url)\n",
    "print('Your geographic file is ready.')"
   ]
  },
  {
   "cell_type": "code",
   "execution_count": 177,
   "id": "8d4434f4",
   "metadata": {},
   "outputs": [],
   "source": [
    "kycounties = geo.loc[geo['CNTYIDFP00'].isin(kycounty)]\n",
    "kycounties = kycounties.drop(columns = ['STATEFP00', 'COUNTYFP00', 'NAME00', 'LSAD00', 'CLASSFP00',\n",
    "                                        'MTFCC00', 'UR00', 'FUNCSTAT00', 'AWATER00', 'INTPTLAT00', 'INTPTLON00'])\n",
    "kycounties = kycounties.rename(columns = {'CNTYIDFP00':'GEO_ID', 'NAMELSAD00':'NAME'})\n",
    "kycounties['NAME'] = kycounties['NAME'] + ', Kentucky'\n",
    "kycounties['GEO_ID'] = '0500000US' + kycounties['GEO_ID']"
   ]
  },
  {
   "cell_type": "markdown",
   "id": "9d367252",
   "metadata": {},
   "source": [
    "PLACES 2000"
   ]
  },
  {
   "cell_type": "code",
   "execution_count": 178,
   "id": "5f8534cf",
   "metadata": {},
   "outputs": [
    {
     "name": "stdout",
     "output_type": "stream",
     "text": [
      "Your geographic file is ready.\n"
     ]
    }
   ],
   "source": [
    "#Tennessee Places\n",
    "url= 'https://www2.census.gov/geo/tiger/TIGER2010/PLACE/2000/tl_2010_47_place00.zip'\n",
    "geo = gpd.read_file(url)\n",
    "print('Your geographic file is ready.')"
   ]
  },
  {
   "cell_type": "code",
   "execution_count": 179,
   "id": "b2875820",
   "metadata": {},
   "outputs": [],
   "source": [
    "tnplaces = geo.loc[geo['PLCIDFP00'].isin(tnplac)]\n",
    "tnplaces = tnplaces.drop(columns = ['STATEFP00', 'PLACEFP00', 'NAME00', 'LSAD00', 'CLASSFP00', 'CPI00',\n",
    "                          'PCICBSA00', 'PCINECTA00', 'MTFCC00', 'UR00', 'FUNCSTAT00', 'AWATER00', 'INTPTLAT00', 'INTPTLON00'])\n",
    "tnplaces = tnplaces.rename(columns = {'PLCIDFP00':'GEO_ID', 'NAMELSAD00':'NAME'})\n",
    "tnplaces['NAME'] = tnplaces['NAME'] + ', Tennessee'\n",
    "tnplaces['GEO_ID'] = '1600000US' + tnplaces['GEO_ID']"
   ]
  },
  {
   "cell_type": "code",
   "execution_count": 180,
   "id": "05d690a1",
   "metadata": {},
   "outputs": [
    {
     "name": "stdout",
     "output_type": "stream",
     "text": [
      "Your geographic file is ready.\n"
     ]
    }
   ],
   "source": [
    "#Kentucky Places\n",
    "url= 'https://www2.census.gov/geo/tiger/TIGER2010/PLACE/2000/tl_2010_21_place00.zip'\n",
    "geo = gpd.read_file(url)\n",
    "print('Your geographic file is ready.')"
   ]
  },
  {
   "cell_type": "code",
   "execution_count": 181,
   "id": "b9b65eb8",
   "metadata": {},
   "outputs": [],
   "source": [
    "kyplaces = geo.loc[geo['PLCIDFP00'].isin(kyplac)]\n",
    "kyplaces = kyplaces.drop(columns = ['STATEFP00', 'PLACEFP00', 'NAME00', 'LSAD00', 'CLASSFP00', 'CPI00',\n",
    "                          'PCICBSA00', 'PCINECTA00', 'MTFCC00', 'UR00', 'FUNCSTAT00', 'AWATER00', 'INTPTLAT00', 'INTPTLON00'])\n",
    "kyplaces = kyplaces.rename(columns = {'PLCIDFP00':'GEO_ID', 'NAMELSAD00':'NAME'})\n",
    "kyplaces['NAME'] = kyplaces['NAME'] + ', Kentucky'\n",
    "kyplaces['GEO_ID'] = '1600000US' + kyplaces['GEO_ID']"
   ]
  },
  {
   "cell_type": "markdown",
   "id": "a391a75a",
   "metadata": {},
   "source": [
    "JOIN 2000"
   ]
  },
  {
   "cell_type": "code",
   "execution_count": 182,
   "id": "f749655f",
   "metadata": {},
   "outputs": [],
   "source": [
    "df = kyplaces.append(tnplaces)\n",
    "df = df.append(tncounties).reset_index(drop = True)\n",
    "df = df.append(kycounties).reset_index(drop = True)\n",
    "df = df.append(tn).reset_index(drop = True)"
   ]
  },
  {
   "cell_type": "code",
   "execution_count": 183,
   "id": "c39ff5b4",
   "metadata": {},
   "outputs": [],
   "source": [
    "geometries = df[['GEO_ID', 'geometry']].copy()\n",
    "df = df.drop(columns = 'geometry')"
   ]
  },
  {
   "cell_type": "code",
   "execution_count": 184,
   "id": "c3c1da9d",
   "metadata": {},
   "outputs": [],
   "source": [
    "df['ALAND00'] = df['ALAND00'].astype(float)\n",
    "df = df.set_index(['NAME', 'GEO_ID'])\n",
    "data = df.transpose()"
   ]
  },
  {
   "cell_type": "code",
   "execution_count": 185,
   "id": "d79fcf90",
   "metadata": {},
   "outputs": [],
   "source": [
    "GNRCCounties = [data[('Stewart County, Tennessee', '0500000US47161')],data[('Montgomery County, Tennessee', '0500000US47125')],\n",
    "                data[('Houston County, Tennessee', '0500000US47083')],data[('Humphreys County, Tennessee', '0500000US47085')],\n",
    "                data[('Dickson County, Tennessee', '0500000US47043')],data[('Cheatham County, Tennessee', '0500000US47021')],\n",
    "                data[('Robertson County, Tennessee', '0500000US47147')],data[('Sumner County, Tennessee', '0500000US47165')],\n",
    "                data[('Davidson County, Tennessee', '0500000US47037')],data[('Wilson County, Tennessee', '0500000US47189')],\n",
    "                data[('Trousdale County, Tennessee', '0500000US47169')],data[('Williamson County, Tennessee', '0500000US47187')],\n",
    "                data[('Rutherford County, Tennessee', '0500000US47149')]]\n",
    "data['GNRC'] = sum(GNRCCounties)\n",
    "GNRCCountiesAll = [data[('Stewart County, Tennessee', '0500000US47161')],data[('Montgomery County, Tennessee', '0500000US47125')],\n",
    "                   data[('Houston County, Tennessee', '0500000US47083')],data[('Humphreys County, Tennessee', '0500000US47085')],\n",
    "                   data[('Dickson County, Tennessee', '0500000US47043')],data[('Cheatham County, Tennessee', '0500000US47021')],\n",
    "                   data[('Robertson County, Tennessee', '0500000US47147')],data[('Sumner County, Tennessee', '0500000US47165')],\n",
    "                   data[('Davidson County, Tennessee', '0500000US47037')],data[('Wilson County, Tennessee', '0500000US47189')],\n",
    "                   data[('Trousdale County, Tennessee', '0500000US47169')],data[('Williamson County, Tennessee', '0500000US47187')],\n",
    "                   data[('Rutherford County, Tennessee', '0500000US47149')],data[('Maury County, Tennessee', '0500000US47119')]]\n",
    "data['GNRC Region'] = sum(GNRCCountiesAll)\n",
    "MPOCounties = [data[('Robertson County, Tennessee', '0500000US47147')],data[('Sumner County, Tennessee', '0500000US47165')],\n",
    "               data[('Davidson County, Tennessee', '0500000US47037')],data[('Wilson County, Tennessee', '0500000US47189')],\n",
    "               data[('Williamson County, Tennessee', '0500000US47187')],data[('Rutherford County, Tennessee', '0500000US47149')],\n",
    "               data[('Maury County, Tennessee', '0500000US47119')]]\n",
    "data['MPO'] = sum(MPOCounties)\n",
    "RuthInc = [data[('Eagleville city, Tennessee', '1600000US4722360')],data[('La Vergne city, Tennessee', '1600000US4741200')],\n",
    "           data[('Murfreesboro city, Tennessee', '1600000US4751560')],data[('Smyrna town, Tennessee', '1600000US4769420')]]\n",
    "data[('Rutherford Incorporated', 'None')] = sum(RuthInc)\n",
    "data[('Rutherford Unincorporated', 'None')] = data[('Rutherford County, Tennessee', '0500000US47149')] - data[('Rutherford Incorporated', 'None')]\n",
    "WilsonInc = [data[('Lebanon city, Tennessee', '1600000US4741520')],data[('Mount Juliet city, Tennessee', '1600000US4750780')],\n",
    "             data[('Watertown city, Tennessee', '1600000US4778320')]]\n",
    "data[('Wilson Incorporated', 'None')] = sum(WilsonInc)\n",
    "data[('Wilson Unincorporated', 'None')] = data[('Wilson County, Tennessee', '0500000US47189')] - data[('Wilson Incorporated', 'None')]\n",
    "CheathInc = [data[('Ashland City town, Tennessee', '1600000US4702180')],data[('Kingston Springs town, Tennessee', '1600000US4739660')],\n",
    "             data[('Pegram town, Tennessee', '1600000US4757480')],data[('Pleasant View city, Tennessee', '1600000US4759560')]]\n",
    "data[('Cheatham Incorporated', 'None')] = sum(CheathInc)\n",
    "data[('Cheatham Unincorporated', 'None')] = data[('Cheatham County, Tennessee', '0500000US47021')] - data[('Cheatham Incorporated', 'None')]\n",
    "DicksInc = [data[('Burns town, Tennessee', '1600000US4709880')],data[('Charlotte town, Tennessee', '1600000US4713080')],\n",
    "            data[('Dickson city, Tennessee', '1600000US4720620')],data[('Slayden town, Tennessee', '1600000US4769080')],\n",
    "            data[('Vanleer town, Tennessee', '1600000US4776860')],data[('White Bluff town, Tennessee', '1600000US4779980')]]\n",
    "data[('Dickson Incorporated', 'None')] = sum(DicksInc)\n",
    "data[('Dickson Unincorporated', 'None')] = data[('Dickson County, Tennessee', '0500000US47043')] - data[('Dickson Incorporated', 'None')]\n",
    "HumphInc = [data[('McEwen city, Tennessee', '1600000US4744840')],data[('New Johnsonville city, Tennessee', '1600000US4752820')],\n",
    "            data[('Waverly city, Tennessee', '1600000US4778560')]]\n",
    "data[('Humphreys Incorporated', 'None')] = sum(HumphInc)\n",
    "data[('Humphreys Unincorporated', 'None')] = data[('Humphreys County, Tennessee', '0500000US47085')] - data[('Humphreys Incorporated', 'None')]\n",
    "data[('Montgomery Incorporated', 'None')] = data[('Clarksville city, Tennessee', '1600000US4715160')]\n",
    "data[('Montgomery Unincorporated', 'None')] = data[('Montgomery County, Tennessee', '0500000US47125')] - data[('Montgomery Incorporated', 'None')]"
   ]
  },
  {
   "cell_type": "code",
   "execution_count": 186,
   "id": "8cdd385a",
   "metadata": {},
   "outputs": [],
   "source": [
    "#rename geographies dict\n",
    "data = data.rename(columns = {'Allen County, Kentucky': 'Allen County, KY', 'Cheatham County, Tennessee': 'Cheatham County', \n",
    "                              'Davidson County, Tennessee': 'Davidson County', 'Dickson County, Tennessee': 'Dickson County', \n",
    "                              'Houston County, Tennessee': 'Houston County', 'Humphreys County, Tennessee': 'Humphreys County', \n",
    "                              'Maury County, Tennessee': 'Maury County', 'Montgomery County, Tennessee': 'Montgomery County', \n",
    "                              'Robertson County, Tennessee': 'Robertson County', 'Rutherford County, Tennessee': 'Rutherford County', \n",
    "                              'Simpson County, Kentucky': 'Simpson County, KY', 'Stewart County, Tennessee': 'Stewart County', \n",
    "                              'Sumner County, Tennessee': 'Sumner County', 'Trousdale County, Tennessee': 'Trousdale County', \n",
    "                              'Williamson County, Tennessee': 'Williamson County', 'Wilson County, Tennessee': 'Wilson County', \n",
    "                              'Adams city, Tennessee': 'Adams', 'Ashland City town, Tennessee': 'Ashland City', 'Belle Meade city, Tennessee': 'Belle Meade', \n",
    "                              'Berry Hill city, Tennessee': 'Berry Hill', 'Brentwood city, Tennessee': 'Brentwood', 'Burns town, Tennessee': 'Burns', \n",
    "                              'Cedar Hill city, Tennessee': 'Cedar Hill', 'Charlotte town, Tennessee': 'Charlotte', 'Clarksville city, Tennessee': 'Clarksville', \n",
    "                              'Columbia city, Tennessee': 'Columbia', 'Coopertown town, Tennessee': 'Coopertown', 'Cross Plains city, Tennessee': 'Cross Plains', \n",
    "                              'Cumberland City town, Tennessee': 'Cumberland City', 'Dickson city, Tennessee': 'Dickson', 'Dover city, Tennessee': 'Dover', \n",
    "                              'Eagleville city, Tennessee': 'Eagleville', 'Erin city, Tennessee': 'Erin', 'Fairview city, Tennessee': 'Fairview', \n",
    "                              'Forest Hills city, Tennessee': 'Forest Hills', 'Franklin city, Tennessee': 'Franklin', 'Gallatin city, Tennessee': 'Gallatin', \n",
    "                              'Goodlettsville city, Tennessee': 'Goodlettsville', 'Greenbrier town, Tennessee': 'Greenbrier', \n",
    "                              'Hendersonville city, Tennessee': 'Hendersonville', 'Kingston Springs town, Tennessee': 'Kingston Springs', \n",
    "                              'La Vergne city, Tennessee': 'La Vergne', 'Lafayette city, Tennessee': 'Lafayette', 'Lebanon city, Tennessee': 'Lebanon', \n",
    "                              'McEwen city, Tennessee': 'McEwen', 'Millersville city, Tennessee': 'Millersville', 'Mitchellville city, Tennessee': 'Mitchellville', \n",
    "                              'Mount Juliet city, Tennessee': 'Mount Juliet', 'Mount Pleasant city, Tennessee': 'Mount Pleasant', \n",
    "                              'Murfreesboro city, Tennessee': 'Murfreesboro', 'Nashville-Davidson metropolitan government (balance)': 'Nashville', \n",
    "                              'New Johnsonville city, Tennessee': 'New Johnsonville', 'Nolensville town, Tennessee': 'Nolensville', \n",
    "                              'Oak Hill city, Tennessee': 'Oak Hill', 'Pegram town, Tennessee': 'Pegram', 'Pleasant View city, Tennessee': 'Pleasant View', \n",
    "                              'Portland city, Tennessee': 'Portland', 'Ridgetop city, Tennessee': 'Ridgetop', 'Slayden town, Tennessee': 'Slayden', \n",
    "                              'Smyrna town, Tennessee': 'Smyrna', 'Spring Hill city, Tennessee': 'Spring Hill', 'Springfield city, Tennessee': 'Springfield', \n",
    "                              'Tennessee Ridge town, Tennessee': 'Tennessee Ridge', \"Thompson's Station town, Tennessee\": \"Thompson's Station\", \n",
    "                              'Vanleer town, Tennessee': 'Vanleer', 'Watertown city, Tennessee': 'Watertown', 'Waverly city, Tennessee': 'Waverly', \n",
    "                              'Westmoreland town, Tennessee': 'Westmoreland', 'White Bluff town, Tennessee': 'White Bluff', \n",
    "                              'White House city, Tennessee': 'White House', 'Franklin city, Kentucky': 'Franklin, KY', \n",
    "                              'Scottsville city, Kentucky': 'Scottsville, KY'})"
   ]
  },
  {
   "cell_type": "code",
   "execution_count": 187,
   "id": "5f81b50b",
   "metadata": {},
   "outputs": [],
   "source": [
    "data = data.transpose().reset_index()\n",
    "data['Square Acres'] = data['ALAND00']*0.000247105\n",
    "data['Square Miles'] = data['ALAND00']*0.00000038610215855\n",
    "data = data.drop(columns = 'ALAND00')"
   ]
  },
  {
   "cell_type": "code",
   "execution_count": 188,
   "id": "1677986d",
   "metadata": {},
   "outputs": [],
   "source": [
    "wgeos = data.merge(geometries, on = 'GEO_ID')"
   ]
  },
  {
   "cell_type": "code",
   "execution_count": 189,
   "id": "24012ca0",
   "metadata": {},
   "outputs": [],
   "source": [
    "#rename geographies dict\n",
    "wgeos = wgeos.set_index('NAME').transpose()\n",
    "wgeos = wgeos.rename(columns = {'Allen County, Kentucky': 'Allen County, KY', 'Cheatham County, Tennessee': 'Cheatham County', \n",
    "                              'Davidson County, Tennessee': 'Davidson County', 'Dickson County, Tennessee': 'Dickson County', \n",
    "                              'Houston County, Tennessee': 'Houston County', 'Humphreys County, Tennessee': 'Humphreys County', \n",
    "                              'Maury County, Tennessee': 'Maury County', 'Montgomery County, Tennessee': 'Montgomery County', \n",
    "                              'Robertson County, Tennessee': 'Robertson County', 'Rutherford County, Tennessee': 'Rutherford County', \n",
    "                              'Simpson County, Kentucky': 'Simpson County, KY', 'Stewart County, Tennessee': 'Stewart County', \n",
    "                              'Sumner County, Tennessee': 'Sumner County', 'Trousdale County, Tennessee': 'Trousdale County', \n",
    "                              'Williamson County, Tennessee': 'Williamson County', 'Wilson County, Tennessee': 'Wilson County', \n",
    "                              'Adams city, Tennessee': 'Adams', 'Ashland City town, Tennessee': 'Ashland City', 'Belle Meade city, Tennessee': 'Belle Meade', \n",
    "                              'Berry Hill city, Tennessee': 'Berry Hill', 'Brentwood city, Tennessee': 'Brentwood', 'Burns town, Tennessee': 'Burns', \n",
    "                              'Cedar Hill city, Tennessee': 'Cedar Hill', 'Charlotte town, Tennessee': 'Charlotte', 'Clarksville city, Tennessee': 'Clarksville', \n",
    "                              'Columbia city, Tennessee': 'Columbia', 'Coopertown town, Tennessee': 'Coopertown', 'Cross Plains city, Tennessee': 'Cross Plains', \n",
    "                              'Cumberland City town, Tennessee': 'Cumberland City', 'Dickson city, Tennessee': 'Dickson', 'Dover city, Tennessee': 'Dover', \n",
    "                              'Eagleville city, Tennessee': 'Eagleville', 'Erin city, Tennessee': 'Erin', 'Fairview city, Tennessee': 'Fairview', \n",
    "                              'Forest Hills city, Tennessee': 'Forest Hills', 'Franklin city, Tennessee': 'Franklin', 'Gallatin city, Tennessee': 'Gallatin', \n",
    "                              'Goodlettsville city, Tennessee': 'Goodlettsville', 'Greenbrier town, Tennessee': 'Greenbrier', \n",
    "                              'Hendersonville city, Tennessee': 'Hendersonville', 'Kingston Springs town, Tennessee': 'Kingston Springs', \n",
    "                              'La Vergne city, Tennessee': 'La Vergne', 'Lafayette city, Tennessee': 'Lafayette', 'Lebanon city, Tennessee': 'Lebanon', \n",
    "                              'McEwen city, Tennessee': 'McEwen', 'Millersville city, Tennessee': 'Millersville', 'Mitchellville city, Tennessee': 'Mitchellville', \n",
    "                              'Mount Juliet city, Tennessee': 'Mount Juliet', 'Mount Pleasant city, Tennessee': 'Mount Pleasant', \n",
    "                              'Murfreesboro city, Tennessee': 'Murfreesboro', 'Nashville-Davidson metropolitan government (balance)': 'Nashville', \n",
    "                              'New Johnsonville city, Tennessee': 'New Johnsonville', 'Nolensville town, Tennessee': 'Nolensville', \n",
    "                              'Oak Hill city, Tennessee': 'Oak Hill', 'Pegram town, Tennessee': 'Pegram', 'Pleasant View city, Tennessee': 'Pleasant View', \n",
    "                              'Portland city, Tennessee': 'Portland', 'Ridgetop city, Tennessee': 'Ridgetop', 'Slayden town, Tennessee': 'Slayden', \n",
    "                              'Smyrna town, Tennessee': 'Smyrna', 'Spring Hill city, Tennessee': 'Spring Hill', 'Springfield city, Tennessee': 'Springfield', \n",
    "                              'Tennessee Ridge town, Tennessee': 'Tennessee Ridge', \"Thompson's Station town, Tennessee\": \"Thompson's Station\", \n",
    "                              'Vanleer town, Tennessee': 'Vanleer', 'Watertown city, Tennessee': 'Watertown', 'Waverly city, Tennessee': 'Waverly', \n",
    "                              'Westmoreland town, Tennessee': 'Westmoreland', 'White Bluff town, Tennessee': 'White Bluff', \n",
    "                              'White House city, Tennessee': 'White House', 'Franklin city, Kentucky': 'Franklin, KY', \n",
    "                              'Scottsville city, Kentucky': 'Scottsville, KY'})\n",
    "wgeos = wgeos.transpose().reset_index(drop = False)"
   ]
  },
  {
   "cell_type": "code",
   "execution_count": 190,
   "id": "56dc22fe",
   "metadata": {},
   "outputs": [],
   "source": [
    "wgeos.to_file('../../Outputs/TIGERS2000.shp')\n",
    "data.to_csv('../../Outputs/TIGERS2000.csv', index = False)"
   ]
  },
  {
   "cell_type": "code",
   "execution_count": 192,
   "id": "c2b20d7d",
   "metadata": {},
   "outputs": [
    {
     "data": {
      "text/html": [
       "<div>\n",
       "<style scoped>\n",
       "    .dataframe tbody tr th:only-of-type {\n",
       "        vertical-align: middle;\n",
       "    }\n",
       "\n",
       "    .dataframe tbody tr th {\n",
       "        vertical-align: top;\n",
       "    }\n",
       "\n",
       "    .dataframe thead th {\n",
       "        text-align: right;\n",
       "    }\n",
       "</style>\n",
       "<table border=\"1\" class=\"dataframe\">\n",
       "  <thead>\n",
       "    <tr style=\"text-align: right;\">\n",
       "      <th></th>\n",
       "      <th>NAME</th>\n",
       "      <th>GEO_ID</th>\n",
       "      <th>Square Acres</th>\n",
       "      <th>Square Miles</th>\n",
       "      <th>geometry</th>\n",
       "    </tr>\n",
       "  </thead>\n",
       "  <tbody>\n",
       "    <tr>\n",
       "      <th>0</th>\n",
       "      <td>Scottsville, KY</td>\n",
       "      <td>1600000US2169114</td>\n",
       "      <td>3641.877969</td>\n",
       "      <td>5.690443</td>\n",
       "      <td>POLYGON ((-86.22120 36.75570, -86.21925 36.756...</td>\n",
       "    </tr>\n",
       "    <tr>\n",
       "      <th>1</th>\n",
       "      <td>Franklin, KY</td>\n",
       "      <td>1600000US2128918</td>\n",
       "      <td>4740.294783</td>\n",
       "      <td>7.406722</td>\n",
       "      <td>POLYGON ((-86.58324 36.73837, -86.58276 36.738...</td>\n",
       "    </tr>\n",
       "    <tr>\n",
       "      <th>2</th>\n",
       "      <td>Pleasant View</td>\n",
       "      <td>1600000US4759560</td>\n",
       "      <td>8013.770085</td>\n",
       "      <td>12.521535</td>\n",
       "      <td>POLYGON ((-87.10046 36.40257, -87.10045 36.402...</td>\n",
       "    </tr>\n",
       "    <tr>\n",
       "      <th>3</th>\n",
       "      <td>Pegram</td>\n",
       "      <td>1600000US4757480</td>\n",
       "      <td>4943.350104</td>\n",
       "      <td>7.723996</td>\n",
       "      <td>POLYGON ((-87.03526 36.08332, -87.03533 36.082...</td>\n",
       "    </tr>\n",
       "    <tr>\n",
       "      <th>4</th>\n",
       "      <td>Kingston Springs</td>\n",
       "      <td>1600000US4739660</td>\n",
       "      <td>6347.883063</td>\n",
       "      <td>9.918583</td>\n",
       "      <td>POLYGON ((-87.10508 36.10402, -87.10465 36.103...</td>\n",
       "    </tr>\n",
       "  </tbody>\n",
       "</table>\n",
       "</div>"
      ],
      "text/plain": [
       "               NAME            GEO_ID Square Acres Square Miles                                           geometry\n",
       "0   Scottsville, KY  1600000US2169114  3641.877969     5.690443  POLYGON ((-86.22120 36.75570, -86.21925 36.756...\n",
       "1      Franklin, KY  1600000US2128918  4740.294783     7.406722  POLYGON ((-86.58324 36.73837, -86.58276 36.738...\n",
       "2     Pleasant View  1600000US4759560  8013.770085    12.521535  POLYGON ((-87.10046 36.40257, -87.10045 36.402...\n",
       "3            Pegram  1600000US4757480  4943.350104     7.723996  POLYGON ((-87.03526 36.08332, -87.03533 36.082...\n",
       "4  Kingston Springs  1600000US4739660  6347.883063     9.918583  POLYGON ((-87.10508 36.10402, -87.10465 36.103..."
      ]
     },
     "execution_count": 192,
     "metadata": {},
     "output_type": "execute_result"
    }
   ],
   "source": [
    "wgeos.head()"
   ]
  },
  {
   "cell_type": "code",
   "execution_count": null,
   "id": "7c373dfd",
   "metadata": {},
   "outputs": [],
   "source": []
  }
 ],
 "metadata": {
  "kernelspec": {
   "display_name": "Python 3 (ipykernel)",
   "language": "python",
   "name": "python3"
  },
  "language_info": {
   "codemirror_mode": {
    "name": "ipython",
    "version": 3
   },
   "file_extension": ".py",
   "mimetype": "text/x-python",
   "name": "python",
   "nbconvert_exporter": "python",
   "pygments_lexer": "ipython3",
   "version": "3.8.5"
  }
 },
 "nbformat": 4,
 "nbformat_minor": 5
}
