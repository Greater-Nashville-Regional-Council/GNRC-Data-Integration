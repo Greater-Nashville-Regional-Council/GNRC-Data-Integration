{
 "cells": [
  {
   "cell_type": "markdown",
   "id": "7124cf20",
   "metadata": {},
   "source": [
    "###### Imports and Settings"
   ]
  },
  {
   "cell_type": "code",
   "execution_count": 1,
   "id": "d008632f",
   "metadata": {},
   "outputs": [],
   "source": [
    "import pandas as pd\n",
    "import numpy as np\n",
    "import requests\n",
    "from functools import reduce\n",
    "import matplotlib.pyplot as plt\n",
    "import pickle\n",
    "pd.set_option('display.max_columns', None)\n",
    "pd.set_option('display.max_rows', None)\n",
    "pd.set_option('display.width', 150)"
   ]
  },
  {
   "cell_type": "markdown",
   "id": "ef588be8",
   "metadata": {},
   "source": [
    "# This notebook outlines the download and formatting process for the University of Wisconsin's Population Health Institute's County Health Rankings for counties places in the GNRC operating region.  \n",
    "\n",
    "Go to this page: https://www.countyhealthrankings.org/explore-health-rankings/tennessee/data-and-resources  \n",
    "Download the \"(YEAR) Tennessee Data\" excel workbook  \n",
    "If the new version is the same as the 2022 download, then it will contain the following pages:  \n",
    "+ Introduction, Outcomes & Factors Rankings, Outcomes & Factors SubRankings, Ranked Measure Data, Additional Measure Data, Ranked Measure Sources & Years, Additional Measure Sources & Years  \n",
    "+ For both \"Outcomes & Factors Rankings\", and \"Outcomes & Factors SubRankings\": Delete row 3 (Tennessee), rename the rank as the merged cell above (for example \"Health Outcomes\") and then delete row 1 (the merged cells) and the z-scores. With the FIPS column sorted A-Z, copy paste this data into one document and save it as a csv in \"Data Downloads\" called countyhealthrankings_ranks_(year).csv with column names \"FIPS\", \"County\", \"Health Outcomes\", \"Health Factors\", \"Length of Life\", \"Quality of Life\", \"Health Behaviors\", \"Clinical Care\", \"Social & Economic Factors\", \"Physical Environment\".  \n",
    "+ For the page \"Ranked Measure Data\", again delete row 3 (Tennessee): \n",
    "Unmerge the header for \"Premature Death\" and delete every column that was under the Premature Death header except for \"Deaths\" and \"Years of Potential Life Lost\". Next, unmerge the \"Poor or Fair Health\" header and delete everything except for \"Unreliable\", and  \"% Fair or Poor Health\". Do the same for the headers \"Poor physical health days\" and \"Poor mental health days\" and keep only the average number of unhealthy days for each. Unmerge the \"Low birthweight\" header and keep columns \"Unreliable\" and \"% Low birthweight\". Unmerge and keep only the first/primary measure for: Adult smoking, Adult Obesity, Food Environment Index, % Physically inactive, Access to exercise opportunities, excessive drinking. For Alcohol-impaired driving deaths keep \"# Alcohol-Impaired Driving Deaths\", \"# Driving Deaths\", \"% Driving Deaths with Alcohol Involvement\". For Sexually Transmitted Infections keep both the # and rate of Chlamydia. For Teen Births keep only the Teen Birth Rate. Under Uninsured keep the # and % Uninsured. Under Primary Care Physicians, Dentists, and Mental Health Providers keep both the # and Ratio. Delete all preventable hospital stays, mammogramy screenings, flu vaccinations, all educational attainment, unemployment, children in poverty, income inequality, children in single family households, social associations. Under Violent Crime and Injury Deaths keep the #/annual average and the rate. Under Air pollution - particulate matter keep the average daily PM2.5. Delete drinking water violations, severe housing problems, driving alone to work, and long commute-driving alone. At this point you can delete the top row and the \"State\" column. Also, check to see if any counties in the GNRC region are listed as \"unreliable\" and if not, delete these columns as well. \n",
    "  \n",
    "\n",
    "Save these csvs as they come in the Data Downloads folder of Parent Data Gathering  \n"
   ]
  },
  {
   "cell_type": "markdown",
   "id": "3f6dbc1c",
   "metadata": {},
   "source": [
    "2. Physical Health & Behaviors: Avg # of Physically Unhealthy Days, % Adults that are Smokers, % Adults Obese, % Adults Physically Inactive, % Adults Excessive Drinking, % Adults Frequent Physical Distress, % Adults Diabetes, HIV Prevalence Rate per 100,000 Population, Chlamydia Rate per 100,000 Population # of Drug Overdose Deaths, Drug Overdose Mortality Rate per 100,000 Population, % Adults with Insufficient Sleep  \n",
    "3. Mental Health & Behaviors: Average # of Mentally Unhealthy Days, % with Access to Exercise Opportunities, # of Mental Health Providers, Mental Health Provider Ratio, % with Frequent Mental Distress, # of Suicide Deaths, Suicide Rate per 100,000 population  \n",
    "4. Teen Pregnancy & Births: Teen Birth Rate (per 1,000 females age 15-19) [CHR 2013-2019], Teen Pregnancy Rate (per 1,000 females age 15-19) *[TDOH 2019]*  \n",
    "5. Food Insecurity: % Food Insecure Population, % Limited Access to Healthy Foods  \n",
    "6. Mortality & Morbidity: Premature Death (Years of potential life lost before age 75 per 100,000 population [age-adjusted]) [CHR, 2017-2019], Death Rate per 1,000 Population *[TDOH, 2019]*, Age Adjusted Death Rate per 1,000 Population *[TDOH, 2019]*, % Preterm (Less than 37 Weeks) Births *[TDOH, 2019]*, % Low Birthweight (< 2500 grams) Births *[TDOH, 2019]*, Infant (<1 year) Mortality Rate per 1,000 Births *[TDOH, 2018]*  \n",
    "7. Leading Cause of Death & Age Adjusted Rate per 100,000 Population (2019, *TNDOH*): Diseases of the Heart, Malignant Neoplasms (Cancer), Alzheimer's Disease, Chronic Lower Respiratory Disease, Accidents & Adverse Effects, Cerebrovascular Disease, Diabetes Mellitus, Chronic Liver Disease & Cirrhosis, Suicide, Pneumonia & Influenza, Parkinson's Disease, Septicemia, Assault (Homicide), Nephritis, Nephrotic Syndrome, Nephrosis (Kidney Disease), Hypertension and Renal Disease  \n",
    "8. Safety: Violent Crime Rate per 100,000 population [CHR], Injury Death Rate per 100,000 population [CHR], Homicide Rate per 100,000 population [CHR], Firearm Fatalities Rate per 100,000 population [CHR], Crime Rate per 1,000 population [TBI, 2019], Total Stolen Vehicles in 2019 [TBI,2019] "
   ]
  },
  {
   "cell_type": "code",
   "execution_count": null,
   "id": "0778599a",
   "metadata": {},
   "outputs": [],
   "source": []
  }
 ],
 "metadata": {
  "kernelspec": {
   "display_name": "Python 3 (ipykernel)",
   "language": "python",
   "name": "python3"
  },
  "language_info": {
   "codemirror_mode": {
    "name": "ipython",
    "version": 3
   },
   "file_extension": ".py",
   "mimetype": "text/x-python",
   "name": "python",
   "nbconvert_exporter": "python",
   "pygments_lexer": "ipython3",
   "version": "3.8.8"
  }
 },
 "nbformat": 4,
 "nbformat_minor": 5
}
