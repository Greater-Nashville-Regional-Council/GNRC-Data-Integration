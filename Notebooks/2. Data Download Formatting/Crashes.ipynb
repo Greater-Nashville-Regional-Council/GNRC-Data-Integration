{
 "cells": [
  {
   "cell_type": "markdown",
   "id": "eae9b2f0",
   "metadata": {},
   "source": [
    "###### Imports and Settings"
   ]
  },
  {
   "cell_type": "code",
   "execution_count": 1,
   "id": "c58d0c78",
   "metadata": {},
   "outputs": [],
   "source": [
    "import pandas as pd\n",
    "import numpy as np\n",
    "import requests\n",
    "from functools import reduce\n",
    "import matplotlib.pyplot as plt\n",
    "import pickle\n",
    "pd.set_option('display.max_columns', None)\n",
    "pd.set_option('display.max_rows', None)\n",
    "pd.set_option('display.width', 150)"
   ]
  },
  {
   "cell_type": "code",
   "execution_count": 2,
   "id": "f9e3a847",
   "metadata": {},
   "outputs": [],
   "source": [
    "def percent(x, y):\n",
    "    return (x/y)*100"
   ]
  },
  {
   "cell_type": "markdown",
   "id": "c301a3b4",
   "metadata": {},
   "source": [
    "# This notebook outlines the download and formatting process for the vehicular crash data coming from other research staff. There is minimal formatting this document is more of a placeholder in case there ever is formatting needed."
   ]
  },
  {
   "cell_type": "code",
   "execution_count": 8,
   "id": "774fdddf",
   "metadata": {},
   "outputs": [],
   "source": [
    "data = pd.read_csv('../../Data Downloads/crashes.csv')"
   ]
  },
  {
   "cell_type": "code",
   "execution_count": 10,
   "id": "e780d679",
   "metadata": {},
   "outputs": [],
   "source": [
    "data['Crashes%:Fatal'] = percent(data['Crashes:Fatal'], data['Crashes Total'])\n",
    "data['Crashes%:Serious Injury'] = percent(data['Crashes:Serious Injury'], data['Crashes Total'])"
   ]
  },
  {
   "cell_type": "code",
   "execution_count": 11,
   "id": "b5dd9e05",
   "metadata": {},
   "outputs": [],
   "source": [
    "data = data.set_index('NAME').transpose()\n",
    "#rename geographies dict\n",
    "data = data.rename(columns = {'Sumner': 'Sumner County', 'Rutherford': 'Rutherford County'})\n",
    "data = data.transpose().reset_index(drop = False)"
   ]
  },
  {
   "cell_type": "code",
   "execution_count": 13,
   "id": "2d889f21",
   "metadata": {},
   "outputs": [
    {
     "data": {
      "text/html": [
       "<div>\n",
       "<style scoped>\n",
       "    .dataframe tbody tr th:only-of-type {\n",
       "        vertical-align: middle;\n",
       "    }\n",
       "\n",
       "    .dataframe tbody tr th {\n",
       "        vertical-align: top;\n",
       "    }\n",
       "\n",
       "    .dataframe thead th {\n",
       "        text-align: right;\n",
       "    }\n",
       "</style>\n",
       "<table border=\"1\" class=\"dataframe\">\n",
       "  <thead>\n",
       "    <tr style=\"text-align: right;\">\n",
       "      <th></th>\n",
       "      <th>NAME</th>\n",
       "      <th>Year</th>\n",
       "      <th>Crashes Total</th>\n",
       "      <th>Crashes:Fatal</th>\n",
       "      <th>Crashes:Serious Injury</th>\n",
       "      <th>Crashes%:Fatal</th>\n",
       "      <th>Crashes%:Serious Injury</th>\n",
       "    </tr>\n",
       "  </thead>\n",
       "  <tbody>\n",
       "    <tr>\n",
       "      <th>0</th>\n",
       "      <td>Portland</td>\n",
       "      <td>2011.0</td>\n",
       "      <td>254.0</td>\n",
       "      <td>3.0</td>\n",
       "      <td>12.0</td>\n",
       "      <td>1.181102</td>\n",
       "      <td>4.724409</td>\n",
       "    </tr>\n",
       "    <tr>\n",
       "      <th>1</th>\n",
       "      <td>Sumner County</td>\n",
       "      <td>2011.0</td>\n",
       "      <td>3787.0</td>\n",
       "      <td>21.0</td>\n",
       "      <td>128.0</td>\n",
       "      <td>0.554529</td>\n",
       "      <td>3.379984</td>\n",
       "    </tr>\n",
       "    <tr>\n",
       "      <th>2</th>\n",
       "      <td>Wilson</td>\n",
       "      <td>2011.0</td>\n",
       "      <td>3209.0</td>\n",
       "      <td>21.0</td>\n",
       "      <td>109.0</td>\n",
       "      <td>0.654409</td>\n",
       "      <td>3.396697</td>\n",
       "    </tr>\n",
       "    <tr>\n",
       "      <th>3</th>\n",
       "      <td>Rutherford County</td>\n",
       "      <td>2011.0</td>\n",
       "      <td>8626.0</td>\n",
       "      <td>21.0</td>\n",
       "      <td>281.0</td>\n",
       "      <td>0.243450</td>\n",
       "      <td>3.257593</td>\n",
       "    </tr>\n",
       "    <tr>\n",
       "      <th>4</th>\n",
       "      <td>MPO Region</td>\n",
       "      <td>2011.0</td>\n",
       "      <td>59880.0</td>\n",
       "      <td>167.0</td>\n",
       "      <td>1100.0</td>\n",
       "      <td>0.278891</td>\n",
       "      <td>1.837007</td>\n",
       "    </tr>\n",
       "  </tbody>\n",
       "</table>\n",
       "</div>"
      ],
      "text/plain": [
       "                NAME    Year  Crashes Total  Crashes:Fatal  Crashes:Serious Injury  Crashes%:Fatal  Crashes%:Serious Injury\n",
       "0           Portland  2011.0          254.0            3.0                    12.0        1.181102                 4.724409\n",
       "1      Sumner County  2011.0         3787.0           21.0                   128.0        0.554529                 3.379984\n",
       "2             Wilson  2011.0         3209.0           21.0                   109.0        0.654409                 3.396697\n",
       "3  Rutherford County  2011.0         8626.0           21.0                   281.0        0.243450                 3.257593\n",
       "4         MPO Region  2011.0        59880.0          167.0                  1100.0        0.278891                 1.837007"
      ]
     },
     "execution_count": 13,
     "metadata": {},
     "output_type": "execute_result"
    }
   ],
   "source": [
    "data.head()"
   ]
  },
  {
   "cell_type": "code",
   "execution_count": 12,
   "id": "479326d5",
   "metadata": {},
   "outputs": [],
   "source": [
    "data.to_csv('../../Outputs/crashes.csv', index = False)"
   ]
  },
  {
   "cell_type": "code",
   "execution_count": null,
   "id": "87f2054b",
   "metadata": {},
   "outputs": [],
   "source": []
  },
  {
   "cell_type": "code",
   "execution_count": null,
   "id": "f4f81874",
   "metadata": {},
   "outputs": [],
   "source": []
  }
 ],
 "metadata": {
  "kernelspec": {
   "display_name": "Python 3 (ipykernel)",
   "language": "python",
   "name": "python3"
  },
  "language_info": {
   "codemirror_mode": {
    "name": "ipython",
    "version": 3
   },
   "file_extension": ".py",
   "mimetype": "text/x-python",
   "name": "python",
   "nbconvert_exporter": "python",
   "pygments_lexer": "ipython3",
   "version": "3.8.8"
  }
 },
 "nbformat": 4,
 "nbformat_minor": 5
}
