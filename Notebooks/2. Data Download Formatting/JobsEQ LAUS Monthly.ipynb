{
 "cells": [
  {
   "cell_type": "code",
   "execution_count": 2,
   "id": "4cfdfb4f",
   "metadata": {},
   "outputs": [],
   "source": [
    "import pandas as pd\n",
    "import numpy as np\n",
    "import matplotlib.pyplot as plt\n",
    "from functools import reduce\n",
    "pd.set_option('display.max_columns', None)\n",
    "pd.set_option('display.max_rows', None)\n",
    "pd.set_option('display.width', 150)\n",
    "def percentchange(x, y):\n",
    "    try:\n",
    "        return ((x - y)*100/y)\n",
    "    except ZeroDivisionError:\n",
    "        return 0\n",
    "def realchange(x, y):\n",
    "    return x-y\n",
    "def percent(x, y):\n",
    "    return (x/y)*100"
   ]
  },
  {
   "cell_type": "markdown",
   "id": "236a405f",
   "metadata": {},
   "source": [
    "# LAUS  \n",
    "This outlines how to retrieve labor force statistics from the Local Area Unemployment Statistics via JobsEQ.  \n",
    "\n",
    "Beginning at data explorer, select monthly data "
   ]
  },
  {
   "cell_type": "code",
   "execution_count": 397,
   "id": "9536e79f",
   "metadata": {},
   "outputs": [],
   "source": [
    "data = pd.read_csv('../../Data Downloads/JobsEQLAUS_Monthly.csv')"
   ]
  },
  {
   "cell_type": "code",
   "execution_count": 398,
   "id": "f5343b87",
   "metadata": {},
   "outputs": [],
   "source": [
    "data = data.set_index('Time').transpose()"
   ]
  },
  {
   "cell_type": "code",
   "execution_count": 399,
   "id": "28cd6470",
   "metadata": {},
   "outputs": [],
   "source": [
    "data = data.rename(columns = {'Time': 'Datapoint'}).reset_index(drop = False)"
   ]
  },
  {
   "cell_type": "code",
   "execution_count": 400,
   "id": "2831c4a4",
   "metadata": {},
   "outputs": [],
   "source": [
    "data['index'] = data['index'].str.strip()\n",
    "data['Datapoint'] = data['Datapoint'].str.strip()"
   ]
  },
  {
   "cell_type": "code",
   "execution_count": 401,
   "id": "fded4bcd",
   "metadata": {},
   "outputs": [],
   "source": [
    "boop = data['index'].str.split(pat = \".\", expand = True)\n",
    "data['NAME'] = boop[0]"
   ]
  },
  {
   "cell_type": "code",
   "execution_count": 402,
   "id": "b4f5c881",
   "metadata": {},
   "outputs": [],
   "source": [
    "data = data.drop(columns = 'index').set_index('NAME').transpose()"
   ]
  },
  {
   "cell_type": "code",
   "execution_count": 403,
   "id": "d726cf8f",
   "metadata": {},
   "outputs": [],
   "source": [
    "data = data.rename(columns = {'USA': 'US', 'Tennessee (47)': 'Tennessee', 'Cheatham County, Tennessee (47021)': 'Cheatham County', \n",
    "                              'Davidson County, Tennessee (47037)': 'Davidson County', 'Dickson County, Tennessee (47043)': 'Dickson County', \n",
    "                              'Houston County, Tennessee (47083)': 'Houston County', 'Humphreys County, Tennessee (47085)': 'Humphreys County', \n",
    "                              'Maury County, Tennessee (47119)': 'Maury County', 'Montgomery County, Tennessee (47125)': 'Montgomery County', \n",
    "                              'Robertson County, Tennessee (47147)': 'Robertson County', 'Rutherford County, Tennessee (47149)': 'Rutherford County', \n",
    "                              'Stewart County, Tennessee (47161)': 'Stewart County', 'Sumner County, Tennessee (47165)': 'Sumner County', \n",
    "                              'Trousdale County, Tennessee (47169)': 'Trousdale County', 'Williamson County, Tennessee (47187)': 'Williamson County', \n",
    "                              'Wilson County, Tennessee (47189)': 'Wilson County'\n",
    "                             }).transpose()"
   ]
  },
  {
   "cell_type": "code",
   "execution_count": 404,
   "id": "864824b4",
   "metadata": {},
   "outputs": [],
   "source": [
    "data = data.reset_index(drop = False)"
   ]
  },
  {
   "cell_type": "code",
   "execution_count": 405,
   "id": "a2f9039d",
   "metadata": {},
   "outputs": [],
   "source": [
    "cols = data.columns"
   ]
  },
  {
   "cell_type": "code",
   "execution_count": 406,
   "id": "d8c48bcf",
   "metadata": {},
   "outputs": [
    {
     "data": {
      "text/html": [
       "<div>\n",
       "<style scoped>\n",
       "    .dataframe tbody tr th:only-of-type {\n",
       "        vertical-align: middle;\n",
       "    }\n",
       "\n",
       "    .dataframe tbody tr th {\n",
       "        vertical-align: top;\n",
       "    }\n",
       "\n",
       "    .dataframe thead th {\n",
       "        text-align: right;\n",
       "    }\n",
       "</style>\n",
       "<table border=\"1\" class=\"dataframe\">\n",
       "  <thead>\n",
       "    <tr style=\"text-align: right;\">\n",
       "      <th></th>\n",
       "      <th>NAME</th>\n",
       "      <th>Datapoint</th>\n",
       "      <th>Time</th>\n",
       "      <th>Value</th>\n",
       "    </tr>\n",
       "  </thead>\n",
       "  <tbody>\n",
       "    <tr>\n",
       "      <th>0</th>\n",
       "      <td>US</td>\n",
       "      <td>Labor Force (Seas Adj)</td>\n",
       "      <td>Jan-00</td>\n",
       "      <td>143568555</td>\n",
       "    </tr>\n",
       "    <tr>\n",
       "      <th>1</th>\n",
       "      <td>US</td>\n",
       "      <td>Employed (Seas Adj)</td>\n",
       "      <td>Jan-00</td>\n",
       "      <td>137572913</td>\n",
       "    </tr>\n",
       "    <tr>\n",
       "      <th>2</th>\n",
       "      <td>US</td>\n",
       "      <td>Unemployed (Seas Adj)</td>\n",
       "      <td>Jan-00</td>\n",
       "      <td>6026406</td>\n",
       "    </tr>\n",
       "    <tr>\n",
       "      <th>3</th>\n",
       "      <td>US</td>\n",
       "      <td>Unemployment Rate (Seas Adj)</td>\n",
       "      <td>Jan-00</td>\n",
       "      <td>0.041</td>\n",
       "    </tr>\n",
       "    <tr>\n",
       "      <th>4</th>\n",
       "      <td>Tennessee</td>\n",
       "      <td>Labor Force (Seas Adj)</td>\n",
       "      <td>Jan-00</td>\n",
       "      <td>2850230</td>\n",
       "    </tr>\n",
       "  </tbody>\n",
       "</table>\n",
       "</div>"
      ],
      "text/plain": [
       "        NAME                     Datapoint    Time      Value\n",
       "0         US        Labor Force (Seas Adj)  Jan-00  143568555\n",
       "1         US           Employed (Seas Adj)  Jan-00  137572913\n",
       "2         US         Unemployed (Seas Adj)  Jan-00    6026406\n",
       "3         US  Unemployment Rate (Seas Adj)  Jan-00      0.041\n",
       "4  Tennessee        Labor Force (Seas Adj)  Jan-00    2850230"
      ]
     },
     "execution_count": 406,
     "metadata": {},
     "output_type": "execute_result"
    }
   ],
   "source": [
    "data = data.melt(var_name = 'Time', id_vars = ['NAME', 'Datapoint'], value_vars = cols, value_name = 'Value')\n",
    "data.head()"
   ]
  },
  {
   "cell_type": "code",
   "execution_count": 407,
   "id": "275fcd9e",
   "metadata": {},
   "outputs": [],
   "source": [
    "data = data.set_index('Datapoint').transpose()\n",
    "data = data.rename(columns = {'Labor Force (Seas Adj)': 'Labor Force', 'Employed (Seas Adj)': 'Employed', \n",
    "                              'Unemployed (Seas Adj)': 'Unemployed', 'Unemployment Rate (Seas Adj)': 'Unemployment Rate'})\n",
    "#data['Unemployment Rate'] = data['Unemployment Rate'] * 100\n",
    "data = data.transpose().reset_index(drop = False)"
   ]
  },
  {
   "cell_type": "code",
   "execution_count": 408,
   "id": "01ddfa54",
   "metadata": {},
   "outputs": [
    {
     "data": {
      "text/html": [
       "<div>\n",
       "<style scoped>\n",
       "    .dataframe tbody tr th:only-of-type {\n",
       "        vertical-align: middle;\n",
       "    }\n",
       "\n",
       "    .dataframe tbody tr th {\n",
       "        vertical-align: top;\n",
       "    }\n",
       "\n",
       "    .dataframe thead th {\n",
       "        text-align: right;\n",
       "    }\n",
       "</style>\n",
       "<table border=\"1\" class=\"dataframe\">\n",
       "  <thead>\n",
       "    <tr style=\"text-align: right;\">\n",
       "      <th></th>\n",
       "      <th>Datapoint</th>\n",
       "      <th>NAME</th>\n",
       "      <th>Time</th>\n",
       "      <th>Value</th>\n",
       "    </tr>\n",
       "  </thead>\n",
       "  <tbody>\n",
       "    <tr>\n",
       "      <th>0</th>\n",
       "      <td>Labor Force</td>\n",
       "      <td>US</td>\n",
       "      <td>Jan-00</td>\n",
       "      <td>143568555</td>\n",
       "    </tr>\n",
       "    <tr>\n",
       "      <th>1</th>\n",
       "      <td>Employed</td>\n",
       "      <td>US</td>\n",
       "      <td>Jan-00</td>\n",
       "      <td>137572913</td>\n",
       "    </tr>\n",
       "    <tr>\n",
       "      <th>2</th>\n",
       "      <td>Unemployed</td>\n",
       "      <td>US</td>\n",
       "      <td>Jan-00</td>\n",
       "      <td>6026406</td>\n",
       "    </tr>\n",
       "    <tr>\n",
       "      <th>3</th>\n",
       "      <td>Unemployment Rate</td>\n",
       "      <td>US</td>\n",
       "      <td>Jan-00</td>\n",
       "      <td>0.041</td>\n",
       "    </tr>\n",
       "    <tr>\n",
       "      <th>4</th>\n",
       "      <td>Labor Force</td>\n",
       "      <td>Tennessee</td>\n",
       "      <td>Jan-00</td>\n",
       "      <td>2850230</td>\n",
       "    </tr>\n",
       "  </tbody>\n",
       "</table>\n",
       "</div>"
      ],
      "text/plain": [
       "           Datapoint       NAME    Time      Value\n",
       "0        Labor Force         US  Jan-00  143568555\n",
       "1           Employed         US  Jan-00  137572913\n",
       "2         Unemployed         US  Jan-00    6026406\n",
       "3  Unemployment Rate         US  Jan-00      0.041\n",
       "4        Labor Force  Tennessee  Jan-00    2850230"
      ]
     },
     "execution_count": 408,
     "metadata": {},
     "output_type": "execute_result"
    }
   ],
   "source": [
    "data.head()"
   ]
  },
  {
   "cell_type": "code",
   "execution_count": 409,
   "id": "bfc1cb81",
   "metadata": {},
   "outputs": [],
   "source": [
    "data['Value'] = data['Value'].astype(float)"
   ]
  },
  {
   "cell_type": "code",
   "execution_count": 410,
   "id": "da66253f",
   "metadata": {},
   "outputs": [],
   "source": [
    "data['New Value'] = data['Value']"
   ]
  },
  {
   "cell_type": "code",
   "execution_count": 411,
   "id": "e471d612",
   "metadata": {},
   "outputs": [],
   "source": [
    "data.loc[data['Datapoint'] == 'Unemployment Rate', 'New Value'] = data['Value'] * 100"
   ]
  },
  {
   "cell_type": "code",
   "execution_count": 412,
   "id": "13edd5b9",
   "metadata": {},
   "outputs": [],
   "source": [
    "#data['month'].value_counts()"
   ]
  },
  {
   "cell_type": "code",
   "execution_count": 413,
   "id": "923e1c32",
   "metadata": {},
   "outputs": [],
   "source": [
    "data = data.drop(columns = 'Value').rename(columns = {'New Value': 'Value'})"
   ]
  },
  {
   "cell_type": "code",
   "execution_count": 414,
   "id": "8fd4b565",
   "metadata": {},
   "outputs": [],
   "source": [
    "weirds = ['Jan-00', 'Feb-00', 'Mar-00', 'Apr-00', 'May-00', 'Jun-00', 'Jul-00', 'Aug-00', 'Sep-00', 'Oct-00', 'Nov-00', 'Dec-00']"
   ]
  },
  {
   "cell_type": "code",
   "execution_count": 415,
   "id": "4a1f3be7",
   "metadata": {},
   "outputs": [],
   "source": [
    "twothousand = data.loc[data['Time'].isin(weirds)]"
   ]
  },
  {
   "cell_type": "code",
   "execution_count": 416,
   "id": "67256f4d",
   "metadata": {},
   "outputs": [
    {
     "data": {
      "text/html": [
       "<div>\n",
       "<style scoped>\n",
       "    .dataframe tbody tr th:only-of-type {\n",
       "        vertical-align: middle;\n",
       "    }\n",
       "\n",
       "    .dataframe tbody tr th {\n",
       "        vertical-align: top;\n",
       "    }\n",
       "\n",
       "    .dataframe thead th {\n",
       "        text-align: right;\n",
       "    }\n",
       "</style>\n",
       "<table border=\"1\" class=\"dataframe\">\n",
       "  <thead>\n",
       "    <tr style=\"text-align: right;\">\n",
       "      <th></th>\n",
       "      <th>Datapoint</th>\n",
       "      <th>NAME</th>\n",
       "      <th>Time</th>\n",
       "      <th>Value</th>\n",
       "    </tr>\n",
       "  </thead>\n",
       "  <tbody>\n",
       "    <tr>\n",
       "      <th>0</th>\n",
       "      <td>Labor Force</td>\n",
       "      <td>US</td>\n",
       "      <td>Jan-00</td>\n",
       "      <td>143568555.0</td>\n",
       "    </tr>\n",
       "    <tr>\n",
       "      <th>1</th>\n",
       "      <td>Employed</td>\n",
       "      <td>US</td>\n",
       "      <td>Jan-00</td>\n",
       "      <td>137572913.0</td>\n",
       "    </tr>\n",
       "    <tr>\n",
       "      <th>2</th>\n",
       "      <td>Unemployed</td>\n",
       "      <td>US</td>\n",
       "      <td>Jan-00</td>\n",
       "      <td>6026406.0</td>\n",
       "    </tr>\n",
       "    <tr>\n",
       "      <th>3</th>\n",
       "      <td>Unemployment Rate</td>\n",
       "      <td>US</td>\n",
       "      <td>Jan-00</td>\n",
       "      <td>4.1</td>\n",
       "    </tr>\n",
       "    <tr>\n",
       "      <th>4</th>\n",
       "      <td>Labor Force</td>\n",
       "      <td>Tennessee</td>\n",
       "      <td>Jan-00</td>\n",
       "      <td>2850230.0</td>\n",
       "    </tr>\n",
       "  </tbody>\n",
       "</table>\n",
       "</div>"
      ],
      "text/plain": [
       "           Datapoint       NAME    Time        Value\n",
       "0        Labor Force         US  Jan-00  143568555.0\n",
       "1           Employed         US  Jan-00  137572913.0\n",
       "2         Unemployed         US  Jan-00    6026406.0\n",
       "3  Unemployment Rate         US  Jan-00          4.1\n",
       "4        Labor Force  Tennessee  Jan-00    2850230.0"
      ]
     },
     "execution_count": 416,
     "metadata": {},
     "output_type": "execute_result"
    }
   ],
   "source": [
    "twothousand.head()"
   ]
  },
  {
   "cell_type": "code",
   "execution_count": 417,
   "id": "eb3aeaca",
   "metadata": {},
   "outputs": [],
   "source": [
    "data = data.loc[~data['Time'].isin(weirds)]"
   ]
  },
  {
   "cell_type": "code",
   "execution_count": 418,
   "id": "45044d37",
   "metadata": {},
   "outputs": [
    {
     "data": {
      "text/html": [
       "<div>\n",
       "<style scoped>\n",
       "    .dataframe tbody tr th:only-of-type {\n",
       "        vertical-align: middle;\n",
       "    }\n",
       "\n",
       "    .dataframe tbody tr th {\n",
       "        vertical-align: top;\n",
       "    }\n",
       "\n",
       "    .dataframe thead th {\n",
       "        text-align: right;\n",
       "    }\n",
       "</style>\n",
       "<table border=\"1\" class=\"dataframe\">\n",
       "  <thead>\n",
       "    <tr style=\"text-align: right;\">\n",
       "      <th></th>\n",
       "      <th>Datapoint</th>\n",
       "      <th>NAME</th>\n",
       "      <th>Time</th>\n",
       "      <th>Value</th>\n",
       "    </tr>\n",
       "  </thead>\n",
       "  <tbody>\n",
       "    <tr>\n",
       "      <th>912</th>\n",
       "      <td>Labor Force</td>\n",
       "      <td>US</td>\n",
       "      <td>1-Jan</td>\n",
       "      <td>144958564.0</td>\n",
       "    </tr>\n",
       "    <tr>\n",
       "      <th>913</th>\n",
       "      <td>Employed</td>\n",
       "      <td>US</td>\n",
       "      <td>1-Jan</td>\n",
       "      <td>138798222.0</td>\n",
       "    </tr>\n",
       "    <tr>\n",
       "      <th>914</th>\n",
       "      <td>Unemployed</td>\n",
       "      <td>US</td>\n",
       "      <td>1-Jan</td>\n",
       "      <td>6183586.0</td>\n",
       "    </tr>\n",
       "    <tr>\n",
       "      <th>915</th>\n",
       "      <td>Unemployment Rate</td>\n",
       "      <td>US</td>\n",
       "      <td>1-Jan</td>\n",
       "      <td>4.2</td>\n",
       "    </tr>\n",
       "    <tr>\n",
       "      <th>916</th>\n",
       "      <td>Labor Force</td>\n",
       "      <td>Tennessee</td>\n",
       "      <td>1-Jan</td>\n",
       "      <td>2860282.0</td>\n",
       "    </tr>\n",
       "  </tbody>\n",
       "</table>\n",
       "</div>"
      ],
      "text/plain": [
       "             Datapoint       NAME   Time        Value\n",
       "912        Labor Force         US  1-Jan  144958564.0\n",
       "913           Employed         US  1-Jan  138798222.0\n",
       "914         Unemployed         US  1-Jan    6183586.0\n",
       "915  Unemployment Rate         US  1-Jan          4.2\n",
       "916        Labor Force  Tennessee  1-Jan    2860282.0"
      ]
     },
     "execution_count": 418,
     "metadata": {},
     "output_type": "execute_result"
    }
   ],
   "source": [
    "data.head()"
   ]
  },
  {
   "cell_type": "code",
   "execution_count": 419,
   "id": "a6e6fced",
   "metadata": {},
   "outputs": [],
   "source": [
    "boop = data['Time'].str.split(pat = \"-\", expand = True)\n",
    "data['month'] = boop[1]\n",
    "data['year'] = boop[0]"
   ]
  },
  {
   "cell_type": "code",
   "execution_count": 420,
   "id": "47f77b41",
   "metadata": {},
   "outputs": [],
   "source": [
    "boop = twothousand['Time'].str.split(pat = \"-\", expand = True)\n",
    "twothousand['month'] = boop[0]\n",
    "twothousand['year'] = boop[1]"
   ]
  },
  {
   "cell_type": "code",
   "execution_count": 421,
   "id": "6269c450",
   "metadata": {},
   "outputs": [
    {
     "name": "stderr",
     "output_type": "stream",
     "text": [
      "C:\\Users\\jmccall\\AppData\\Local\\Temp\\ipykernel_15296\\2264709456.py:1: FutureWarning: The frame.append method is deprecated and will be removed from pandas in a future version. Use pandas.concat instead.\n",
      "  df = data.append(twothousand)\n"
     ]
    },
    {
     "data": {
      "text/html": [
       "<div>\n",
       "<style scoped>\n",
       "    .dataframe tbody tr th:only-of-type {\n",
       "        vertical-align: middle;\n",
       "    }\n",
       "\n",
       "    .dataframe tbody tr th {\n",
       "        vertical-align: top;\n",
       "    }\n",
       "\n",
       "    .dataframe thead th {\n",
       "        text-align: right;\n",
       "    }\n",
       "</style>\n",
       "<table border=\"1\" class=\"dataframe\">\n",
       "  <thead>\n",
       "    <tr style=\"text-align: right;\">\n",
       "      <th></th>\n",
       "      <th>Datapoint</th>\n",
       "      <th>NAME</th>\n",
       "      <th>Time</th>\n",
       "      <th>Value</th>\n",
       "      <th>month</th>\n",
       "      <th>year</th>\n",
       "    </tr>\n",
       "  </thead>\n",
       "  <tbody>\n",
       "    <tr>\n",
       "      <th>907</th>\n",
       "      <td>Unemployment Rate</td>\n",
       "      <td>Williamson County</td>\n",
       "      <td>Dec-00</td>\n",
       "      <td>2.5</td>\n",
       "      <td>Dec</td>\n",
       "      <td>00</td>\n",
       "    </tr>\n",
       "    <tr>\n",
       "      <th>908</th>\n",
       "      <td>Labor Force</td>\n",
       "      <td>Wilson County</td>\n",
       "      <td>Dec-00</td>\n",
       "      <td>50170.0</td>\n",
       "      <td>Dec</td>\n",
       "      <td>00</td>\n",
       "    </tr>\n",
       "    <tr>\n",
       "      <th>909</th>\n",
       "      <td>Employed</td>\n",
       "      <td>Wilson County</td>\n",
       "      <td>Dec-00</td>\n",
       "      <td>48460.0</td>\n",
       "      <td>Dec</td>\n",
       "      <td>00</td>\n",
       "    </tr>\n",
       "    <tr>\n",
       "      <th>910</th>\n",
       "      <td>Unemployed</td>\n",
       "      <td>Wilson County</td>\n",
       "      <td>Dec-00</td>\n",
       "      <td>1688.0</td>\n",
       "      <td>Dec</td>\n",
       "      <td>00</td>\n",
       "    </tr>\n",
       "    <tr>\n",
       "      <th>911</th>\n",
       "      <td>Unemployment Rate</td>\n",
       "      <td>Wilson County</td>\n",
       "      <td>Dec-00</td>\n",
       "      <td>3.3</td>\n",
       "      <td>Dec</td>\n",
       "      <td>00</td>\n",
       "    </tr>\n",
       "  </tbody>\n",
       "</table>\n",
       "</div>"
      ],
      "text/plain": [
       "             Datapoint               NAME    Time    Value month year\n",
       "907  Unemployment Rate  Williamson County  Dec-00      2.5   Dec   00\n",
       "908        Labor Force      Wilson County  Dec-00  50170.0   Dec   00\n",
       "909           Employed      Wilson County  Dec-00  48460.0   Dec   00\n",
       "910         Unemployed      Wilson County  Dec-00   1688.0   Dec   00\n",
       "911  Unemployment Rate      Wilson County  Dec-00      3.3   Dec   00"
      ]
     },
     "execution_count": 421,
     "metadata": {},
     "output_type": "execute_result"
    }
   ],
   "source": [
    "df = data.append(twothousand)\n",
    "df.tail()"
   ]
  },
  {
   "cell_type": "code",
   "execution_count": 422,
   "id": "542e3a36",
   "metadata": {},
   "outputs": [],
   "source": [
    "data = df"
   ]
  },
  {
   "cell_type": "code",
   "execution_count": 423,
   "id": "6a7f9513",
   "metadata": {},
   "outputs": [],
   "source": [
    "data['year'] = data['year'].astype(str)\n",
    "twothousand['year'] = twothousand['year'].astype(str)"
   ]
  },
  {
   "cell_type": "code",
   "execution_count": 424,
   "id": "dd9a1a52",
   "metadata": {},
   "outputs": [],
   "source": [
    "#data = data.set_index('Value')"
   ]
  },
  {
   "cell_type": "code",
   "execution_count": 425,
   "id": "c460fe1d",
   "metadata": {},
   "outputs": [],
   "source": [
    "data = data.set_index('month').transpose()\n",
    "data = data.rename(columns = {'Jan': 1, 'Feb': 2, 'Mar': 3, 'Apr': 4, \n",
    "                              'May': 5, 'Jun': 6, 'Jul': 7, 'Aug': 8, \n",
    "                              'Sep': 9, 'Oct': 10, 'Nov': 11, 'Dec': 12})"
   ]
  },
  {
   "cell_type": "code",
   "execution_count": 426,
   "id": "48905422",
   "metadata": {},
   "outputs": [],
   "source": [
    "data = data.transpose().reset_index(drop = False)\n",
    "data = data.set_index('year').transpose()"
   ]
  },
  {
   "cell_type": "code",
   "execution_count": 428,
   "id": "b8b0635e",
   "metadata": {},
   "outputs": [],
   "source": [
    "#data.head()"
   ]
  },
  {
   "cell_type": "code",
   "execution_count": 429,
   "id": "ce8b815c",
   "metadata": {},
   "outputs": [],
   "source": [
    "data = data.rename(columns = {'00': 2000, '1': 2001, '2': 2002, '3': 2003, '4': 2004, '5': 2005, \n",
    "                              '6': 2006, '7': 2007, '8': 2008, '9': 2009, '10': 2010, '11': 2011, \n",
    "                              '12': 2012, '13': 2013, '14': 2014, '15': 2015, '16': 2016, '17': 2017, \n",
    "                              '18': 2018, '19': 2019, '20': 2020, '21': 2021, '22': 2022})"
   ]
  },
  {
   "cell_type": "code",
   "execution_count": 430,
   "id": "aa57861d",
   "metadata": {},
   "outputs": [],
   "source": [
    "data = data.transpose().reset_index(drop = False)"
   ]
  },
  {
   "cell_type": "code",
   "execution_count": 431,
   "id": "307b836e",
   "metadata": {},
   "outputs": [],
   "source": [
    "data['day'] = 1"
   ]
  },
  {
   "cell_type": "code",
   "execution_count": 432,
   "id": "ea14377b",
   "metadata": {},
   "outputs": [
    {
     "data": {
      "text/plain": [
       "2001    912\n",
       "2013    912\n",
       "2022    912\n",
       "2021    912\n",
       "2020    912\n",
       "2019    912\n",
       "2018    912\n",
       "2017    912\n",
       "2016    912\n",
       "2015    912\n",
       "2014    912\n",
       "2012    912\n",
       "2002    912\n",
       "2011    912\n",
       "2010    912\n",
       "2009    912\n",
       "2008    912\n",
       "2007    912\n",
       "2006    912\n",
       "2005    912\n",
       "2004    912\n",
       "2003    912\n",
       "2000    912\n",
       "Name: year, dtype: int64"
      ]
     },
     "execution_count": 432,
     "metadata": {},
     "output_type": "execute_result"
    }
   ],
   "source": [
    "data['year'].value_counts()"
   ]
  },
  {
   "cell_type": "code",
   "execution_count": 433,
   "id": "ccd05ecc",
   "metadata": {},
   "outputs": [
    {
     "data": {
      "text/html": [
       "<div>\n",
       "<style scoped>\n",
       "    .dataframe tbody tr th:only-of-type {\n",
       "        vertical-align: middle;\n",
       "    }\n",
       "\n",
       "    .dataframe tbody tr th {\n",
       "        vertical-align: top;\n",
       "    }\n",
       "\n",
       "    .dataframe thead th {\n",
       "        text-align: right;\n",
       "    }\n",
       "</style>\n",
       "<table border=\"1\" class=\"dataframe\">\n",
       "  <thead>\n",
       "    <tr style=\"text-align: right;\">\n",
       "      <th></th>\n",
       "      <th>year</th>\n",
       "      <th>month</th>\n",
       "      <th>Datapoint</th>\n",
       "      <th>NAME</th>\n",
       "      <th>Time</th>\n",
       "      <th>Value</th>\n",
       "      <th>day</th>\n",
       "    </tr>\n",
       "  </thead>\n",
       "  <tbody>\n",
       "    <tr>\n",
       "      <th>0</th>\n",
       "      <td>2001</td>\n",
       "      <td>1</td>\n",
       "      <td>Labor Force</td>\n",
       "      <td>US</td>\n",
       "      <td>1-Jan</td>\n",
       "      <td>144958564.0</td>\n",
       "      <td>1</td>\n",
       "    </tr>\n",
       "    <tr>\n",
       "      <th>1</th>\n",
       "      <td>2001</td>\n",
       "      <td>1</td>\n",
       "      <td>Employed</td>\n",
       "      <td>US</td>\n",
       "      <td>1-Jan</td>\n",
       "      <td>138798222.0</td>\n",
       "      <td>1</td>\n",
       "    </tr>\n",
       "    <tr>\n",
       "      <th>2</th>\n",
       "      <td>2001</td>\n",
       "      <td>1</td>\n",
       "      <td>Unemployed</td>\n",
       "      <td>US</td>\n",
       "      <td>1-Jan</td>\n",
       "      <td>6183586.0</td>\n",
       "      <td>1</td>\n",
       "    </tr>\n",
       "    <tr>\n",
       "      <th>3</th>\n",
       "      <td>2001</td>\n",
       "      <td>1</td>\n",
       "      <td>Unemployment Rate</td>\n",
       "      <td>US</td>\n",
       "      <td>1-Jan</td>\n",
       "      <td>4.2</td>\n",
       "      <td>1</td>\n",
       "    </tr>\n",
       "    <tr>\n",
       "      <th>4</th>\n",
       "      <td>2001</td>\n",
       "      <td>1</td>\n",
       "      <td>Labor Force</td>\n",
       "      <td>Tennessee</td>\n",
       "      <td>1-Jan</td>\n",
       "      <td>2860282.0</td>\n",
       "      <td>1</td>\n",
       "    </tr>\n",
       "  </tbody>\n",
       "</table>\n",
       "</div>"
      ],
      "text/plain": [
       "   year month          Datapoint       NAME   Time        Value  day\n",
       "0  2001     1        Labor Force         US  1-Jan  144958564.0    1\n",
       "1  2001     1           Employed         US  1-Jan  138798222.0    1\n",
       "2  2001     1         Unemployed         US  1-Jan    6183586.0    1\n",
       "3  2001     1  Unemployment Rate         US  1-Jan          4.2    1\n",
       "4  2001     1        Labor Force  Tennessee  1-Jan    2860282.0    1"
      ]
     },
     "execution_count": 433,
     "metadata": {},
     "output_type": "execute_result"
    }
   ],
   "source": [
    "data.head()"
   ]
  },
  {
   "cell_type": "code",
   "execution_count": 434,
   "id": "1feb78d7",
   "metadata": {},
   "outputs": [],
   "source": [
    "data['month'] = data['month'].astype(int)\n",
    "data['year'] = data['year'].astype(int)\n",
    "data['day'] = data['day'].astype(int)"
   ]
  },
  {
   "cell_type": "code",
   "execution_count": 435,
   "id": "81659c57",
   "metadata": {},
   "outputs": [
    {
     "name": "stdout",
     "output_type": "stream",
     "text": [
      "<class 'pandas.core.frame.DataFrame'>\n",
      "RangeIndex: 20976 entries, 0 to 20975\n",
      "Data columns (total 7 columns):\n",
      " #   Column     Non-Null Count  Dtype \n",
      "---  ------     --------------  ----- \n",
      " 0   year       20976 non-null  int32 \n",
      " 1   month      20976 non-null  int32 \n",
      " 2   Datapoint  20976 non-null  object\n",
      " 3   NAME       20976 non-null  object\n",
      " 4   Time       20976 non-null  object\n",
      " 5   Value      20976 non-null  object\n",
      " 6   day        20976 non-null  int32 \n",
      "dtypes: int32(3), object(4)\n",
      "memory usage: 901.4+ KB\n"
     ]
    }
   ],
   "source": [
    "data.info()"
   ]
  },
  {
   "cell_type": "code",
   "execution_count": 436,
   "id": "82a1e88b",
   "metadata": {},
   "outputs": [
    {
     "data": {
      "text/html": [
       "<div>\n",
       "<style scoped>\n",
       "    .dataframe tbody tr th:only-of-type {\n",
       "        vertical-align: middle;\n",
       "    }\n",
       "\n",
       "    .dataframe tbody tr th {\n",
       "        vertical-align: top;\n",
       "    }\n",
       "\n",
       "    .dataframe thead th {\n",
       "        text-align: right;\n",
       "    }\n",
       "</style>\n",
       "<table border=\"1\" class=\"dataframe\">\n",
       "  <thead>\n",
       "    <tr style=\"text-align: right;\">\n",
       "      <th></th>\n",
       "      <th>year</th>\n",
       "      <th>month</th>\n",
       "      <th>Datapoint</th>\n",
       "      <th>NAME</th>\n",
       "      <th>Time</th>\n",
       "      <th>Value</th>\n",
       "      <th>day</th>\n",
       "    </tr>\n",
       "  </thead>\n",
       "  <tbody>\n",
       "    <tr>\n",
       "      <th>0</th>\n",
       "      <td>2001</td>\n",
       "      <td>1</td>\n",
       "      <td>Labor Force</td>\n",
       "      <td>US</td>\n",
       "      <td>1-Jan</td>\n",
       "      <td>144958564.0</td>\n",
       "      <td>1</td>\n",
       "    </tr>\n",
       "    <tr>\n",
       "      <th>1</th>\n",
       "      <td>2001</td>\n",
       "      <td>1</td>\n",
       "      <td>Employed</td>\n",
       "      <td>US</td>\n",
       "      <td>1-Jan</td>\n",
       "      <td>138798222.0</td>\n",
       "      <td>1</td>\n",
       "    </tr>\n",
       "    <tr>\n",
       "      <th>2</th>\n",
       "      <td>2001</td>\n",
       "      <td>1</td>\n",
       "      <td>Unemployed</td>\n",
       "      <td>US</td>\n",
       "      <td>1-Jan</td>\n",
       "      <td>6183586.0</td>\n",
       "      <td>1</td>\n",
       "    </tr>\n",
       "    <tr>\n",
       "      <th>3</th>\n",
       "      <td>2001</td>\n",
       "      <td>1</td>\n",
       "      <td>Unemployment Rate</td>\n",
       "      <td>US</td>\n",
       "      <td>1-Jan</td>\n",
       "      <td>4.2</td>\n",
       "      <td>1</td>\n",
       "    </tr>\n",
       "    <tr>\n",
       "      <th>4</th>\n",
       "      <td>2001</td>\n",
       "      <td>1</td>\n",
       "      <td>Labor Force</td>\n",
       "      <td>Tennessee</td>\n",
       "      <td>1-Jan</td>\n",
       "      <td>2860282.0</td>\n",
       "      <td>1</td>\n",
       "    </tr>\n",
       "  </tbody>\n",
       "</table>\n",
       "</div>"
      ],
      "text/plain": [
       "   year  month          Datapoint       NAME   Time        Value  day\n",
       "0  2001      1        Labor Force         US  1-Jan  144958564.0    1\n",
       "1  2001      1           Employed         US  1-Jan  138798222.0    1\n",
       "2  2001      1         Unemployed         US  1-Jan    6183586.0    1\n",
       "3  2001      1  Unemployment Rate         US  1-Jan          4.2    1\n",
       "4  2001      1        Labor Force  Tennessee  1-Jan    2860282.0    1"
      ]
     },
     "execution_count": 436,
     "metadata": {},
     "output_type": "execute_result"
    }
   ],
   "source": [
    "data.head()"
   ]
  },
  {
   "cell_type": "code",
   "execution_count": 437,
   "id": "29c7593f",
   "metadata": {},
   "outputs": [],
   "source": [
    "data['Test'] = datetime.date(2020, 7, 25)"
   ]
  },
  {
   "cell_type": "code",
   "execution_count": 438,
   "id": "78d0396e",
   "metadata": {},
   "outputs": [],
   "source": [
    "data['TimeStamp'] = pd.to_datetime(data[['year', 'month', 'day']])"
   ]
  },
  {
   "cell_type": "code",
   "execution_count": 180,
   "id": "026b2a8a",
   "metadata": {},
   "outputs": [],
   "source": [
    "import datetime"
   ]
  },
  {
   "cell_type": "code",
   "execution_count": 439,
   "id": "355755b0",
   "metadata": {},
   "outputs": [
    {
     "data": {
      "text/html": [
       "<div>\n",
       "<style scoped>\n",
       "    .dataframe tbody tr th:only-of-type {\n",
       "        vertical-align: middle;\n",
       "    }\n",
       "\n",
       "    .dataframe tbody tr th {\n",
       "        vertical-align: top;\n",
       "    }\n",
       "\n",
       "    .dataframe thead th {\n",
       "        text-align: right;\n",
       "    }\n",
       "</style>\n",
       "<table border=\"1\" class=\"dataframe\">\n",
       "  <thead>\n",
       "    <tr style=\"text-align: right;\">\n",
       "      <th></th>\n",
       "      <th>year</th>\n",
       "      <th>month</th>\n",
       "      <th>Datapoint</th>\n",
       "      <th>NAME</th>\n",
       "      <th>Time</th>\n",
       "      <th>Value</th>\n",
       "      <th>day</th>\n",
       "      <th>Test</th>\n",
       "      <th>TimeStamp</th>\n",
       "    </tr>\n",
       "  </thead>\n",
       "  <tbody>\n",
       "    <tr>\n",
       "      <th>0</th>\n",
       "      <td>2001</td>\n",
       "      <td>1</td>\n",
       "      <td>Labor Force</td>\n",
       "      <td>US</td>\n",
       "      <td>1-Jan</td>\n",
       "      <td>144958564.0</td>\n",
       "      <td>1</td>\n",
       "      <td>2020-07-25</td>\n",
       "      <td>2001-01-01</td>\n",
       "    </tr>\n",
       "    <tr>\n",
       "      <th>1</th>\n",
       "      <td>2001</td>\n",
       "      <td>1</td>\n",
       "      <td>Employed</td>\n",
       "      <td>US</td>\n",
       "      <td>1-Jan</td>\n",
       "      <td>138798222.0</td>\n",
       "      <td>1</td>\n",
       "      <td>2020-07-25</td>\n",
       "      <td>2001-01-01</td>\n",
       "    </tr>\n",
       "    <tr>\n",
       "      <th>2</th>\n",
       "      <td>2001</td>\n",
       "      <td>1</td>\n",
       "      <td>Unemployed</td>\n",
       "      <td>US</td>\n",
       "      <td>1-Jan</td>\n",
       "      <td>6183586.0</td>\n",
       "      <td>1</td>\n",
       "      <td>2020-07-25</td>\n",
       "      <td>2001-01-01</td>\n",
       "    </tr>\n",
       "    <tr>\n",
       "      <th>3</th>\n",
       "      <td>2001</td>\n",
       "      <td>1</td>\n",
       "      <td>Unemployment Rate</td>\n",
       "      <td>US</td>\n",
       "      <td>1-Jan</td>\n",
       "      <td>4.2</td>\n",
       "      <td>1</td>\n",
       "      <td>2020-07-25</td>\n",
       "      <td>2001-01-01</td>\n",
       "    </tr>\n",
       "    <tr>\n",
       "      <th>4</th>\n",
       "      <td>2001</td>\n",
       "      <td>1</td>\n",
       "      <td>Labor Force</td>\n",
       "      <td>Tennessee</td>\n",
       "      <td>1-Jan</td>\n",
       "      <td>2860282.0</td>\n",
       "      <td>1</td>\n",
       "      <td>2020-07-25</td>\n",
       "      <td>2001-01-01</td>\n",
       "    </tr>\n",
       "  </tbody>\n",
       "</table>\n",
       "</div>"
      ],
      "text/plain": [
       "   year  month          Datapoint       NAME   Time        Value  day        Test  TimeStamp\n",
       "0  2001      1        Labor Force         US  1-Jan  144958564.0    1  2020-07-25 2001-01-01\n",
       "1  2001      1           Employed         US  1-Jan  138798222.0    1  2020-07-25 2001-01-01\n",
       "2  2001      1         Unemployed         US  1-Jan    6183586.0    1  2020-07-25 2001-01-01\n",
       "3  2001      1  Unemployment Rate         US  1-Jan          4.2    1  2020-07-25 2001-01-01\n",
       "4  2001      1        Labor Force  Tennessee  1-Jan    2860282.0    1  2020-07-25 2001-01-01"
      ]
     },
     "execution_count": 439,
     "metadata": {},
     "output_type": "execute_result"
    }
   ],
   "source": [
    "data.head()"
   ]
  },
  {
   "cell_type": "code",
   "execution_count": 440,
   "id": "d931f97f",
   "metadata": {},
   "outputs": [],
   "source": [
    "data = data.drop(columns = ['month', 'Time', 'day', 'Test'])"
   ]
  },
  {
   "cell_type": "code",
   "execution_count": 441,
   "id": "f180c6fe",
   "metadata": {},
   "outputs": [
    {
     "data": {
      "text/html": [
       "<div>\n",
       "<style scoped>\n",
       "    .dataframe tbody tr th:only-of-type {\n",
       "        vertical-align: middle;\n",
       "    }\n",
       "\n",
       "    .dataframe tbody tr th {\n",
       "        vertical-align: top;\n",
       "    }\n",
       "\n",
       "    .dataframe thead th {\n",
       "        text-align: right;\n",
       "    }\n",
       "</style>\n",
       "<table border=\"1\" class=\"dataframe\">\n",
       "  <thead>\n",
       "    <tr style=\"text-align: right;\">\n",
       "      <th></th>\n",
       "      <th>year</th>\n",
       "      <th>Datapoint</th>\n",
       "      <th>NAME</th>\n",
       "      <th>Value</th>\n",
       "      <th>TimeStamp</th>\n",
       "    </tr>\n",
       "  </thead>\n",
       "  <tbody>\n",
       "    <tr>\n",
       "      <th>0</th>\n",
       "      <td>2001</td>\n",
       "      <td>Labor Force</td>\n",
       "      <td>US</td>\n",
       "      <td>144958564.0</td>\n",
       "      <td>2001-01-01</td>\n",
       "    </tr>\n",
       "    <tr>\n",
       "      <th>1</th>\n",
       "      <td>2001</td>\n",
       "      <td>Employed</td>\n",
       "      <td>US</td>\n",
       "      <td>138798222.0</td>\n",
       "      <td>2001-01-01</td>\n",
       "    </tr>\n",
       "    <tr>\n",
       "      <th>2</th>\n",
       "      <td>2001</td>\n",
       "      <td>Unemployed</td>\n",
       "      <td>US</td>\n",
       "      <td>6183586.0</td>\n",
       "      <td>2001-01-01</td>\n",
       "    </tr>\n",
       "    <tr>\n",
       "      <th>3</th>\n",
       "      <td>2001</td>\n",
       "      <td>Unemployment Rate</td>\n",
       "      <td>US</td>\n",
       "      <td>4.2</td>\n",
       "      <td>2001-01-01</td>\n",
       "    </tr>\n",
       "    <tr>\n",
       "      <th>4</th>\n",
       "      <td>2001</td>\n",
       "      <td>Labor Force</td>\n",
       "      <td>Tennessee</td>\n",
       "      <td>2860282.0</td>\n",
       "      <td>2001-01-01</td>\n",
       "    </tr>\n",
       "  </tbody>\n",
       "</table>\n",
       "</div>"
      ],
      "text/plain": [
       "   year          Datapoint       NAME        Value  TimeStamp\n",
       "0  2001        Labor Force         US  144958564.0 2001-01-01\n",
       "1  2001           Employed         US  138798222.0 2001-01-01\n",
       "2  2001         Unemployed         US    6183586.0 2001-01-01\n",
       "3  2001  Unemployment Rate         US          4.2 2001-01-01\n",
       "4  2001        Labor Force  Tennessee    2860282.0 2001-01-01"
      ]
     },
     "execution_count": 441,
     "metadata": {},
     "output_type": "execute_result"
    }
   ],
   "source": [
    "data.head()"
   ]
  },
  {
   "cell_type": "code",
   "execution_count": 442,
   "id": "6e20f462",
   "metadata": {},
   "outputs": [],
   "source": [
    "data.to_csv('../../Outputs/JOBSEQ_LAUSMONTHLY.csv', index = False)"
   ]
  },
  {
   "cell_type": "code",
   "execution_count": null,
   "id": "cd948c33",
   "metadata": {},
   "outputs": [],
   "source": []
  }
 ],
 "metadata": {
  "kernelspec": {
   "display_name": "Python 3 (ipykernel)",
   "language": "python",
   "name": "python3"
  },
  "language_info": {
   "codemirror_mode": {
    "name": "ipython",
    "version": 3
   },
   "file_extension": ".py",
   "mimetype": "text/x-python",
   "name": "python",
   "nbconvert_exporter": "python",
   "pygments_lexer": "ipython3",
   "version": "3.8.8"
  }
 },
 "nbformat": 4,
 "nbformat_minor": 5
}
