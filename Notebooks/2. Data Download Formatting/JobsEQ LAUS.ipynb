{
 "cells": [
  {
   "cell_type": "code",
   "execution_count": 1,
   "id": "4cfdfb4f",
   "metadata": {},
   "outputs": [],
   "source": [
    "import pandas as pd\n",
    "import numpy as np\n",
    "import matplotlib.pyplot as plt\n",
    "from functools import reduce\n",
    "pd.set_option('display.max_columns', None)\n",
    "pd.set_option('display.max_rows', None)\n",
    "pd.set_option('display.width', 150)\n",
    "def percentchange(x, y):\n",
    "    try:\n",
    "        return ((x - y)*100/y)\n",
    "    except ZeroDivisionError:\n",
    "        return 0\n",
    "def realchange(x, y):\n",
    "    return x-y\n",
    "def percent(x, y):\n",
    "    return (x/y)*100"
   ]
  },
  {
   "cell_type": "markdown",
   "id": "677cb27e",
   "metadata": {},
   "source": [
    "# LAUS  \n",
    "This outlines how to retrieve labor force statistics from the Local Area Unemployment Statistics via JobsEQ.  \n",
    "\n",
    "Beginning at data explorer, select annual data. Select \"Region\" and populate with US, Tennessee, GNRC, MPO, GNRC Region, and then under GNRC Region \"Counties\". Select \"Year/Month\" data and choose your range (2000 - recent) and then select the value \"Unemployment Rate\".  \n",
    "\n",
    "When you've downloaded this csv, open it and replace the title row with the year (as all of the values are unemployment rates), delete the header and data notes, rename region to \"NAME\", and select all of the rates and make them \"General\" format. You can also quickly delimit the NAMEs to remove the \", Tennessee\" off of the end of the counties and change \"USA\" to \"US\". This can also be done here, of course."
   ]
  },
  {
   "cell_type": "code",
   "execution_count": 10,
   "id": "9536e79f",
   "metadata": {},
   "outputs": [],
   "source": [
    "data = pd.read_csv('../../Data Downloads/JobsEQLAUS.csv')"
   ]
  },
  {
   "cell_type": "code",
   "execution_count": 11,
   "id": "f5343b87",
   "metadata": {},
   "outputs": [],
   "source": [
    "cols = data.columns"
   ]
  },
  {
   "cell_type": "code",
   "execution_count": 12,
   "id": "95890710",
   "metadata": {},
   "outputs": [],
   "source": [
    "data = data.melt(var_name = 'Year', id_vars = ['NAME'], value_vars = cols, value_name = 'Unemployment Rate')"
   ]
  },
  {
   "cell_type": "code",
   "execution_count": 13,
   "id": "1a52decd",
   "metadata": {},
   "outputs": [],
   "source": [
    "data['Unemployment Rate'] = data['Unemployment Rate'] * 100"
   ]
  },
  {
   "cell_type": "code",
   "execution_count": 14,
   "id": "2927d034",
   "metadata": {},
   "outputs": [
    {
     "data": {
      "text/html": [
       "<div>\n",
       "<style scoped>\n",
       "    .dataframe tbody tr th:only-of-type {\n",
       "        vertical-align: middle;\n",
       "    }\n",
       "\n",
       "    .dataframe tbody tr th {\n",
       "        vertical-align: top;\n",
       "    }\n",
       "\n",
       "    .dataframe thead th {\n",
       "        text-align: right;\n",
       "    }\n",
       "</style>\n",
       "<table border=\"1\" class=\"dataframe\">\n",
       "  <thead>\n",
       "    <tr style=\"text-align: right;\">\n",
       "      <th></th>\n",
       "      <th>NAME</th>\n",
       "      <th>Year</th>\n",
       "      <th>Unemployment Rate</th>\n",
       "    </tr>\n",
       "  </thead>\n",
       "  <tbody>\n",
       "    <tr>\n",
       "      <th>0</th>\n",
       "      <td>US</td>\n",
       "      <td>2000</td>\n",
       "      <td>4.049995</td>\n",
       "    </tr>\n",
       "    <tr>\n",
       "      <th>1</th>\n",
       "      <td>Tennessee</td>\n",
       "      <td>2000</td>\n",
       "      <td>3.869428</td>\n",
       "    </tr>\n",
       "    <tr>\n",
       "      <th>2</th>\n",
       "      <td>GNRC</td>\n",
       "      <td>2000</td>\n",
       "      <td>3.151818</td>\n",
       "    </tr>\n",
       "    <tr>\n",
       "      <th>3</th>\n",
       "      <td>MPO</td>\n",
       "      <td>2000</td>\n",
       "      <td>3.068643</td>\n",
       "    </tr>\n",
       "    <tr>\n",
       "      <th>4</th>\n",
       "      <td>GNRC Region</td>\n",
       "      <td>2000</td>\n",
       "      <td>3.167765</td>\n",
       "    </tr>\n",
       "  </tbody>\n",
       "</table>\n",
       "</div>"
      ],
      "text/plain": [
       "          NAME  Year  Unemployment Rate\n",
       "0           US  2000           4.049995\n",
       "1    Tennessee  2000           3.869428\n",
       "2         GNRC  2000           3.151818\n",
       "3          MPO  2000           3.068643\n",
       "4  GNRC Region  2000           3.167765"
      ]
     },
     "execution_count": 14,
     "metadata": {},
     "output_type": "execute_result"
    }
   ],
   "source": [
    "data.head()"
   ]
  },
  {
   "cell_type": "code",
   "execution_count": 15,
   "id": "e130fbc5",
   "metadata": {},
   "outputs": [],
   "source": [
    "data.to_csv('../../Outputs/JOBSEQ_LAUS.csv', index = False)"
   ]
  },
  {
   "cell_type": "code",
   "execution_count": null,
   "id": "884275be",
   "metadata": {},
   "outputs": [],
   "source": []
  },
  {
   "cell_type": "code",
   "execution_count": null,
   "id": "9e4bdfd0",
   "metadata": {},
   "outputs": [],
   "source": []
  }
 ],
 "metadata": {
  "kernelspec": {
   "display_name": "Python 3 (ipykernel)",
   "language": "python",
   "name": "python3"
  },
  "language_info": {
   "codemirror_mode": {
    "name": "ipython",
    "version": 3
   },
   "file_extension": ".py",
   "mimetype": "text/x-python",
   "name": "python",
   "nbconvert_exporter": "python",
   "pygments_lexer": "ipython3",
   "version": "3.8.8"
  }
 },
 "nbformat": 4,
 "nbformat_minor": 5
}
