{
 "cells": [
  {
   "cell_type": "markdown",
   "id": "e995273b",
   "metadata": {},
   "source": [
    "###### Imports and Settings"
   ]
  },
  {
   "cell_type": "code",
   "execution_count": 1,
   "id": "113dc174",
   "metadata": {},
   "outputs": [],
   "source": [
    "import pandas as pd\n",
    "import numpy as np\n",
    "import requests\n",
    "from functools import reduce\n",
    "import matplotlib.pyplot as plt\n",
    "import pickle\n",
    "pd.set_option('display.max_columns', None)\n",
    "pd.set_option('display.max_rows', None)\n",
    "pd.set_option('display.width', 150)"
   ]
  },
  {
   "cell_type": "markdown",
   "id": "9b9d70af",
   "metadata": {},
   "source": [
    "# This notebook outlines the download and formatting process for data from the National Archive of Criminal Justice Data's Uniform Crime Reporting.\n",
    "\n",
    "Go to this page: https://www.icpsr.umich.edu/web/NACJD/series/57/studies?start=0&SERIESQ=57&ARCHIVE=NACJD&PUBLISH_STATUS=PUBLISHED&sort=DATEUPDATED%20desc&rows=50&q=County-Level\n",
    "\n",
    "I don't think there's anything updated since the 2016 data released in 2019.. there are very recent publications from October 2022 so maybe there will be an update soon.\n",
    "\n",
    "### Calculations are made both for Comphrehensive plans at higher geography levels (counties, MPO), but also by block group to identify distressed areas at a granular level."
   ]
  },
  {
   "cell_type": "code",
   "execution_count": null,
   "id": "001f3af6",
   "metadata": {},
   "outputs": [],
   "source": []
  }
 ],
 "metadata": {
  "kernelspec": {
   "display_name": "Python 3 (ipykernel)",
   "language": "python",
   "name": "python3"
  },
  "language_info": {
   "codemirror_mode": {
    "name": "ipython",
    "version": 3
   },
   "file_extension": ".py",
   "mimetype": "text/x-python",
   "name": "python",
   "nbconvert_exporter": "python",
   "pygments_lexer": "ipython3",
   "version": "3.8.5"
  }
 },
 "nbformat": 4,
 "nbformat_minor": 5
}
