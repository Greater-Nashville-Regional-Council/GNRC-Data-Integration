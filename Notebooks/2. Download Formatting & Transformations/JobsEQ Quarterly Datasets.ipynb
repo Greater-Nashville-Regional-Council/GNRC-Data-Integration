{
 "cells": [
  {
   "cell_type": "code",
   "execution_count": 13,
   "id": "50355ff2",
   "metadata": {},
   "outputs": [],
   "source": [
    "import pandas as pd\n",
    "import numpy as np\n",
    "import matplotlib.pyplot as plt\n",
    "from functools import reduce\n",
    "pd.set_option('display.max_columns', None)\n",
    "pd.set_option('display.max_rows', None)\n",
    "pd.set_option('display.width', 150)\n",
    "import datetime\n",
    "pd.options.mode.chained_assignment = None  # default='warn'\n",
    "from warnings import simplefilter\n",
    "simplefilter(action=\"ignore\", category=pd.errors.PerformanceWarning)\n",
    "def percentchange(x, y):\n",
    "    try:\n",
    "        return ((x - y)*100/y)\n",
    "    except ZeroDivisionError:\n",
    "        return 0\n",
    "def realchange(x, y):\n",
    "    return x-y\n",
    "def percent(x, y):\n",
    "    return (x/y)*100"
   ]
  },
  {
   "cell_type": "markdown",
   "id": "0feb8c58",
   "metadata": {},
   "source": [
    "Quarterly Employment During the Heart of COVID 19 Pandemic\n",
    "\n",
    "The Woods & Poole data that is used more at the county level is only used at the place level for total employment projections. This is for consistency. This is a land use model ultimately, so JobsEQ employment is selected to model place level employment for place of work. This data is derived from the QCEW and other inputs so is selected as a better option - both are modeled so we use the one modeled directly from UI claims rather than land use at this granular of a geography.\n",
    "\n",
    "To retrieve data:\n",
    "+ Log into JobsEQ and navigate to the \"Data Explorer\" function  \n",
    "+ go to \"Draft Mode\"\n",
    "+ Select the \"Industry\" dataset, quarterly  \n",
    "+ Select the following dimensions: Region, Industry, Year: fill regions with all geographies including US, State, GNRC (13), MPO (7), GNRC Region (14) and sub all counties, all places  \n",
    "+ Fill the year/quarter with 2019-current (in the future change this to relevant time period if need be)  \n",
    "+ select total and high level industries as listed below:  \n",
    "\n",
    "Industries to Select:  \n",
    "(NAICS Codes)  \n",
    "+ Total - All Industries  \n",
    "+ Construction (23)  \n",
    "+ Manufacturing (31)  \n",
    "+ Information (51)  \n",
    "+ Public Administration (92)  \n",
    "(Custom Created Groups *begin to type them as they appear here and they will appear in the search bar, if not then remake the custom group as described below*)  \n",
    "+ Other/Unclassified (81: Other, Except Public Administration, 99: Unclassified)  \n",
    "+ Leisure & Hospitality (71: Arts, Entertainment, & Recreation, 72: Accommodation & Food Services)   \n",
    "+ Education & Health Services (61: Education, 62: Healthcare & Social Assistance)   \n",
    "+ Professional & Business Services (54: Professional, Scientific, & Technical, 55: Management of Companies & Enterprises, 56: Administrative & Support & Waste Management & Remediation)   \n",
    "+ Financial Activities (52: Finance & Insurance, 53: Real Estate & Rental & Leasing)   \n",
    "+ Trade, Transportation & Utilities (42: Wholesale Trade, 44-45: Retail Trade, 48-49: Transportation & Warehousing, 22: Utilities)  \n",
    "+ Natural Resources & Mining (11: Agricultural Activities, Forestry, Fishing, & Hunting, 21: Mining, Quarrying, Oil & Gas)  \n",
    "\n",
    "+ Select the following values: \"Employment (4Q Moving Average)\"\n",
    "\n",
    "Once it is completed, open and delete the top row that says \"Industry Data\", and adjust so that the column headers reflect the industry, as it is all the same datapoint. Delete the FIPS column. Rename the Region column to NAME and the quarter column to Time, delete the data notes at the bottom. Save as:   \"JobsEQ_IndustryEmploymentCOVIDQuarterly_AllGeos.csv\""
   ]
  },
  {
   "cell_type": "code",
   "execution_count": 8,
   "id": "4879f49c",
   "metadata": {},
   "outputs": [
    {
     "data": {
      "text/html": [
       "<div>\n",
       "<style scoped>\n",
       "    .dataframe tbody tr th:only-of-type {\n",
       "        vertical-align: middle;\n",
       "    }\n",
       "\n",
       "    .dataframe tbody tr th {\n",
       "        vertical-align: top;\n",
       "    }\n",
       "\n",
       "    .dataframe thead th {\n",
       "        text-align: right;\n",
       "    }\n",
       "</style>\n",
       "<table border=\"1\" class=\"dataframe\">\n",
       "  <thead>\n",
       "    <tr style=\"text-align: right;\">\n",
       "      <th></th>\n",
       "      <th>NAME</th>\n",
       "      <th>Time</th>\n",
       "      <th>Total - All Industries</th>\n",
       "      <th>Construction (23)</th>\n",
       "      <th>Manufacturing (31)</th>\n",
       "      <th>Information (51)</th>\n",
       "      <th>Public Administration (92)</th>\n",
       "      <th>Other/Unclassified</th>\n",
       "      <th>Leisure &amp; Hospitality</th>\n",
       "      <th>Education &amp; Health Services</th>\n",
       "      <th>Professional &amp; Business Services</th>\n",
       "      <th>Financial Activities</th>\n",
       "      <th>Trade, Transportation, &amp; Utilities</th>\n",
       "      <th>Natural Resources &amp; Mining</th>\n",
       "    </tr>\n",
       "  </thead>\n",
       "  <tbody>\n",
       "    <tr>\n",
       "      <th>0</th>\n",
       "      <td>USA</td>\n",
       "      <td>2019Q1</td>\n",
       "      <td>158031299.4</td>\n",
       "      <td>9094807.625</td>\n",
       "      <td>13015409.16</td>\n",
       "      <td>3081771.166</td>\n",
       "      <td>7426728.516</td>\n",
       "      <td>7248880.031</td>\n",
       "      <td>17441949.38</td>\n",
       "      <td>35570293.91</td>\n",
       "      <td>23193839.00</td>\n",
       "      <td>8966304.61</td>\n",
       "      <td>30156671.43</td>\n",
       "      <td>2834644.558</td>\n",
       "    </tr>\n",
       "    <tr>\n",
       "      <th>1</th>\n",
       "      <td>USA</td>\n",
       "      <td>2019Q2</td>\n",
       "      <td>158451024.1</td>\n",
       "      <td>9153189.405</td>\n",
       "      <td>13056876.64</td>\n",
       "      <td>3089322.210</td>\n",
       "      <td>7440921.997</td>\n",
       "      <td>7239161.091</td>\n",
       "      <td>17510564.61</td>\n",
       "      <td>35698475.54</td>\n",
       "      <td>23276916.36</td>\n",
       "      <td>8989721.82</td>\n",
       "      <td>30168449.41</td>\n",
       "      <td>2827424.982</td>\n",
       "    </tr>\n",
       "  </tbody>\n",
       "</table>\n",
       "</div>"
      ],
      "text/plain": [
       "  NAME    Time  Total - All Industries  Construction (23)  Manufacturing (31)  Information (51)  Public Administration (92)  Other/Unclassified  \\\n",
       "0  USA  2019Q1             158031299.4        9094807.625         13015409.16       3081771.166                 7426728.516         7248880.031   \n",
       "1  USA  2019Q2             158451024.1        9153189.405         13056876.64       3089322.210                 7440921.997         7239161.091   \n",
       "\n",
       "   Leisure & Hospitality  Education & Health Services  Professional & Business Services  Financial Activities  Trade, Transportation, & Utilities  \\\n",
       "0            17441949.38                  35570293.91                       23193839.00            8966304.61                         30156671.43   \n",
       "1            17510564.61                  35698475.54                       23276916.36            8989721.82                         30168449.41   \n",
       "\n",
       "   Natural Resources & Mining  \n",
       "0                 2834644.558  \n",
       "1                 2827424.982  "
      ]
     },
     "execution_count": 8,
     "metadata": {},
     "output_type": "execute_result"
    }
   ],
   "source": [
    "#import data and examine\n",
    "data = pd.read_csv('../../Data Downloads/JobsEQ_IndustryEmploymentCOVIDQuarterly_AllGeos.csv')\n",
    "data.head(2)"
   ]
  },
  {
   "cell_type": "code",
   "execution_count": 32,
   "id": "17b7b4e9",
   "metadata": {},
   "outputs": [],
   "source": [
    "#data['NAME'] = data['NAME'].str.strip()"
   ]
  },
  {
   "cell_type": "code",
   "execution_count": 9,
   "id": "0e370946",
   "metadata": {},
   "outputs": [],
   "source": [
    "#rename the industry groups\n",
    "data = data.rename(columns = {'Total - All Industries': 'Total', 'Construction (23)': 'Construction', 'Manufacturing (31)': 'Manufacturing', \n",
    "                              'Information (51)': 'Information', 'Public Administration (92)': 'Public Administration'})"
   ]
  },
  {
   "cell_type": "code",
   "execution_count": 10,
   "id": "19a0298a",
   "metadata": {},
   "outputs": [],
   "source": [
    "#name cols as all of the columns and then go from wide to long format with .melt()\n",
    "cols = data.columns\n",
    "data = data.melt(var_name = 'Industry', id_vars = ['NAME', 'Time'], value_vars = cols, value_name = 'Employment')"
   ]
  },
  {
   "cell_type": "code",
   "execution_count": 12,
   "id": "08e0c431",
   "metadata": {},
   "outputs": [
    {
     "data": {
      "text/html": [
       "<div>\n",
       "<style scoped>\n",
       "    .dataframe tbody tr th:only-of-type {\n",
       "        vertical-align: middle;\n",
       "    }\n",
       "\n",
       "    .dataframe tbody tr th {\n",
       "        vertical-align: top;\n",
       "    }\n",
       "\n",
       "    .dataframe thead th {\n",
       "        text-align: right;\n",
       "    }\n",
       "</style>\n",
       "<table border=\"1\" class=\"dataframe\">\n",
       "  <thead>\n",
       "    <tr style=\"text-align: right;\">\n",
       "      <th></th>\n",
       "      <th>NAME</th>\n",
       "      <th>Time</th>\n",
       "      <th>Industry</th>\n",
       "      <th>Employment</th>\n",
       "    </tr>\n",
       "  </thead>\n",
       "  <tbody>\n",
       "    <tr>\n",
       "      <th>0</th>\n",
       "      <td>USA</td>\n",
       "      <td>2019Q1</td>\n",
       "      <td>Total</td>\n",
       "      <td>158031299.4</td>\n",
       "    </tr>\n",
       "    <tr>\n",
       "      <th>1</th>\n",
       "      <td>USA</td>\n",
       "      <td>2019Q2</td>\n",
       "      <td>Total</td>\n",
       "      <td>158451024.1</td>\n",
       "    </tr>\n",
       "  </tbody>\n",
       "</table>\n",
       "</div>"
      ],
      "text/plain": [
       "  NAME    Time Industry   Employment\n",
       "0  USA  2019Q1    Total  158031299.4\n",
       "1  USA  2019Q2    Total  158451024.1"
      ]
     },
     "execution_count": 12,
     "metadata": {},
     "output_type": "execute_result"
    }
   ],
   "source": [
    "data.head(2)"
   ]
  },
  {
   "cell_type": "markdown",
   "id": "1d147946",
   "metadata": {},
   "source": [
    "Use datetime to convert the Time column to a quarterly period.\n",
    "\n",
    "https://stackoverflow.com/questions/53898482/clean-way-to-convert-quarterly-periods-to-datetime-in-pandas"
   ]
  },
  {
   "cell_type": "code",
   "execution_count": 14,
   "id": "d617cb02",
   "metadata": {},
   "outputs": [
    {
     "name": "stderr",
     "output_type": "stream",
     "text": [
      "C:\\Users\\jmccall\\AppData\\Local\\Temp\\ipykernel_13640\\2473378646.py:1: FutureWarning: The default value of regex will change from True to False in a future version.\n",
      "  qs = data['Time'].str.replace(r'(Q\\d) (\\d+)', r'\\2-\\1')\n"
     ]
    }
   ],
   "source": [
    "qs = data['Time'].str.replace(r'(Q\\d) (\\d+)', r'\\2-\\1')"
   ]
  },
  {
   "cell_type": "code",
   "execution_count": 15,
   "id": "d1d7633a",
   "metadata": {},
   "outputs": [],
   "source": [
    "#create a time stamp\n",
    "data['TimeStamp'] = pd.PeriodIndex(qs, freq = 'Q').to_timestamp()"
   ]
  },
  {
   "cell_type": "code",
   "execution_count": 16,
   "id": "b197cf2a",
   "metadata": {},
   "outputs": [
    {
     "name": "stdout",
     "output_type": "stream",
     "text": [
      "<class 'pandas.core.frame.DataFrame'>\n",
      "RangeIndex: 16020 entries, 0 to 16019\n",
      "Data columns (total 5 columns):\n",
      " #   Column      Non-Null Count  Dtype         \n",
      "---  ------      --------------  -----         \n",
      " 0   NAME        16020 non-null  object        \n",
      " 1   Time        16020 non-null  object        \n",
      " 2   Industry    16020 non-null  object        \n",
      " 3   Employment  16020 non-null  float64       \n",
      " 4   TimeStamp   16020 non-null  datetime64[ns]\n",
      "dtypes: datetime64[ns](1), float64(1), object(3)\n",
      "memory usage: 625.9+ KB\n"
     ]
    }
   ],
   "source": [
    "#check that this worked\n",
    "data.info()"
   ]
  },
  {
   "cell_type": "code",
   "execution_count": 17,
   "id": "0bcb130d",
   "metadata": {},
   "outputs": [],
   "source": [
    "#set index to name and transpose to properly rename the geographies, then transpose back and reset index without dropping\n",
    "data = data.set_index('NAME').transpose()\n",
    "data = data.rename(columns = {'Adams city, TN': 'Adams', 'Ashland City town, TN': 'Ashland City', 'Belle Meade city, TN': 'Belle Meade',\n",
    "                                    'Berry Hill city, TN': 'Berry Hill', 'Brentwood city, TN': 'Brentwood', 'Burns town, TN': 'Burns',\n",
    "                                    'Cedar Hill city, TN': 'Cedar Hill', 'Charlotte town, TN': 'Charlotte',\n",
    "                                    'Cheatham County, Tennessee': 'Cheatham County', 'Clarksville city, TN': 'Clarksville',\n",
    "                                    'Columbia city, TN': 'Columbia', 'Coopertown town, TN': 'Coopertown',\n",
    "                                    'Cross Plains city, TN': 'Cross Plains', 'Cumberland City town, TN': 'Cumberland City',\n",
    "                                    'Davidson County, Tennessee': 'Davidson County', 'Dickson city, TN': 'Dickson',\n",
    "                                    'Dickson County, Tennessee': 'Dickson County', 'Dover city, TN': 'Dover',\n",
    "                                    'Eagleville city, TN': 'Eagleville', 'Erin city, TN': 'Erin', 'Fairview city, TN': 'Fairview',\n",
    "                                    'Forest Hills city, TN': 'Forest Hills', 'Franklin city, TN': 'Franklin', 'Gallatin city, TN': 'Gallatin',\n",
    "                                    'Goodlettsville city, TN': 'Goodlettsville', 'Greenbrier town, TN': 'Greenbrier',\n",
    "                                    'Hartsville/Trousdale County, TN': 'Hartsville/Trousdale', 'Hendersonville city, TN': 'Hendersonville',\n",
    "                                    'Houston County, Tennessee': 'Houston County', 'Humphreys County, Tennessee': 'Humphreys County', \n",
    "                                    'Kingston Springs town, TN': 'Kingston Springs', 'La Vergne city, TN': 'La Vergne',\n",
    "                                    'Lebanon city, TN': 'Lebanon', 'McEwen city, TN': 'McEwen','Maury County, Tennessee': 'Maury County',\n",
    "                                    'Millersville city, TN': 'Millersville', 'Mitchellville city, TN': 'Mitchellville',\n",
    "                                    'Montgomery County, Tennessee': 'Montgomery County', 'Mount Juliet city, TN': 'Mount Juliet',\n",
    "                                    'Mount Pleasant city, TN': 'Mount Pleasant', 'Murfreesboro city, TN': 'Murfreesboro',\n",
    "                                    'Nashville-Davidson metropolitan government (balance), TN': 'Nashville', \n",
    "                                    'New Johnsonville city, TN': 'New Johnsonville', 'Nolensville town, TN': 'Nolensville',\n",
    "                                    'Oak Hill city, TN': 'Oak Hill', 'Pegram town, TN': 'Pegram', 'Pleasant View city, TN': 'Pleasant View',\n",
    "                                    'Portland city, TN': 'Portland', 'Ridgetop city, TN': 'Ridgetop','Robertson County, Tennessee': 'Robertson County',\n",
    "                                    'Rutherford County, Tennessee': 'Rutherford County', 'Slayden town, TN': 'Slayden', 'Smyrna town, TN': 'Smyrna',\n",
    "                                    'Spring Hill city, TN': 'Spring Hill', 'Springfield city, TN': 'Springfield',\n",
    "                                    'Stewart County, Tennessee': 'Stewart County', 'Sumner County, Tennessee': 'Sumner County',\n",
    "                                    'Tennessee Ridge town, TN': 'Tennessee Ridge', \"Thompson's Station town, TN\": \"Thompson's Station\",\n",
    "                                    'Trousdale County, Tennessee': 'Trousdale County', 'Vanleer town, TN': 'Vanleer', 'Watertown city, TN': 'Watertown',\n",
    "                                    'Waverly city, TN': 'Waverly', 'Westmoreland town, TN': 'Westmoreland', 'White Bluff town, TN': 'White Bluff',\n",
    "                                    'White House city, TN': 'White House', 'Williamson County, Tennessee': 'Williamson County',\n",
    "                                    'Wilson County, Tennessee': 'Wilson County'})\n",
    "data = data.transpose().reset_index()"
   ]
  },
  {
   "cell_type": "code",
   "execution_count": 22,
   "id": "67d14956",
   "metadata": {},
   "outputs": [
    {
     "data": {
      "text/html": [
       "<div>\n",
       "<style scoped>\n",
       "    .dataframe tbody tr th:only-of-type {\n",
       "        vertical-align: middle;\n",
       "    }\n",
       "\n",
       "    .dataframe tbody tr th {\n",
       "        vertical-align: top;\n",
       "    }\n",
       "\n",
       "    .dataframe thead th {\n",
       "        text-align: right;\n",
       "    }\n",
       "</style>\n",
       "<table border=\"1\" class=\"dataframe\">\n",
       "  <thead>\n",
       "    <tr style=\"text-align: right;\">\n",
       "      <th></th>\n",
       "      <th>NAME</th>\n",
       "      <th>Time</th>\n",
       "      <th>Industry</th>\n",
       "      <th>Employment</th>\n",
       "      <th>TimeStamp</th>\n",
       "    </tr>\n",
       "  </thead>\n",
       "  <tbody>\n",
       "    <tr>\n",
       "      <th>0</th>\n",
       "      <td>USA</td>\n",
       "      <td>2019Q1</td>\n",
       "      <td>Total</td>\n",
       "      <td>158031299.4</td>\n",
       "      <td>2019-01-01</td>\n",
       "    </tr>\n",
       "    <tr>\n",
       "      <th>1</th>\n",
       "      <td>USA</td>\n",
       "      <td>2019Q2</td>\n",
       "      <td>Total</td>\n",
       "      <td>158451024.1</td>\n",
       "      <td>2019-04-01</td>\n",
       "    </tr>\n",
       "    <tr>\n",
       "      <th>2</th>\n",
       "      <td>USA</td>\n",
       "      <td>2019Q3</td>\n",
       "      <td>Total</td>\n",
       "      <td>158927138.5</td>\n",
       "      <td>2019-07-01</td>\n",
       "    </tr>\n",
       "    <tr>\n",
       "      <th>3</th>\n",
       "      <td>USA</td>\n",
       "      <td>2019Q4</td>\n",
       "      <td>Total</td>\n",
       "      <td>159354215.7</td>\n",
       "      <td>2019-10-01</td>\n",
       "    </tr>\n",
       "    <tr>\n",
       "      <th>4</th>\n",
       "      <td>USA</td>\n",
       "      <td>2020Q1</td>\n",
       "      <td>Total</td>\n",
       "      <td>159692496.4</td>\n",
       "      <td>2020-01-01</td>\n",
       "    </tr>\n",
       "  </tbody>\n",
       "</table>\n",
       "</div>"
      ],
      "text/plain": [
       "  NAME    Time Industry   Employment  TimeStamp\n",
       "0  USA  2019Q1    Total  158031299.4 2019-01-01\n",
       "1  USA  2019Q2    Total  158451024.1 2019-04-01\n",
       "2  USA  2019Q3    Total  158927138.5 2019-07-01\n",
       "3  USA  2019Q4    Total  159354215.7 2019-10-01\n",
       "4  USA  2020Q1    Total  159692496.4 2020-01-01"
      ]
     },
     "execution_count": 22,
     "metadata": {},
     "output_type": "execute_result"
    }
   ],
   "source": [
    "data.head()"
   ]
  },
  {
   "cell_type": "code",
   "execution_count": 21,
   "id": "67c1d460",
   "metadata": {},
   "outputs": [],
   "source": [
    "data.to_feather('../../Outputs/JobsEQ_QuarterlyData')"
   ]
  },
  {
   "cell_type": "code",
   "execution_count": null,
   "id": "7c290e73",
   "metadata": {},
   "outputs": [],
   "source": []
  }
 ],
 "metadata": {
  "kernelspec": {
   "display_name": "Python 3 (ipykernel)",
   "language": "python",
   "name": "python3"
  },
  "language_info": {
   "codemirror_mode": {
    "name": "ipython",
    "version": 3
   },
   "file_extension": ".py",
   "mimetype": "text/x-python",
   "name": "python",
   "nbconvert_exporter": "python",
   "pygments_lexer": "ipython3",
   "version": "3.8.8"
  }
 },
 "nbformat": 4,
 "nbformat_minor": 5
}
