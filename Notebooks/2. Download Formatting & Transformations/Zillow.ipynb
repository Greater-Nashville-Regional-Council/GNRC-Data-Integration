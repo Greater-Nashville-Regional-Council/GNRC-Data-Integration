{
 "cells": [
  {
   "cell_type": "markdown",
   "id": "5438ed6c",
   "metadata": {},
   "source": [
    "###### Imports and Settings"
   ]
  },
  {
   "cell_type": "code",
   "execution_count": 1,
   "id": "3b4d1146",
   "metadata": {},
   "outputs": [],
   "source": [
    "import pandas as pd\n",
    "import numpy as np\n",
    "import requests\n",
    "from functools import reduce\n",
    "import matplotlib.pyplot as plt\n",
    "pd.set_option('display.max_columns', None)\n",
    "pd.set_option('display.max_rows', None)\n",
    "pd.set_option('display.width', 150)"
   ]
  },
  {
   "cell_type": "markdown",
   "id": "a526d578",
   "metadata": {},
   "source": [
    "# This notebook outlines the download and formatting process for the Zillow Home Value and Rental indices for counties and places in the GNRC operating region.  \n",
    "\n",
    "Go to this page: https://www.zillow.com/research/data/  \n",
    "\n",
    "+ Under \"HOME VALUES\", select Data Type \"ZHVI All Homes (SFR, Condo/Co-op) Time Series, Smoothed, Seasonally Adjusted\" and download this for Metro & US, State, County, and City. \n",
    "+ Under \"RENTALS\", select Data Type \"ZORI (Smoothed, Seasonally Adjusted): All Homes Plus Multifamily Time Series\" and download this for Metro & US, County, and City (State is not currently available).   \n",
    "\n",
    "### Save these csvs as they come in the Data Downloads folder of Parent Data Gathering"
   ]
  },
  {
   "cell_type": "code",
   "execution_count": 2,
   "id": "16d59136",
   "metadata": {},
   "outputs": [],
   "source": [
    "hv_metrous = pd.read_csv('../../Data Downloads/Zillow_MetroUS_ZHVI.csv')\n",
    "hv_state = pd.read_csv('../../Data Downloads/Zillow_State_ZHVI.csv')\n",
    "hv_county = pd.read_csv('../../Data Downloads/Zillow_County_ZHVI.csv')\n",
    "hv_place = pd.read_csv('../../Data Downloads/Zillow_City_ZHVI.csv')\n",
    "rental_metrous = pd.read_csv('../../Data Downloads/Zillow_MetroUS_ZORI.csv')\n",
    "rental_county = pd.read_csv('../../Data Downloads/Zillow_County_ZORI.csv')\n",
    "rental_place = pd.read_csv('../../Data Downloads/Zillow_City_ZORI.csv')"
   ]
  },
  {
   "cell_type": "markdown",
   "id": "b8a84032",
   "metadata": {},
   "source": [
    "The county codes are not FIPS codes, unsure what they are but our region contains the following:\n",
    "Cheatham:2185, Davidson:2243, Dickson:1668 , Houston:1784, Humphreys:2728, Macon:623, Maury:632, Montgomery:2982, Robertson:2834, Rutherford:3016, Sumner:1407, Stewart:2044, Trousdale:2856, Williamson:3080, Wilson:1496, (KY) Allen:369 , (KY) Simpson:2028"
   ]
  },
  {
   "cell_type": "code",
   "execution_count": 3,
   "id": "cd99644f",
   "metadata": {},
   "outputs": [],
   "source": [
    "#filter down the metro and us files to include only the US and the Nashville and Clarksville MSAs\n",
    "metrous = [102001, 394902, 394471]\n",
    "hv_metrous = hv_metrous.loc[hv_metrous['RegionID'].isin(metrous)].reset_index(drop = True)\n",
    "rental_metrous = rental_metrous.loc[rental_metrous['RegionID'].isin(metrous)].reset_index(drop = True)\n",
    "#filter the one state file\n",
    "hv_state = hv_state.loc[hv_state['RegionID'] == 53].reset_index(drop = True)\n",
    "#filter the county files, Simpson Co KY is RegionID 2028, but doesn't have associated data until recent years so not including for now\n",
    "counties = [2185, 2243, 1668, 1784, 2728, 623, 632, 2982, 2834, 3016, 1407, 2044, 2856, 3080, 1496, 369]\n",
    "hv_county = hv_county.loc[hv_county['RegionID'].isin(counties)].reset_index(drop = True)\n",
    "rental_county = rental_county.loc[rental_county['RegionID'].isin(counties)].reset_index(drop = True)\n",
    "#filter the place files\n",
    "places = [41932, 30583, 10843, 30993, 49233, 45339, 11564, 32006, 46091, 25534, 42878, 39894, 19523, 6118, 26161, 54450, 7208, 27227, 29482, 41690]\n",
    "hv_place = hv_place.loc[hv_place['RegionID'].isin(places)].reset_index(drop = True)\n",
    "rental_place = rental_place.loc[rental_place['RegionID'].isin(places)].reset_index(drop = True)"
   ]
  },
  {
   "cell_type": "markdown",
   "id": "67c90ee8",
   "metadata": {},
   "source": [
    "## Fix up home value DFs"
   ]
  },
  {
   "cell_type": "code",
   "execution_count": 4,
   "id": "68722351",
   "metadata": {},
   "outputs": [],
   "source": [
    "hv_place = hv_place.drop(columns = ['RegionID', 'SizeRank', 'RegionType', 'StateName', 'State', 'Metro', 'CountyName']).set_index(('RegionName'))\n",
    "hv_county = hv_county.drop(columns = ['RegionID', 'SizeRank', 'RegionType', 'StateName', 'State', 'Metro', 'StateCodeFIPS', 'MunicipalCodeFIPS']).set_index(('RegionName'))\n",
    "hv_state = hv_state.drop(columns = ['RegionID', 'SizeRank', 'RegionType', 'StateName']).set_index(('RegionName'))\n",
    "hv_metrous = hv_metrous.drop(columns = ['RegionID', 'SizeRank', 'RegionType', 'StateName']).set_index(('RegionName'))"
   ]
  },
  {
   "cell_type": "code",
   "execution_count": 5,
   "id": "7daf529a",
   "metadata": {},
   "outputs": [
    {
     "name": "stderr",
     "output_type": "stream",
     "text": [
      "C:\\Users\\jmccall\\AppData\\Local\\Temp\\ipykernel_15976\\149607417.py:5: FutureWarning: The frame.append method is deprecated and will be removed from pandas in a future version. Use pandas.concat instead.\n",
      "  emptyframe = emptyframe.append(df)\n",
      "C:\\Users\\jmccall\\AppData\\Local\\Temp\\ipykernel_15976\\149607417.py:5: FutureWarning: The frame.append method is deprecated and will be removed from pandas in a future version. Use pandas.concat instead.\n",
      "  emptyframe = emptyframe.append(df)\n",
      "C:\\Users\\jmccall\\AppData\\Local\\Temp\\ipykernel_15976\\149607417.py:5: FutureWarning: The frame.append method is deprecated and will be removed from pandas in a future version. Use pandas.concat instead.\n",
      "  emptyframe = emptyframe.append(df)\n",
      "C:\\Users\\jmccall\\AppData\\Local\\Temp\\ipykernel_15976\\149607417.py:5: FutureWarning: The frame.append method is deprecated and will be removed from pandas in a future version. Use pandas.concat instead.\n",
      "  emptyframe = emptyframe.append(df)\n"
     ]
    }
   ],
   "source": [
    "frame = [hv_place, hv_county, hv_state, hv_metrous]\n",
    "emptyframe = pd.DataFrame()\n",
    "\n",
    "for df in frame:\n",
    "    emptyframe = emptyframe.append(df)\n",
    "    \n",
    "hvs = emptyframe"
   ]
  },
  {
   "cell_type": "code",
   "execution_count": 6,
   "id": "d3176d40",
   "metadata": {},
   "outputs": [],
   "source": [
    "data = hvs.transpose().reset_index().rename(columns = {'index':'NAME'})"
   ]
  },
  {
   "cell_type": "code",
   "execution_count": 7,
   "id": "6fefcb8c",
   "metadata": {},
   "outputs": [],
   "source": [
    "year = data['NAME'].str.split(pat = \"-\", expand = True)\n",
    "data['Year'] = year[0]"
   ]
  },
  {
   "cell_type": "code",
   "execution_count": 8,
   "id": "2d7c0ebe",
   "metadata": {},
   "outputs": [],
   "source": [
    "\n",
    "GNRCCounties = [data['Stewart County'], data['Montgomery County'], data['Houston County'], data['Humphreys County'],\n",
    "                data['Dickson County'], data['Cheatham County'], data['Robertson County'],\n",
    "                data['Sumner County'], data['Davidson County'],data['Wilson County'],\n",
    "                data['Trousdale County'],data['Williamson County'], data['Rutherford County']]\n",
    "data['GNRC'] = sum(GNRCCounties)\n",
    "GNRCCountiesAll = [data['Stewart County'], data['Montgomery County'], data['Houston County'], data['Humphreys County'],\n",
    "                   data['Dickson County'], data['Cheatham County'], data['Robertson County'],\n",
    "                   data['Sumner County'], data['Davidson County'],data['Wilson County'],\n",
    "                   data['Trousdale County'],data['Williamson County'], data['Rutherford County'], data['Maury County']]\n",
    "data['GNRC Region'] = sum(GNRCCountiesAll)\n",
    "MPOCounties = [data['Robertson County'], data['Sumner County'], data['Davidson County'], data['Wilson County'], data['Williamson County'], \n",
    "              data['Rutherford County'], data['Maury County']]\n",
    "data['MPO'] = sum(MPOCounties)"
   ]
  },
  {
   "cell_type": "code",
   "execution_count": 9,
   "id": "f16c9db5",
   "metadata": {},
   "outputs": [],
   "source": [
    "data = data.rename(columns = {'Nashville': 'Nashville-Davidson metropolitan government (balance), Tennessee', 'Murfreesboro': 'Murfreesboro city, Tennessee',\n",
    "                              'Clarksville': 'Clarksville city, Tennessee', 'Franklin': 'Franklin city, Tennessee', \n",
    "                              'Hendersonville': 'Hendersonville city, Tennessee', 'Lebanon': 'Lebanon city, Tennessee', \n",
    "                              'Columbia': 'Columbia city, Tennessee', 'Smyrna': 'Smyrna town, Tennessee', 'Mount Juliet': 'Mount Juliet city, Tennessee', \n",
    "                              'Gallatin': 'Gallatin city, Tennessee', 'Brentwood': 'Brentwood city, Tennessee', \n",
    "                              'Spring Hill': 'Spring Hill city, Tennessee', 'La Vergne': 'La Vergne city, Tennessee', \n",
    "                              'Nolensville': 'Nolensville town, Tennessee', 'Ashland City': 'Ashland City town, Tennessee', \n",
    "                              'White House': 'White House city, Tennessee', 'Fairview': 'Fairview city, Tennessee', \n",
    "                              'Thompsons Station': \"Thompson's Station town, Tennessee\", 'Millersville': 'Millersville city, Tennessee', \n",
    "                              'Davidson County': 'Davidson County, Tennessee', 'Rutherford County': 'Rutherford County, Tennessee',\n",
    "                              'Williamson County': 'Williamson County, Tennessee', 'Montgomery County': 'Montgomery County, Tennessee',\n",
    "                              'Sumner County': 'Sumner County, Tennessee', 'Wilson County': 'Wilson County, Tennessee',\n",
    "                              'Maury County': 'Maury County, Tennessee', 'Robertson County': 'Robertson County, Tennessee',\n",
    "                              'Dickson County': 'Dickson County, Tennessee', 'Cheatham County': 'Cheatham County, Tennessee',\n",
    "                              'Macon County': 'Macon County, Tennessee', 'Allen County': 'Allen County, Tennessee',\n",
    "                              'Humphreys County': 'Humphreys County, Tennessee', 'Stewart County': 'Stewart County, Tennessee',\n",
    "                              'Trousdale County': 'Trousdale County, Tennessee', 'Houston County': 'Houston County, Tennessee',\n",
    "                              'Nashville, TN': 'Nashville MSA', 'Clarksville, TN': 'Clarksville MSA'})"
   ]
  },
  {
   "cell_type": "code",
   "execution_count": 10,
   "id": "5d04b3a3",
   "metadata": {},
   "outputs": [
    {
     "data": {
      "text/html": [
       "<div>\n",
       "<style scoped>\n",
       "    .dataframe tbody tr th:only-of-type {\n",
       "        vertical-align: middle;\n",
       "    }\n",
       "\n",
       "    .dataframe tbody tr th {\n",
       "        vertical-align: top;\n",
       "    }\n",
       "\n",
       "    .dataframe thead th {\n",
       "        text-align: right;\n",
       "    }\n",
       "</style>\n",
       "<table border=\"1\" class=\"dataframe\">\n",
       "  <thead>\n",
       "    <tr style=\"text-align: right;\">\n",
       "      <th></th>\n",
       "      <th>NAME</th>\n",
       "      <th>Year</th>\n",
       "      <th>Home Value</th>\n",
       "    </tr>\n",
       "  </thead>\n",
       "  <tbody>\n",
       "    <tr>\n",
       "      <th>0</th>\n",
       "      <td>Nashville-Davidson metropolitan government (ba...</td>\n",
       "      <td>2000</td>\n",
       "      <td>143116.250000</td>\n",
       "    </tr>\n",
       "    <tr>\n",
       "      <th>1</th>\n",
       "      <td>Murfreesboro city, Tennessee</td>\n",
       "      <td>2000</td>\n",
       "      <td>133682.583333</td>\n",
       "    </tr>\n",
       "    <tr>\n",
       "      <th>2</th>\n",
       "      <td>Clarksville city, Tennessee</td>\n",
       "      <td>2000</td>\n",
       "      <td>117695.333333</td>\n",
       "    </tr>\n",
       "    <tr>\n",
       "      <th>3</th>\n",
       "      <td>Franklin city, Tennessee</td>\n",
       "      <td>2000</td>\n",
       "      <td>242765.416667</td>\n",
       "    </tr>\n",
       "    <tr>\n",
       "      <th>4</th>\n",
       "      <td>Hendersonville city, Tennessee</td>\n",
       "      <td>2000</td>\n",
       "      <td>174455.166667</td>\n",
       "    </tr>\n",
       "  </tbody>\n",
       "</table>\n",
       "</div>"
      ],
      "text/plain": [
       "                                                NAME  Year     Home Value\n",
       "0  Nashville-Davidson metropolitan government (ba...  2000  143116.250000\n",
       "1                       Murfreesboro city, Tennessee  2000  133682.583333\n",
       "2                        Clarksville city, Tennessee  2000  117695.333333\n",
       "3                           Franklin city, Tennessee  2000  242765.416667\n",
       "4                     Hendersonville city, Tennessee  2000  174455.166667"
      ]
     },
     "execution_count": 10,
     "metadata": {},
     "output_type": "execute_result"
    }
   ],
   "source": [
    "data = data.groupby(['Year']).mean()\n",
    "data = data.transpose().reset_index()\n",
    "data = data.rename(columns = {'RegionName':'NAME'})\n",
    "data = data.set_index('NAME')\n",
    "data = data.melt(value_name = 'Home Value', ignore_index = False)\n",
    "hv = data.reset_index()\n",
    "hv.head()"
   ]
  },
  {
   "cell_type": "markdown",
   "id": "e899f135",
   "metadata": {},
   "source": [
    "## Fix Up Rental DFs"
   ]
  },
  {
   "cell_type": "code",
   "execution_count": 11,
   "id": "fb9ec1bd",
   "metadata": {},
   "outputs": [],
   "source": [
    "rental_place = rental_place.drop(columns = ['RegionID', 'SizeRank', 'RegionType', 'StateName', 'State', 'Metro', 'CountyName']).set_index(('RegionName'))\n",
    "rental_county= rental_county.drop(columns = ['RegionID', 'SizeRank', 'RegionType', 'StateName', 'State', 'Metro', 'StateCodeFIPS', 'MunicipalCodeFIPS']).set_index(('RegionName'))\n",
    "rental_metrous = rental_metrous.drop(columns = ['RegionID', 'SizeRank', 'RegionType', 'StateName']).set_index(('RegionName'))"
   ]
  },
  {
   "cell_type": "code",
   "execution_count": 12,
   "id": "3a18885d",
   "metadata": {},
   "outputs": [
    {
     "name": "stderr",
     "output_type": "stream",
     "text": [
      "C:\\Users\\jmccall\\AppData\\Local\\Temp\\ipykernel_15976\\3010336195.py:5: FutureWarning: The frame.append method is deprecated and will be removed from pandas in a future version. Use pandas.concat instead.\n",
      "  emptyframe = emptyframe.append(df)\n",
      "C:\\Users\\jmccall\\AppData\\Local\\Temp\\ipykernel_15976\\3010336195.py:5: FutureWarning: The frame.append method is deprecated and will be removed from pandas in a future version. Use pandas.concat instead.\n",
      "  emptyframe = emptyframe.append(df)\n",
      "C:\\Users\\jmccall\\AppData\\Local\\Temp\\ipykernel_15976\\3010336195.py:5: FutureWarning: The frame.append method is deprecated and will be removed from pandas in a future version. Use pandas.concat instead.\n",
      "  emptyframe = emptyframe.append(df)\n"
     ]
    }
   ],
   "source": [
    "frame = [rental_place, rental_county, rental_metrous]\n",
    "emptyframe = pd.DataFrame()\n",
    "\n",
    "for df in frame:\n",
    "    emptyframe = emptyframe.append(df)\n",
    "    \n",
    "rental = emptyframe"
   ]
  },
  {
   "cell_type": "code",
   "execution_count": 13,
   "id": "5e3046b5",
   "metadata": {},
   "outputs": [],
   "source": [
    "data = rental.transpose().reset_index().rename(columns = {'index':'NAME'})"
   ]
  },
  {
   "cell_type": "code",
   "execution_count": 14,
   "id": "5ce414f8",
   "metadata": {},
   "outputs": [],
   "source": [
    "year = data['NAME'].str.split(pat = \"-\", expand = True)\n",
    "data['Year'] = year[0]"
   ]
  },
  {
   "cell_type": "code",
   "execution_count": 15,
   "id": "9f985a29",
   "metadata": {},
   "outputs": [],
   "source": [
    "#No Stewart County, Houston County, Humphreys County, Dickson County , or Trousdale County data\n",
    "GNRCCounties = [data['Montgomery County'], \n",
    "                data['Cheatham County'], data['Robertson County'],\n",
    "                data['Sumner County'], data['Davidson County'],data['Wilson County'],\n",
    "                data['Williamson County'], data['Rutherford County']]\n",
    "data['GNRC'] = sum(GNRCCounties)\n",
    "GNRCCountiesAll = [data['Montgomery County'], \n",
    "                   data['Cheatham County'], data['Robertson County'],\n",
    "                   data['Sumner County'], data['Davidson County'],data['Wilson County'],\n",
    "                   data['Williamson County'], data['Rutherford County'], data['Maury County']]\n",
    "data['GNRC Region'] = sum(GNRCCountiesAll)\n",
    "MPOCounties = [data['Robertson County'], data['Sumner County'], data['Davidson County'], data['Wilson County'], data['Williamson County'], \n",
    "              data['Rutherford County'], data['Maury County']]\n",
    "data['MPO'] = sum(MPOCounties)"
   ]
  },
  {
   "cell_type": "code",
   "execution_count": 16,
   "id": "7f09d845",
   "metadata": {},
   "outputs": [],
   "source": [
    "data = data.rename(columns = {'Nashville': 'Nashville-Davidson metropolitan government (balance), Tennessee', 'Murfreesboro': 'Murfreesboro city, Tennessee',\n",
    "                              'Clarksville': 'Clarksville city, Tennessee', 'Franklin': 'Franklin city, Tennessee', \n",
    "                              'Hendersonville': 'Hendersonville city, Tennessee', 'Lebanon': 'Lebanon city, Tennessee', \n",
    "                              'Columbia': 'Columbia city, Tennessee', 'Smyrna': 'Smyrna town, Tennessee', 'Mount Juliet': 'Mount Juliet city, Tennessee', \n",
    "                              'Gallatin': 'Gallatin city, Tennessee', 'Brentwood': 'Brentwood city, Tennessee', \n",
    "                              'Spring Hill': 'Spring Hill city, Tennessee', 'La Vergne': 'La Vergne city, Tennessee', \n",
    "                              'Nolensville': 'Nolensville town, Tennessee', 'Ashland City': 'Ashland City town, Tennessee', \n",
    "                              'White House': 'White House city, Tennessee', 'Fairview': 'Fairview city, Tennessee', \n",
    "                              'Thompsons Station': \"Thompson's Station town, Tennessee\", 'Millersville': 'Millersville city, Tennessee', \n",
    "                              'Davidson County': 'Davidson County, Tennessee', 'Rutherford County': 'Rutherford County, Tennessee',\n",
    "                              'Williamson County': 'Williamson County, Tennessee', 'Montgomery County': 'Montgomery County, Tennessee',\n",
    "                              'Sumner County': 'Sumner County, Tennessee', 'Wilson County': 'Wilson County, Tennessee',\n",
    "                              'Maury County': 'Maury County, Tennessee', 'Robertson County': 'Robertson County, Tennessee',\n",
    "                              'Dickson County': 'Dickson County, Tennessee', 'Cheatham County': 'Cheatham County, Tennessee',\n",
    "                              'Macon County': 'Macon County, Tennessee', 'Allen County': 'Allen County, Tennessee',\n",
    "                              'Humphreys County': 'Humphreys County, Tennessee', 'Stewart County': 'Stewart County, Tennessee',\n",
    "                              'Trousdale County': 'Trousdale County, Tennessee', 'Houston County': 'Houston County, Tennessee',\n",
    "                              'Nashville, TN': 'Nashville MSA', 'Clarksville, TN': 'Clarksville MSA'})"
   ]
  },
  {
   "cell_type": "code",
   "execution_count": 17,
   "id": "27ed119f",
   "metadata": {},
   "outputs": [
    {
     "data": {
      "text/html": [
       "<div>\n",
       "<style scoped>\n",
       "    .dataframe tbody tr th:only-of-type {\n",
       "        vertical-align: middle;\n",
       "    }\n",
       "\n",
       "    .dataframe tbody tr th {\n",
       "        vertical-align: top;\n",
       "    }\n",
       "\n",
       "    .dataframe thead th {\n",
       "        text-align: right;\n",
       "    }\n",
       "</style>\n",
       "<table border=\"1\" class=\"dataframe\">\n",
       "  <thead>\n",
       "    <tr style=\"text-align: right;\">\n",
       "      <th></th>\n",
       "      <th>NAME</th>\n",
       "      <th>Year</th>\n",
       "      <th>Average Rent</th>\n",
       "    </tr>\n",
       "  </thead>\n",
       "  <tbody>\n",
       "    <tr>\n",
       "      <th>0</th>\n",
       "      <td>Nashville-Davidson metropolitan government (ba...</td>\n",
       "      <td>2015</td>\n",
       "      <td>1237.522741</td>\n",
       "    </tr>\n",
       "    <tr>\n",
       "      <th>1</th>\n",
       "      <td>Murfreesboro city, Tennessee</td>\n",
       "      <td>2015</td>\n",
       "      <td>1235.929405</td>\n",
       "    </tr>\n",
       "    <tr>\n",
       "      <th>2</th>\n",
       "      <td>Clarksville city, Tennessee</td>\n",
       "      <td>2015</td>\n",
       "      <td>965.920467</td>\n",
       "    </tr>\n",
       "    <tr>\n",
       "      <th>3</th>\n",
       "      <td>Franklin city, Tennessee</td>\n",
       "      <td>2015</td>\n",
       "      <td>1416.132261</td>\n",
       "    </tr>\n",
       "    <tr>\n",
       "      <th>4</th>\n",
       "      <td>Hendersonville city, Tennessee</td>\n",
       "      <td>2015</td>\n",
       "      <td>1047.542800</td>\n",
       "    </tr>\n",
       "  </tbody>\n",
       "</table>\n",
       "</div>"
      ],
      "text/plain": [
       "                                                NAME  Year  Average Rent\n",
       "0  Nashville-Davidson metropolitan government (ba...  2015   1237.522741\n",
       "1                       Murfreesboro city, Tennessee  2015   1235.929405\n",
       "2                        Clarksville city, Tennessee  2015    965.920467\n",
       "3                           Franklin city, Tennessee  2015   1416.132261\n",
       "4                     Hendersonville city, Tennessee  2015   1047.542800"
      ]
     },
     "execution_count": 17,
     "metadata": {},
     "output_type": "execute_result"
    }
   ],
   "source": [
    "data = data.groupby(['Year']).mean()\n",
    "data = data.transpose().reset_index()\n",
    "data = data.rename(columns = {'RegionName':'NAME'})\n",
    "data = data.set_index('NAME')\n",
    "data = data.melt(value_name = 'Average Rent', ignore_index = False)\n",
    "rental = data.reset_index()\n",
    "rental.head()"
   ]
  },
  {
   "cell_type": "code",
   "execution_count": 18,
   "id": "bee10c46",
   "metadata": {},
   "outputs": [],
   "source": [
    "df = rental.merge(hv, on = ['NAME', 'Year'], how = 'outer')"
   ]
  },
  {
   "cell_type": "code",
   "execution_count": 19,
   "id": "45c5ea1a",
   "metadata": {},
   "outputs": [],
   "source": [
    "geos = pd.read_csv('../../Data Downloads/geofips.csv')\n",
    "geos['GEO_ID'] = geos['GEO_ID'].fillna('None')"
   ]
  },
  {
   "cell_type": "code",
   "execution_count": 20,
   "id": "ce7f3f04",
   "metadata": {},
   "outputs": [],
   "source": [
    "df = df.merge(geos, how = 'inner')"
   ]
  },
  {
   "cell_type": "code",
   "execution_count": 21,
   "id": "a2f58991",
   "metadata": {},
   "outputs": [],
   "source": [
    "df = df.set_index('NAME').transpose()\n",
    "#rename geographies dict\n",
    "df = df.rename(columns = {'Allen County, Kentucky': 'Allen County, KY', 'Cheatham County, Tennessee': 'Cheatham County', \n",
    "                              'Davidson County, Tennessee': 'Davidson County', 'Dickson County, Tennessee': 'Dickson County', \n",
    "                              'Houston County, Tennessee': 'Houston County', 'Humphreys County, Tennessee': 'Humphreys County', \n",
    "                              'Maury County, Tennessee': 'Maury County', 'Montgomery County, Tennessee': 'Montgomery County', \n",
    "                              'Robertson County, Tennessee': 'Robertson County', 'Rutherford County, Tennessee': 'Rutherford County', \n",
    "                              'Simpson County, Kentucky': 'Simpson County, KY', 'Stewart County, Tennessee': 'Stewart County', \n",
    "                              'Sumner County, Tennessee': 'Sumner County', 'Trousdale County, Tennessee': 'Trousdale County', \n",
    "                              'Williamson County, Tennessee': 'Williamson County', 'Wilson County, Tennessee': 'Wilson County', \n",
    "                              'Adams city, Tennessee': 'Adams', 'Ashland City town, Tennessee': 'Ashland City', 'Belle Meade city, Tennessee': 'Belle Meade', \n",
    "                              'Berry Hill city, Tennessee': 'Berry Hill', 'Brentwood city, Tennessee': 'Brentwood', 'Burns town, Tennessee': 'Burns', \n",
    "                              'Cedar Hill city, Tennessee': 'Cedar Hill', 'Charlotte town, Tennessee': 'Charlotte', 'Clarksville city, Tennessee': 'Clarksville', \n",
    "                              'Columbia city, Tennessee': 'Columbia', 'Coopertown town, Tennessee': 'Coopertown', 'Cross Plains city, Tennessee': 'Cross Plains', \n",
    "                              'Cumberland City town, Tennessee': 'Cumberland City', 'Dickson city, Tennessee': 'Dickson', 'Dover city, Tennessee': 'Dover', \n",
    "                              'Eagleville city, Tennessee': 'Eagleville', 'Erin city, Tennessee': 'Erin', 'Fairview city, Tennessee': 'Fairview', \n",
    "                              'Forest Hills city, Tennessee': 'Forest Hills', 'Franklin city, Tennessee': 'Franklin', 'Gallatin city, Tennessee': 'Gallatin', \n",
    "                              'Goodlettsville city, Tennessee': 'Goodlettsville', 'Greenbrier town, Tennessee': 'Greenbrier', \n",
    "                              'Hendersonville city, Tennessee': 'Hendersonville', 'Kingston Springs town, Tennessee': 'Kingston Springs', \n",
    "                              'La Vergne city, Tennessee': 'La Vergne', 'Lafayette city, Tennessee': 'Lafayette', 'Lebanon city, Tennessee': 'Lebanon', \n",
    "                              'McEwen city, Tennessee': 'McEwen', 'Millersville city, Tennessee': 'Millersville', 'Mitchellville city, Tennessee': 'Mitchellville', \n",
    "                              'Mount Juliet city, Tennessee': 'Mount Juliet', 'Mount Pleasant city, Tennessee': 'Mount Pleasant', \n",
    "                              'Murfreesboro city, Tennessee': 'Murfreesboro', 'Nashville-Davidson metropolitan government (balance)': 'Nashville', \n",
    "                              'New Johnsonville city, Tennessee': 'New Johnsonville', 'Nolensville town, Tennessee': 'Nolensville', \n",
    "                              'Oak Hill city, Tennessee': 'Oak Hill', 'Pegram town, Tennessee': 'Pegram', 'Pleasant View city, Tennessee': 'Pleasant View', \n",
    "                              'Portland city, Tennessee': 'Portland', 'Ridgetop city, Tennessee': 'Ridgetop', 'Slayden town, Tennessee': 'Slayden', \n",
    "                              'Smyrna town, Tennessee': 'Smyrna', 'Spring Hill city, Tennessee': 'Spring Hill', 'Springfield city, Tennessee': 'Springfield', \n",
    "                              'Tennessee Ridge town, Tennessee': 'Tennessee Ridge', \"Thompson's Station town, Tennessee\": \"Thompson's Station\", \n",
    "                              'Vanleer town, Tennessee': 'Vanleer', 'Watertown city, Tennessee': 'Watertown', 'Waverly city, Tennessee': 'Waverly', \n",
    "                              'Westmoreland town, Tennessee': 'Westmoreland', 'White Bluff town, Tennessee': 'White Bluff', \n",
    "                              'White House city, Tennessee': 'White House', 'Franklin city, Kentucky': 'Franklin, KY', \n",
    "                              'Scottsville city, Kentucky': 'Scottsville, KY', 'United States': 'US'})\n",
    "df = df.transpose().reset_index(drop = False)"
   ]
  },
  {
   "cell_type": "code",
   "execution_count": 23,
   "id": "0545b4d5",
   "metadata": {},
   "outputs": [
    {
     "data": {
      "text/html": [
       "<div>\n",
       "<style scoped>\n",
       "    .dataframe tbody tr th:only-of-type {\n",
       "        vertical-align: middle;\n",
       "    }\n",
       "\n",
       "    .dataframe tbody tr th {\n",
       "        vertical-align: top;\n",
       "    }\n",
       "\n",
       "    .dataframe thead th {\n",
       "        text-align: right;\n",
       "    }\n",
       "</style>\n",
       "<table border=\"1\" class=\"dataframe\">\n",
       "  <thead>\n",
       "    <tr style=\"text-align: right;\">\n",
       "      <th></th>\n",
       "      <th>NAME</th>\n",
       "      <th>Year</th>\n",
       "      <th>Average Rent</th>\n",
       "      <th>Home Value</th>\n",
       "      <th>GEO_ID</th>\n",
       "    </tr>\n",
       "  </thead>\n",
       "  <tbody>\n",
       "    <tr>\n",
       "      <th>0</th>\n",
       "      <td>Murfreesboro</td>\n",
       "      <td>2015</td>\n",
       "      <td>1235.929405</td>\n",
       "      <td>184979.583333</td>\n",
       "      <td>1600000US4751560</td>\n",
       "    </tr>\n",
       "    <tr>\n",
       "      <th>1</th>\n",
       "      <td>Murfreesboro</td>\n",
       "      <td>2016</td>\n",
       "      <td>1302.142637</td>\n",
       "      <td>206002.416667</td>\n",
       "      <td>1600000US4751560</td>\n",
       "    </tr>\n",
       "    <tr>\n",
       "      <th>2</th>\n",
       "      <td>Murfreesboro</td>\n",
       "      <td>2017</td>\n",
       "      <td>1346.910339</td>\n",
       "      <td>228989.416667</td>\n",
       "      <td>1600000US4751560</td>\n",
       "    </tr>\n",
       "    <tr>\n",
       "      <th>3</th>\n",
       "      <td>Murfreesboro</td>\n",
       "      <td>2018</td>\n",
       "      <td>1403.296663</td>\n",
       "      <td>249646.833333</td>\n",
       "      <td>1600000US4751560</td>\n",
       "    </tr>\n",
       "    <tr>\n",
       "      <th>4</th>\n",
       "      <td>Murfreesboro</td>\n",
       "      <td>2019</td>\n",
       "      <td>1465.377527</td>\n",
       "      <td>261084.416667</td>\n",
       "      <td>1600000US4751560</td>\n",
       "    </tr>\n",
       "  </tbody>\n",
       "</table>\n",
       "</div>"
      ],
      "text/plain": [
       "           NAME  Year Average Rent     Home Value            GEO_ID\n",
       "0  Murfreesboro  2015  1235.929405  184979.583333  1600000US4751560\n",
       "1  Murfreesboro  2016  1302.142637  206002.416667  1600000US4751560\n",
       "2  Murfreesboro  2017  1346.910339  228989.416667  1600000US4751560\n",
       "3  Murfreesboro  2018  1403.296663  249646.833333  1600000US4751560\n",
       "4  Murfreesboro  2019  1465.377527  261084.416667  1600000US4751560"
      ]
     },
     "execution_count": 23,
     "metadata": {},
     "output_type": "execute_result"
    }
   ],
   "source": [
    "df.head()"
   ]
  },
  {
   "cell_type": "code",
   "execution_count": 22,
   "id": "225d5327",
   "metadata": {},
   "outputs": [],
   "source": [
    "df.to_feather('../../Outputs/Zillow')"
   ]
  },
  {
   "cell_type": "code",
   "execution_count": null,
   "id": "0a6f5db3",
   "metadata": {},
   "outputs": [],
   "source": []
  }
 ],
 "metadata": {
  "kernelspec": {
   "display_name": "Python 3 (ipykernel)",
   "language": "python",
   "name": "python3"
  },
  "language_info": {
   "codemirror_mode": {
    "name": "ipython",
    "version": 3
   },
   "file_extension": ".py",
   "mimetype": "text/x-python",
   "name": "python",
   "nbconvert_exporter": "python",
   "pygments_lexer": "ipython3",
   "version": "3.8.8"
  }
 },
 "nbformat": 4,
 "nbformat_minor": 5
}
