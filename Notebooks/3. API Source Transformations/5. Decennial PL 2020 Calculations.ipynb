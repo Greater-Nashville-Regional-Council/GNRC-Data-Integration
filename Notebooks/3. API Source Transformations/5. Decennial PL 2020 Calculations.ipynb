{
 "cells": [
  {
   "cell_type": "markdown",
   "id": "28023ccc",
   "metadata": {},
   "source": [
    "###### Imports and Settings"
   ]
  },
  {
   "cell_type": "code",
   "execution_count": 1,
   "id": "1496778d",
   "metadata": {},
   "outputs": [],
   "source": [
    "import pandas as pd\n",
    "pd.set_option('display.max_columns', None)\n",
    "#pd.set_option('display.max_rows', None)\n",
    "pd.set_option('display.width', 150)\n",
    "from warnings import simplefilter\n",
    "simplefilter(action=\"ignore\", category=pd.errors.PerformanceWarning)\n",
    "import sys\n",
    "sys.path.append(\"..\") # Adds higher directory to python modules path"
   ]
  },
  {
   "cell_type": "code",
   "execution_count": 2,
   "id": "01645e55",
   "metadata": {},
   "outputs": [],
   "source": [
    "import geodict\n",
    "censustocommon = geodict.censustocommon"
   ]
  },
  {
   "cell_type": "code",
   "execution_count": 3,
   "id": "b4a6a8e2",
   "metadata": {},
   "outputs": [],
   "source": [
    "def percent(x, y):\n",
    "    return (x/y)*100"
   ]
  },
  {
   "cell_type": "markdown",
   "id": "9e8bda11",
   "metadata": {},
   "source": [
    "## Calculations"
   ]
  },
  {
   "cell_type": "code",
   "execution_count": 4,
   "id": "cbafe6bb",
   "metadata": {},
   "outputs": [],
   "source": [
    "data = pd.read_feather('../../Raw Data/PL2020')\n",
    "coldropper = data.set_index(['NAME', 'GEO_ID'])"
   ]
  },
  {
   "cell_type": "code",
   "execution_count": 5,
   "id": "98413ec7",
   "metadata": {},
   "outputs": [],
   "source": [
    "#population\n",
    "data['Population'] = data['pop']\n",
    "#race and ethnicity\n",
    "#White Alone\n",
    "data['White Alone'] = data['raceeth_white_alone']\n",
    "data['White Alone %'] = percent(data['White Alone'], data['Population'])\n",
    "#Population not White\n",
    "data['Non-White Population: Race'] = data['Population'] - data['White Alone']\n",
    "#Black or African American Alone \n",
    "data['Black or African American Alone'] = data['raceeth_blackafricanamerican_alone']\n",
    "data['Black or African American Alone %'] = percent(data['Black or African American Alone'], data['Population'])\n",
    "data['Black or African American Alone % Non-White Population'] = percent(data['Black or African American Alone'], data['Non-White Population: Race'])\n",
    "#American Indian and Alaska Native Alone\n",
    "data['American Indian Alaska Native Alone'] = data['raceeth_americanindianalaskanative_alone']\n",
    "data['American Indian Alaska Native Alone %'] = percent(data['American Indian Alaska Native Alone'], data['Population'])\n",
    "data['American Indian Alaska Native Alone % Non-White Population'] = percent(data['American Indian Alaska Native Alone'], data['Non-White Population: Race'])\n",
    "#Asian Alone\n",
    "data['Asian Alone'] = data['raceeth_asian_alone']\n",
    "data['Asian Alone %'] = percent(data['Asian Alone'], data['Population'])\n",
    "data['Asian Alone % Non-White Population'] = percent(data['Asian Alone'], data['Non-White Population: Race'])\n",
    "#Native Hawaiian Other Pacific Islander Alone\n",
    "data['Native Hawaiian Other Pacific Islander Alone'] = data['raceeth_nativehawaiianotherpacificislander_alone']\n",
    "data['Native Hawaiian Other Pacific Islander Alone %'] = percent(data['Native Hawaiian Other Pacific Islander Alone'], data['Population'])\n",
    "data['Native Hawaiian Other Pacific Islander Alone % Non-White Population'] = percent(data['Native Hawaiian Other Pacific Islander Alone'], data['Non-White Population: Race'])\n",
    "#Some Other Race Alone\n",
    "data['Some Other Race Alone'] = data['raceeth_someotherrace_alone']\n",
    "data['Some Other Race Alone %'] = percent(data['Some Other Race Alone'], data['Population'])\n",
    "data['Some Other Race Alone % Non-White Population'] = percent(data['Some Other Race Alone'], data['Non-White Population: Race'])\n",
    "#Two or More Races\n",
    "data['Two or More Races'] = data['raceeth_twoormoreraces']\n",
    "data['Two or More Races %'] = percent(data['Two or More Races'], data['Population'])\n",
    "data['Two or More Races % Non-White Population'] = percent(data['Two or More Races'], data['Non-White Population: Race'])\n",
    "#Hispanic or Latino\n",
    "data['Hispanic or Latino'] = data['raceeth_hispanicorlatino']\n",
    "data['Hispanic or Latino %'] = percent(data['Hispanic or Latino'], data['Population'])\n",
    "#not hispanic or latino\n",
    "data['Not Hispanic or Latino'] = data['Population'] - data['Hispanic or Latino']\n",
    "data['Not Hispanic or Latino %'] = percent(data['Not Hispanic or Latino'], data['Population'])\n",
    "#Data Minority\n",
    "data['Minority'] = data['Population'] - data['raceeth_whitealone_nothispanicorlatino']\n",
    "data['Minority %'] = percent(data['Minority'], data['Population'])\n",
    "#not minority\n",
    "data['White Alone Not Hispanic or Latino'] = data['raceeth_whitealone_nothispanicorlatino']\n",
    "data['White Alone Not Hispanic or Latino %'] = percent(data['White Alone Not Hispanic or Latino'], data['Population'])\n",
    "#occupancy\n",
    "data['Occupancy:Total Households'] = data['occupancy_total_series']\n",
    "data['Occupancy:Occupied Units'] = data['occupancy_occupiedunits']\n",
    "data['Occupancy %:Occupied Units'] = percent(data['Occupancy:Occupied Units'], data['Occupancy:Total Households'])\n",
    "data['Occupancy:Vacant Units'] = data['occupancy_vacantunits']\n",
    "data['Occupancy %:Vacant Units'] = percent(data['Occupancy:Vacant Units'], data['Occupancy:Total Households'])\n",
    "#group quarters\n",
    "data['Group Quarters:Population'] = data['gq_total_series']\n",
    "data['Group Quarters %:Population'] = percent(data['gq_total_series'], data['Population'])\n",
    "data['Group Quarters:Institutionalized'] = data['gq_institutionalized']\n",
    "data['Group Quarters %:Institutionalized'] = percent(data['Group Quarters:Institutionalized'], data['Group Quarters:Population'])\n",
    "data['Group Quarters:Institutionalized, Adults in Correctional Facility'] = data['gq_institutionalized_correctionalfacilityadults']\n",
    "data['Group Quarters % Institutionalized:Adults in Correctional Facility'] = percent(data['Group Quarters:Institutionalized, Adults in Correctional Facility'], \n",
    "                                                                                     data['Group Quarters:Institutionalized'])\n",
    "data['Group Quarters %:Institutionalized Adults in Correctional Facility'] = percent(data['Group Quarters:Institutionalized, Adults in Correctional Facility'], \n",
    "                                                                                     data['Group Quarters:Population'])\n",
    "data['Group Quarters:Institutionalized, Juvenile Facility'] = data['gq_institutionalized_juvenilefacility']\n",
    "data['Group Quarters % Institutionalized:Juvenile Facility'] = percent(data['Group Quarters:Institutionalized, Juvenile Facility'], \n",
    "                                                                        data['Group Quarters:Institutionalized'])\n",
    "data['Group Quarters %:Institutionalized in Juvenile Facility'] = percent(data['Group Quarters:Institutionalized, Juvenile Facility'], \n",
    "                                                                           data['Group Quarters:Population'])\n",
    "data['Group Quarters:Institutionalized, Nursing or Skilled Nursing Facility'] = data['gq_institutionalized_nursingorskillednursingfacility']\n",
    "data['Group Quarters % Institutionalized:Nursing or Skilled Nursing Facility'] = percent(data['Group Quarters:Institutionalized, Nursing or Skilled Nursing Facility'], \n",
    "                                                                        data['Group Quarters:Institutionalized'])\n",
    "data['Group Quarters %:Institutionalized in Nursing or Skilled Nursing Facility'] = percent(data['Group Quarters:Institutionalized, Nursing or Skilled Nursing Facility'], \n",
    "                                                                           data['Group Quarters:Population'])\n",
    "data['Group Quarters:Institutionalized, Other Facility'] = data['gq_institutionalized_other']\n",
    "data['Group Quarters % Institutionalized:Other Facility'] = percent(data['Group Quarters:Institutionalized, Other Facility'], \n",
    "                                                                     data['Group Quarters:Institutionalized'])\n",
    "data['Group Quarters %:Institutionalized in Other Facility'] = percent(data['Group Quarters:Institutionalized, Other Facility'], \n",
    "                                                                        data['Group Quarters:Population'])\n",
    "data['Group Quarters:Noninstitutionalized'] = data['gq_noninstitutionalized']\n",
    "data['Group Quarters %:Noninstitutionalized'] = percent(data['Group Quarters:Institutionalized, Other Facility'], \n",
    "                                                                     data['Group Quarters:Population'])\n",
    "data['Group Quarters:Noninstitutionalized, College or University Student Housing'] = data['gq_noninstitutionalized_collegeoruniversitystudenthousing']\n",
    "data['Group Quarters % Noninstitutionalized:College or University Student Housing'] = percent(data['Group Quarters:Noninstitutionalized, College or University Student Housing'], \n",
    "                                                                     data['Group Quarters:Noninstitutionalized'])\n",
    "data['Group Quarters %:Noninstitutionalized in College or University Student Housing'] = percent(data['Group Quarters:Noninstitutionalized, College or University Student Housing'], \n",
    "                                                                        data['Group Quarters:Population'])\n",
    "data['Group Quarters:Noninstitutionalized, Military Quarters'] = data['gq_noninstitutionalized_militaryquarters']\n",
    "data['Group Quarters % Noninstitutionalized:Military Quarters'] = percent(data['Group Quarters:Noninstitutionalized, Military Quarters'], \n",
    "                                                                     data['Group Quarters:Noninstitutionalized'])\n",
    "data['Group Quarters %:Noninstitutionalized in Military Quarters'] = percent(data['Group Quarters:Noninstitutionalized, Military Quarters'], \n",
    "                                                                        data['Group Quarters:Population'])\n",
    "data['Group Quarters:Noninstitutionalized, Other'] = data['gq_noninstitutionalized_militaryquarters']\n",
    "data['Group Quarters % Noninstitutionalized:Other'] = percent(data['Group Quarters:Noninstitutionalized, Military Quarters'], \n",
    "                                                                     data['Group Quarters:Noninstitutionalized'])\n",
    "data['Group Quarters %:Noninstitutionalized in Other'] = percent(data['Group Quarters:Noninstitutionalized, Military Quarters'], \n",
    "                                                                        data['Group Quarters:Population'])"
   ]
  },
  {
   "cell_type": "code",
   "execution_count": 6,
   "id": "8a145333",
   "metadata": {},
   "outputs": [],
   "source": [
    "cols = coldropper.columns\n",
    "data = data.drop(columns = cols)"
   ]
  },
  {
   "cell_type": "code",
   "execution_count": 7,
   "id": "2012d311",
   "metadata": {},
   "outputs": [],
   "source": [
    "data = data.set_index('NAME').transpose()\n",
    "#rename geographies dict\n",
    "data = data.rename(columns = censustocommon).reset_index(drop = False)"
   ]
  },
  {
   "cell_type": "code",
   "execution_count": 8,
   "id": "c0814e2c",
   "metadata": {},
   "outputs": [],
   "source": [
    "#make sure there is no erroneus median or average data for aggregated regions\n",
    "region_cols = ['GNRC', 'GNRC Region', 'MPO', 'Rutherford Incorporated', 'Rutherford Unincorporated', 'Wilson Incorporated', 'Wilson Unincorporated', \n",
    "               'Cheatham Incorporated', 'Cheatham Unincorporated', 'Dickson Incorporated', 'Dickson Unincorporated', 'Humphreys Incorporated', \n",
    "               'Humphreys Unincorporated', 'Montgomery Incorporated', 'Montgomery Unincorporated']\n",
    "data.loc[data['index'].str.contains('Median', case = False), region_cols] = 0\n",
    "data.loc[data['index'].str.contains('Average', case = False), region_cols] = 0"
   ]
  },
  {
   "cell_type": "code",
   "execution_count": 9,
   "id": "2441ce8a",
   "metadata": {},
   "outputs": [],
   "source": [
    "data = data.set_index('index').transpose().reset_index(drop = False)"
   ]
  },
  {
   "cell_type": "code",
   "execution_count": 10,
   "id": "6a04e131",
   "metadata": {},
   "outputs": [],
   "source": [
    "#make into tidydata\n",
    "data.set_index(['NAME', 'GEO_ID'], inplace = True)\n",
    "cols = data.columns\n",
    "data.reset_index(drop = False, inplace = True)\n",
    "data = data.melt(id_vars = ['NAME', 'GEO_ID'], value_vars = cols, value_name = 'Value', var_name = 'Variable')"
   ]
  },
  {
   "cell_type": "code",
   "execution_count": 11,
   "id": "2fcbee33",
   "metadata": {},
   "outputs": [],
   "source": [
    "data['Source'] = '2020 Decennial PL'"
   ]
  },
  {
   "cell_type": "code",
   "execution_count": 12,
   "id": "8b46e744",
   "metadata": {},
   "outputs": [
    {
     "data": {
      "text/html": [
       "<div>\n",
       "<style scoped>\n",
       "    .dataframe tbody tr th:only-of-type {\n",
       "        vertical-align: middle;\n",
       "    }\n",
       "\n",
       "    .dataframe tbody tr th {\n",
       "        vertical-align: top;\n",
       "    }\n",
       "\n",
       "    .dataframe thead th {\n",
       "        text-align: right;\n",
       "    }\n",
       "</style>\n",
       "<table border=\"1\" class=\"dataframe\">\n",
       "  <thead>\n",
       "    <tr style=\"text-align: right;\">\n",
       "      <th></th>\n",
       "      <th>NAME</th>\n",
       "      <th>GEO_ID</th>\n",
       "      <th>Variable</th>\n",
       "      <th>Value</th>\n",
       "      <th>Source</th>\n",
       "    </tr>\n",
       "  </thead>\n",
       "  <tbody>\n",
       "    <tr>\n",
       "      <th>0</th>\n",
       "      <td>Montgomery County</td>\n",
       "      <td>0500000US47125</td>\n",
       "      <td>Population</td>\n",
       "      <td>220069.0</td>\n",
       "      <td>2020 Decennial PL</td>\n",
       "    </tr>\n",
       "    <tr>\n",
       "      <th>1</th>\n",
       "      <td>Rutherford County</td>\n",
       "      <td>0500000US47149</td>\n",
       "      <td>Population</td>\n",
       "      <td>341486.0</td>\n",
       "      <td>2020 Decennial PL</td>\n",
       "    </tr>\n",
       "    <tr>\n",
       "      <th>2</th>\n",
       "      <td>Sumner County</td>\n",
       "      <td>0500000US47165</td>\n",
       "      <td>Population</td>\n",
       "      <td>196281.0</td>\n",
       "      <td>2020 Decennial PL</td>\n",
       "    </tr>\n",
       "    <tr>\n",
       "      <th>3</th>\n",
       "      <td>Trousdale County</td>\n",
       "      <td>0500000US47169</td>\n",
       "      <td>Population</td>\n",
       "      <td>11615.0</td>\n",
       "      <td>2020 Decennial PL</td>\n",
       "    </tr>\n",
       "    <tr>\n",
       "      <th>4</th>\n",
       "      <td>Williamson County</td>\n",
       "      <td>0500000US47187</td>\n",
       "      <td>Population</td>\n",
       "      <td>247726.0</td>\n",
       "      <td>2020 Decennial PL</td>\n",
       "    </tr>\n",
       "  </tbody>\n",
       "</table>\n",
       "</div>"
      ],
      "text/plain": [
       "                NAME          GEO_ID    Variable     Value             Source\n",
       "0  Montgomery County  0500000US47125  Population  220069.0  2020 Decennial PL\n",
       "1  Rutherford County  0500000US47149  Population  341486.0  2020 Decennial PL\n",
       "2      Sumner County  0500000US47165  Population  196281.0  2020 Decennial PL\n",
       "3   Trousdale County  0500000US47169  Population   11615.0  2020 Decennial PL\n",
       "4  Williamson County  0500000US47187  Population  247726.0  2020 Decennial PL"
      ]
     },
     "execution_count": 12,
     "metadata": {},
     "output_type": "execute_result"
    }
   ],
   "source": [
    "data.head()"
   ]
  },
  {
   "cell_type": "code",
   "execution_count": 13,
   "id": "7fd4327f",
   "metadata": {},
   "outputs": [],
   "source": [
    "data.to_feather('../../Outputs/2020PL')"
   ]
  },
  {
   "cell_type": "code",
   "execution_count": null,
   "id": "564f3ef4",
   "metadata": {},
   "outputs": [],
   "source": []
  },
  {
   "cell_type": "code",
   "execution_count": null,
   "id": "7188a789",
   "metadata": {},
   "outputs": [],
   "source": []
  }
 ],
 "metadata": {
  "kernelspec": {
   "display_name": "Python 3 (ipykernel)",
   "language": "python",
   "name": "python3"
  },
  "language_info": {
   "codemirror_mode": {
    "name": "ipython",
    "version": 3
   },
   "file_extension": ".py",
   "mimetype": "text/x-python",
   "name": "python",
   "nbconvert_exporter": "python",
   "pygments_lexer": "ipython3",
   "version": "3.8.8"
  }
 },
 "nbformat": 4,
 "nbformat_minor": 5
}
