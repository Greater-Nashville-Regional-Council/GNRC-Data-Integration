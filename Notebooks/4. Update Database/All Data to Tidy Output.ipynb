{
 "cells": [
  {
   "cell_type": "code",
   "execution_count": 33,
   "id": "5bf5536c",
   "metadata": {},
   "outputs": [],
   "source": [
    "import pandas as pd\n",
    "import sqlite3 as sq"
   ]
  },
  {
   "cell_type": "code",
   "execution_count": 7,
   "id": "9cb3f91e",
   "metadata": {},
   "outputs": [],
   "source": [
    "CensusBureau_ACS5SUBJ_2000 = pd.read_feather('../../Outputs/CensusBureau_ACS5SUBJ_2000')\n",
    "CensusBureau_ACS5SUBJ_2010 = pd.read_feather('../../Outputs/CensusBureau_ACS5SUBJ_2010')\n",
    "CensusBureau_ACS5SUBJ_2021 = pd.read_feather('../../Outputs/CensusBureau_ACS5SUBJ_2021')\n",
    "CensusBureau_SF1_2000 = pd.read_feather('../../Outputs/CensusBureau_SF1_2000')\n",
    "CensusBureau_SF3_2000 = pd.read_feather('../../Outputs/CensusBureau_SF3_2000')\n",
    "CensusBureau_SF1_2010 = pd.read_feather('../../Outputs/CensusBureau_SF1_2010')\n",
    "CensusBureau_PL_2020 = pd.read_feather('../../Outputs/CensusBureau_PL_2020')\n",
    "CensusBureau_ACS5_2021 = pd.read_feather('../../Outputs/CensusBureau_ACS5_2021')\n",
    "CensusBureau_ACS5_2010 = pd.read_feather('../../Outputs/CensusBureau_ACS5_2010')\n",
    "#  = pd.read_feather('../../Outputs/')\n",
    "#  = pd.read_feather('../../Outputs/')"
   ]
  },
  {
   "cell_type": "code",
   "execution_count": 8,
   "id": "090d8826",
   "metadata": {},
   "outputs": [],
   "source": [
    "dfs = [CensusBureau_ACS5SUBJ_2000, CensusBureau_ACS5SUBJ_2010, CensusBureau_ACS5SUBJ_2021, CensusBureau_SF1_2000, CensusBureau_SF3_2000, \n",
    "       CensusBureau_SF1_2010, CensusBureau_PL_2020, CensusBureau_ACS5_2021, CensusBureau_ACS5_2010]"
   ]
  },
  {
   "cell_type": "code",
   "execution_count": 27,
   "id": "03b13d19",
   "metadata": {},
   "outputs": [],
   "source": [
    "id_vars, value_name, var_name, excluded_cols = ['NAME', 'GEO_ID', 'Source'], 'Value', 'Variable', ['NAME', 'GEO_ID', 'Source']"
   ]
  },
  {
   "cell_type": "code",
   "execution_count": 28,
   "id": "b69fd195",
   "metadata": {},
   "outputs": [],
   "source": [
    "melted_dfs = []\n",
    "for df in dfs:\n",
    "    cols = list(df.drop(excluded_cols, axis = 1).columns)\n",
    "    melted_df = pd.melt(df, id_vars=id_vars, value_vars=cols, var_name=var_name, value_name=value_name)\n",
    "    melted_dfs.append(melted_df)\n",
    "concatted = pd.concat(melted_dfs, ignore_index = True)\n",
    "data = pd.DataFrame(concatted, dtype = str)"
   ]
  },
  {
   "cell_type": "code",
   "execution_count": 31,
   "id": "08f00022",
   "metadata": {},
   "outputs": [
    {
     "data": {
      "text/html": [
       "<div>\n",
       "<style scoped>\n",
       "    .dataframe tbody tr th:only-of-type {\n",
       "        vertical-align: middle;\n",
       "    }\n",
       "\n",
       "    .dataframe tbody tr th {\n",
       "        vertical-align: top;\n",
       "    }\n",
       "\n",
       "    .dataframe thead th {\n",
       "        text-align: right;\n",
       "    }\n",
       "</style>\n",
       "<table border=\"1\" class=\"dataframe\">\n",
       "  <thead>\n",
       "    <tr style=\"text-align: right;\">\n",
       "      <th></th>\n",
       "      <th>NAME</th>\n",
       "      <th>GEO_ID</th>\n",
       "      <th>Source</th>\n",
       "      <th>Variable</th>\n",
       "      <th>Value</th>\n",
       "    </tr>\n",
       "  </thead>\n",
       "  <tbody>\n",
       "    <tr>\n",
       "      <th>364981</th>\n",
       "      <td>Dickson Unincorporated</td>\n",
       "      <td>None</td>\n",
       "      <td>2006-2010 ACS 5YR</td>\n",
       "      <td>Median Home Value Owner Occupied</td>\n",
       "      <td>0.0</td>\n",
       "    </tr>\n",
       "    <tr>\n",
       "      <th>364982</th>\n",
       "      <td>Humphreys Incorporated</td>\n",
       "      <td>None</td>\n",
       "      <td>2006-2010 ACS 5YR</td>\n",
       "      <td>Median Home Value Owner Occupied</td>\n",
       "      <td>0.0</td>\n",
       "    </tr>\n",
       "    <tr>\n",
       "      <th>364983</th>\n",
       "      <td>Humphreys Unincorporated</td>\n",
       "      <td>None</td>\n",
       "      <td>2006-2010 ACS 5YR</td>\n",
       "      <td>Median Home Value Owner Occupied</td>\n",
       "      <td>0.0</td>\n",
       "    </tr>\n",
       "    <tr>\n",
       "      <th>364984</th>\n",
       "      <td>Montgomery Incorporated</td>\n",
       "      <td>None</td>\n",
       "      <td>2006-2010 ACS 5YR</td>\n",
       "      <td>Median Home Value Owner Occupied</td>\n",
       "      <td>0.0</td>\n",
       "    </tr>\n",
       "    <tr>\n",
       "      <th>364985</th>\n",
       "      <td>Montgomery Unincorporated</td>\n",
       "      <td>None</td>\n",
       "      <td>2006-2010 ACS 5YR</td>\n",
       "      <td>Median Home Value Owner Occupied</td>\n",
       "      <td>0.0</td>\n",
       "    </tr>\n",
       "  </tbody>\n",
       "</table>\n",
       "</div>"
      ],
      "text/plain": [
       "                             NAME GEO_ID             Source  \\\n",
       "364981     Dickson Unincorporated   None  2006-2010 ACS 5YR   \n",
       "364982     Humphreys Incorporated   None  2006-2010 ACS 5YR   \n",
       "364983   Humphreys Unincorporated   None  2006-2010 ACS 5YR   \n",
       "364984    Montgomery Incorporated   None  2006-2010 ACS 5YR   \n",
       "364985  Montgomery Unincorporated   None  2006-2010 ACS 5YR   \n",
       "\n",
       "                                Variable Value  \n",
       "364981  Median Home Value Owner Occupied   0.0  \n",
       "364982  Median Home Value Owner Occupied   0.0  \n",
       "364983  Median Home Value Owner Occupied   0.0  \n",
       "364984  Median Home Value Owner Occupied   0.0  \n",
       "364985  Median Home Value Owner Occupied   0.0  "
      ]
     },
     "execution_count": 31,
     "metadata": {},
     "output_type": "execute_result"
    }
   ],
   "source": [
    "data.tail()"
   ]
  },
  {
   "cell_type": "code",
   "execution_count": 35,
   "id": "00b450af",
   "metadata": {},
   "outputs": [
    {
     "data": {
      "text/plain": [
       "364986"
      ]
     },
     "execution_count": 35,
     "metadata": {},
     "output_type": "execute_result"
    }
   ],
   "source": [
    "conn = sq.connect('../../Outputs/DataBank.db')\n",
    "data.to_sql('MasterTidy', conn, if_exists = 'replace', index = False)"
   ]
  },
  {
   "cell_type": "code",
   "execution_count": null,
   "id": "09e5d7bb",
   "metadata": {},
   "outputs": [],
   "source": []
  }
 ],
 "metadata": {
  "kernelspec": {
   "display_name": "Python 3 (ipykernel)",
   "language": "python",
   "name": "python3"
  },
  "language_info": {
   "codemirror_mode": {
    "name": "ipython",
    "version": 3
   },
   "file_extension": ".py",
   "mimetype": "text/x-python",
   "name": "python",
   "nbconvert_exporter": "python",
   "pygments_lexer": "ipython3",
   "version": "3.8.8"
  }
 },
 "nbformat": 4,
 "nbformat_minor": 5
}
